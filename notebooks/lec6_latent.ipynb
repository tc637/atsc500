{
 "cells": [
  {
   "cell_type": "markdown",
   "metadata": {},
   "source": [
    "# Including water vapor in the tropical analysis"
   ]
  },
  {
   "cell_type": "markdown",
   "metadata": {},
   "source": [
    "1.  What do the fluxes of sensible and latent heat look like for the tropical case?\n",
    "\n",
    "1.  Drill down into the data using\n",
    "\n",
    "    a.  Two dimensional histograms\n",
    "    \n",
    "    b.  images with normalized color pallettes"
   ]
  },
  {
   "cell_type": "markdown",
   "metadata": {},
   "source": [
    "## Reading a netcdf file"
   ]
  },
  {
   "cell_type": "markdown",
   "metadata": {},
   "source": [
    "1.  Fetch the netcdf file tropical.nc from my webserver (50 Mbytes)"
   ]
  },
  {
   "cell_type": "code",
   "execution_count": null,
   "metadata": {
    "collapsed": true
   },
   "outputs": [],
   "source": [
    "import urllib.request\n",
    "import numpy as np\n",
    "from netCDF4 import Dataset\n",
    "from matplotlib import pyplot as plt"
   ]
  },
  {
   "cell_type": "markdown",
   "metadata": {},
   "source": [
    "Only download the data once -- set this to True if you need\n",
    "this file, otherwise skip"
   ]
  },
  {
   "cell_type": "code",
   "execution_count": null,
   "metadata": {
    "collapsed": false
   },
   "outputs": [],
   "source": [
    "data_download=True\n",
    "### set this to True if running for the first time\n",
    "if data_download:\n",
    "    urllib.request.urlretrieve(\"http://clouds.eos.ubc.ca/~phil/docs/atsc500/tropical_subset.nc\", \n",
    "                           \"tropical_subset.nc\")"
   ]
  },
  {
   "cell_type": "code",
   "execution_count": null,
   "metadata": {
    "collapsed": true
   },
   "outputs": [],
   "source": [
    "def do_reynolds(array3d):\n",
    "    \"\"\"\n",
    "        do a spatial-mean reynolds average of a 3d field array3d\n",
    "        needs dimensions arranged as (z,y,x)\n",
    "        returns avg(z),perturb(z,y,x)\n",
    "    \"\"\"\n",
    "    avg=array3d.mean(axis=2).mean(axis=1)\n",
    "    perturb=array3d.T - avg\n",
    "    perturb=perturb.T\n",
    "    return avg,perturb"
   ]
  },
  {
   "cell_type": "markdown",
   "metadata": {},
   "source": [
    "2\\.  Identify the file structure using ncdump"
   ]
  },
  {
   "cell_type": "code",
   "execution_count": null,
   "metadata": {
    "collapsed": false
   },
   "outputs": [],
   "source": [
    "!ncdump -h tropical_subset.nc"
   ]
  },
  {
   "cell_type": "markdown",
   "metadata": {},
   "source": [
    "3\\.  Read a variable using the netCDF4 module:  http://unidata.github.io/netcdf4-python/"
   ]
  },
  {
   "cell_type": "code",
   "execution_count": null,
   "metadata": {
    "collapsed": false
   },
   "outputs": [],
   "source": [
    "with Dataset('tropical_subset.nc','r') as nc_in:\n",
    "    print(list(nc_in.variables.keys()))\n",
    "    the_temp=nc_in.variables['TABS'][0,...]  \n",
    "    #\n",
    "    # remove the time dimension since we only have one timestep\n",
    "    #   \n",
    "    print('temp shape',the_temp.shape)\n",
    "    the_height=nc_in.variables['z'][...]\n",
    "    xvals=nc_in.variables['x'][...]\n",
    "    yvals=nc_in.variables['y'][...]\n",
    "    print('height shape',the_height.shape)\n",
    "    the_press=nc_in.variables['p'][...]\n",
    "    the_press=the_press*100.  #convert to Pa\n",
    "    wvel=nc_in.variables['W'][0,...]  #m/s\n",
    "    qv=nc_in.variables['QV'][0,...]  #vapor g/kg\n",
    "    ql=nc_in.variables['QN'][0,...]  #liquid  g/kg\n",
    "  "
   ]
  },
  {
   "cell_type": "markdown",
   "metadata": {},
   "source": [
    "### How much liquid water is in the domain?"
   ]
  },
  {
   "cell_type": "code",
   "execution_count": null,
   "metadata": {
    "collapsed": false
   },
   "outputs": [],
   "source": [
    "bins=np.linspace(0.05,1.5,20)\n",
    "out=plt.hist(ql.flat,bins=bins)\n",
    "plt.title('histogram of cloud lwc (g/kg)')"
   ]
  },
  {
   "cell_type": "markdown",
   "metadata": {},
   "source": [
    "# Plotting three $h_m$ profiles"
   ]
  },
  {
   "cell_type": "markdown",
   "metadata": {},
   "source": [
    "What does $h_m = c_p T + l_v q_v + gz$ look like in the boundary layer?"
   ]
  },
  {
   "cell_type": "code",
   "execution_count": null,
   "metadata": {
    "collapsed": false
   },
   "outputs": [],
   "source": [
    "%matplotlib inline\n",
    "plt.style.use('ggplot')\n",
    "#\n",
    "# plot 3 arbitrary columns\n",
    "#\n",
    "from matplotlib import pyplot as plt\n",
    "import matplotlib\n",
    "meter2km=1.e-3\n",
    "random_xy=[(10,20),(80,40),(25,75)]\n",
    "fig,ax=plt.subplots(1,2,figsize=(10,6))\n",
    "for x,y in random_xy:\n",
    "    temp_profile=the_temp[:,y, x]\n",
    "    qv_profile=qv[:,y, x]\n",
    "    out=ax[0].plot(temp_profile,the_height*meter2km) \n",
    "    out=ax[1].plot(qv_profile,the_height*meter2km) \n",
    "out=ax[0].set(xlabel='temperature (K)',ylabel='height (km)',title='temperature (K)')\n",
    "out=ax[1].set(xlabel='vapor mixing ratio (g/kg)',ylabel='height (km)',title='vapor mixing ratio')"
   ]
  },
  {
   "cell_type": "markdown",
   "metadata": {},
   "source": [
    "### moist static energy (J/kg)"
   ]
  },
  {
   "cell_type": "code",
   "execution_count": null,
   "metadata": {
    "collapsed": false
   },
   "outputs": [],
   "source": [
    "%matplotlib inline\n",
    "#\n",
    "# plot 3 arbitrary columns\n",
    "#\n",
    "from matplotlib import pyplot as plt\n",
    "meter2km=1.e-3\n",
    "lv=2.5e6\n",
    "g=9.8\n",
    "cpd=1004.\n",
    "g2kg=1.e-3\n",
    "random_xy=[(10,20),(80,40),(25,75)]\n",
    "fig,ax=plt.subplots(1,3,figsize=(16,6))\n",
    "for x,y in random_xy:\n",
    "    temp_profile=the_temp[:,y, x]\n",
    "    qv_profile=qv[:,y, x]\n",
    "    hm_profile = cpd*temp_profile + lv*qv_profile*1.e-3 + g*the_height\n",
    "    out=ax[0].plot(temp_profile,the_height*meter2km) \n",
    "    out=ax[1].plot(qv_profile,the_height*meter2km) \n",
    "    out=ax[2].plot(hm_profile*1.e-6,the_height*meter2km) \n",
    "out=ax[0].set(xlabel='temperature (K)',ylabel='height (km)',title='temperature')\n",
    "out=ax[1].set(xlabel='vapor mixing ratio (g/kg)',ylabel='height (km)',title='vapor')\n",
    "out=ax[2].set(xlabel='moist static energy(J/kg)',ylabel='height (km)',title='$h_m$')"
   ]
  },
  {
   "cell_type": "markdown",
   "metadata": {},
   "source": [
    "### zoom in on bottom 1 km"
   ]
  },
  {
   "cell_type": "code",
   "execution_count": null,
   "metadata": {
    "collapsed": false
   },
   "outputs": [],
   "source": [
    "%matplotlib inline\n",
    "#\n",
    "# plot 3 arbitrary columns\n",
    "#\n",
    "from matplotlib import pyplot as plt\n",
    "meter2km=1.e-3\n",
    "lv=2.5e6\n",
    "g=9.8\n",
    "cpd=1004.\n",
    "random_xy=[(10,20),(80,40),(25,75)]\n",
    "fig,ax=plt.subplots(1,3,figsize=(16,6))\n",
    "for x,y in random_xy:\n",
    "    temp_profile=the_temp[:,y, x]\n",
    "    qv_profile=qv[:,y, x]\n",
    "    hm_profile = cpd*temp_profile + lv*qv_profile*1.e-3 + g*the_height\n",
    "    out=ax[0].plot(temp_profile,the_height*meter2km) \n",
    "    out=ax[1].plot(qv_profile,the_height*meter2km) \n",
    "    out=ax[2].plot(hm_profile*1.e-6,the_height*meter2km) \n",
    "out=ax[0].set(xlabel='temperature (K)',ylabel='height (km)',title='temperature')\n",
    "ax[0].set(xlim=(290,300))\n",
    "ax[1].set(xlim=(16,18))\n",
    "ax[2].set(xlim=(0.342,0.344))\n",
    "out=ax[1].set(xlabel='vapor mixing ratio (g/kg)',ylabel='height (km)',title='water vapor')\n",
    "out=ax[2].set(xlabel='moist static energy(J/kg)',ylabel='height (km)',title='$h_m$')\n",
    "for the_ax in ax:\n",
    "    the_ax.set(ylim=(0,0.7))"
   ]
  },
  {
   "cell_type": "markdown",
   "metadata": {},
   "source": [
    "# Calculate the temperature and vapor fluxes"
   ]
  },
  {
   "cell_type": "code",
   "execution_count": null,
   "metadata": {
    "collapsed": false
   },
   "outputs": [],
   "source": [
    "Rd=287  #J/kg/K\n",
    "g2kg = 1.e-3\n",
    "qv_avg,qv_perturb=do_reynolds(qv)\n",
    "temp_avg,temp_perturb=do_reynolds(the_temp)\n",
    "rho_avg=the_press/(Rd*temp_avg)\n",
    "w_avg,w_perturb = do_reynolds(wvel)\n",
    "T_flux=((w_perturb*temp_perturb).T*rho_avg).T*cpd  #W/m^2\n",
    "qv_flux=((w_perturb*qv_perturb).T*rho_avg).T*lv*g2kg #W/m^2\n",
    "T_flux_1d=(T_flux).mean(axis=2).mean(axis=1)\n",
    "qv_flux_1d=(qv_flux).mean(axis=2).mean(axis=1)"
   ]
  },
  {
   "cell_type": "code",
   "execution_count": null,
   "metadata": {
    "collapsed": false
   },
   "outputs": [],
   "source": [
    "fig,ax=plt.subplots(1,2,figsize=(10,6))\n",
    "ax[0].plot(T_flux_1d,the_height*meter2km)  \n",
    "ax[0].set(xlabel='sensible heat flux (W/m^2)',ylabel='height (km)',title='temperature flux')\n",
    "ax[1].plot(qv_flux_1d,the_height*meter2km)  \n",
    "out=ax[1].set(xlabel='latent heat flux (W/m^2)',ylabel='height (km)',title='vapor flux')\n",
    "out=[the_ax.set(ylim=(0,1.5)) for the_ax in ax]"
   ]
  },
  {
   "cell_type": "markdown",
   "metadata": {},
   "source": [
    "### As expected, vapor transport dominates the energy flux in the warm marine boundary layer"
   ]
  },
  {
   "cell_type": "markdown",
   "metadata": {},
   "source": [
    "### Closer examination of fluxes at 800 m\n",
    "\n",
    "1\\.  Look at simple histograms at one level"
   ]
  },
  {
   "cell_type": "code",
   "execution_count": null,
   "metadata": {
    "collapsed": false,
    "scrolled": true
   },
   "outputs": [],
   "source": [
    "#\n",
    "# select the level closest to 800 meters\n",
    "# using searchsorted\n",
    "#\n",
    "zlev=np.searchsorted(the_height,800)\n",
    "ql_800 = ql[zlev,:,:] == 0.\n",
    "T_flux_800 = T_flux[zlev,:,:] #W/m^2\n",
    "qv_flux_800 = qv_flux[zlev,:,:] #W/m^2\n",
    "fig,ax = plt.subplots(1,2,figsize=(16,8))\n",
    "out=ax[0].hist(T_flux_800.flat,bins=np.linspace(-60,60,50))\n",
    "out=ax[1].hist(qv_flux_800.flat,bins=np.linspace(-120,200,50))\n",
    "ax[0].set(title='sensible heat flux at 800 m (W/m^2)')\n",
    "ax[1].set(title='latent heat flux at 800 m (W/m^2)')"
   ]
  },
  {
   "cell_type": "markdown",
   "metadata": {},
   "source": [
    "### now do the same for the turbulent fluxes at that level in W/m^2"
   ]
  },
  {
   "cell_type": "code",
   "execution_count": null,
   "metadata": {
    "collapsed": false
   },
   "outputs": [],
   "source": [
    "wpert_800=w_perturb[zlev,...]\n",
    "Tpert_800=temp_perturb[zlev,...]\n",
    "qvpert_800 = qv_perturb[zlev,...]\n",
    "T_flux800=((wpert_800*Tpert_800)*rho_avg[zlev])*cpd  #W/m^2\n",
    "qv_flux800=((wpert_800*qvpert_800)*rho_avg[zlev])*lv*g2kg #W/m^2\n",
    "print(T_flux800.mean())\n",
    "print(qv_flux800.mean())\n",
    "fig,ax=plt.subplots(1,2,figsize=(16,8))\n",
    "out=ax[0].hist(qv_flux800.flat,bins=np.linspace(-100,100,100))\n",
    "out=ax[1].hist(T_flux800.flat,bins=np.linspace(-100,100,100))\n",
    "[item.set(ylabel='count') for item in ax]\n",
    "ax[0].set(xlabel='vapor flux (W/m^2) at 800 m')\n",
    "ax[1].set(xlabel='temperature flux (W/m^2) at 800 m')"
   ]
  },
  {
   "cell_type": "markdown",
   "metadata": {},
   "source": [
    "###  But there are some gridcells with huge flux values\n",
    "\n",
    "Here's what happens when I don't limit the flux ranges"
   ]
  },
  {
   "cell_type": "code",
   "execution_count": null,
   "metadata": {
    "collapsed": false
   },
   "outputs": [],
   "source": [
    "fig,ax=plt.subplots(1,1)\n",
    "ax.scatter(qv_flux800.flat,T_flux800.flat)\n",
    "ax.set(xlabel=r'latent heat flux (W/m^2)',ylabel=r'sensible heat flux (W m^2)')"
   ]
  },
  {
   "cell_type": "markdown",
   "metadata": {},
   "source": [
    "### So what's up with these large fluxes?\n",
    "\n",
    "The next cell demonstrates how to use logical indexing to find specific datapoints.  See\n",
    "the [numpy documentation](http://docs.scipy.org/doc/numpy/reference/routines.logic.html)\n",
    "for the full list of operators.  \n",
    "\n",
    "Below, I use np.where to get a list of y,x indices where both fluxes are\n",
    "bigger than 1000 W/m^2.  Then I zip them together into a list of pairs using\n",
    "[argument list unpacking](https://docs.python.org/3.4/tutorial/controlflow.html#unpacking-argument-lists)  (also called 'splatting').  The '*' character changes a tuple like\n",
    "a=(1,2,3) into individual arguments in a function call, so that\n",
    "\n",
    "myfun(*a)\n",
    "\n",
    "becomes\n",
    "\n",
    "myfun(1,2,3)\n",
    "\n",
    "and in the same way you can unpack dictionaries into keyword=value with '**':\n",
    "\n",
    "```python\n",
    "args={'one':1,'two':None}\n",
    "myfun(**args)\n",
    "\n",
    "becomes\n",
    "\n",
    "myfun(one=1,two=None)\n",
    "```"
   ]
  },
  {
   "cell_type": "code",
   "execution_count": null,
   "metadata": {
    "collapsed": false
   },
   "outputs": [],
   "source": [
    "out=np.where(np.logical_and(qv_flux800 > 1000., T_flux800 > 1000))\n",
    "#\n",
    "#  unpack out into two individual lists and zip, then turn back\n",
    "#  into a list\n",
    "#\n",
    "flux_list=list(zip(*out))\n",
    "for item in flux_list:\n",
    "    print(item)"
   ]
  },
  {
   "cell_type": "code",
   "execution_count": null,
   "metadata": {
    "collapsed": false,
    "scrolled": true
   },
   "outputs": [],
   "source": [
    "fig,ax=plt.subplots(1,4,figsize=(18,8))\n",
    "for y,x in flux_list:\n",
    "    ax[0].plot(the_temp[:,y,x],the_height)\n",
    "    ax[1].plot(qv[:,y,x],the_height)\n",
    "    ax[2].plot(wvel[:,y,x],the_height)\n",
    "    ax[3].plot(ql[:,y,x],the_height)\n",
    "ax[0].set(xlim=(290,300),xlabel='TABS (K)',title='temperature')\n",
    "ax[1].set(xlim=(12,18),xlabel='qv (g/kg)',title='vapor mixing ratio')\n",
    "ax[2].set(xlim=(-1,4),xlabel='wvel (m/s)',title='vertical velocity')\n",
    "ax[3].set(xlim=(0,1.5),xlabel='ql (g/kg)',title='liquid water content')\n",
    "out=[the_ax.set(ylim=(0,1200)) for the_ax in ax]"
   ]
  },
  {
   "cell_type": "markdown",
   "metadata": {},
   "source": [
    "###  Conclusion: these large fluxes are coming from cloudy grid cells with coherent updrafts\n",
    "\n",
    "They can't really be treated by Reynold's averaging.  We'll look at this in more detail later in the course"
   ]
  },
  {
   "cell_type": "markdown",
   "metadata": {},
   "source": [
    "### Next:  joint distributions\n",
    "\n",
    "We'll need to look at correlations between variables. One way to do that is with multi-dimensional histograms.  There is a plotting package called seaborn that can do this\n",
    "for you:\n",
    "\n",
    "```python\n",
    "   conda install seaborn\n",
    "   \n",
    "```\n",
    "\n",
    "Below we use seaborn.jointplot to print a fancy 2d histogram for the joint\n",
    "distribution of the vapor and temperture fluxes"
   ]
  },
  {
   "cell_type": "code",
   "execution_count": null,
   "metadata": {
    "collapsed": false
   },
   "outputs": [],
   "source": [
    "import seaborn as sns\n",
    "#\n",
    "#  limit the range f the data to be plotted\n",
    "#\n",
    "hit=((qv_flux800 > -100) & (qv_flux800 < 100)) &( (T_flux800 > -50) & (T_flux800 < 50))\n",
    "g=sns.jointplot(x=qv_flux800[hit].flat,y=T_flux800[hit].flat,kind='kde',color='blue')\n",
    "ax=g.ax_joint\n",
    "ax.set(xlabel='vapor flux',ylabel='temperature flux')"
   ]
  },
  {
   "cell_type": "markdown",
   "metadata": {},
   "source": [
    "For the above plot, note the wider range for the vapor flux, and the negative correlation\n",
    "between temperature and vapor"
   ]
  },
  {
   "cell_type": "markdown",
   "metadata": {},
   "source": [
    "### Writing our own histogram routine\n",
    "\n",
    "There are a lot of cases where it's useful to roll our own histograms.  For example,\n",
    "here's a $w^\\prime$  $T^\\prime$ plot with a lot of points"
   ]
  },
  {
   "cell_type": "code",
   "execution_count": null,
   "metadata": {
    "collapsed": false,
    "scrolled": true
   },
   "outputs": [],
   "source": [
    "fig,ax=plt.subplots(1,1)\n",
    "ax.scatter(w_perturb,temp_perturb)\n",
    "ax.set(xlabel=r'$w^\\prime\\ (m/s)$',ylabel=r'$T^\\prime\\ (K)$')"
   ]
  },
  {
   "cell_type": "markdown",
   "metadata": {},
   "source": [
    "Now histogram this by doing the following using the code (installation covered in class)\n",
    "\n",
    "pull from github, which will bring in\n",
    "\n",
    "[hist_numba.py](https://github.com/phaustin/atsc500/blob/master/a500_code/hist_numba.py)\n",
    "\n",
    "To install this, cd to atsc500 and do:\n",
    "\n",
    "```python\n",
    "pip install -e .\n",
    "```\n",
    "\n",
    "To make it work, you will also need to do:\n",
    "\n",
    "```python\n",
    "conda install numba\n",
    "```\n",
    "\n",
    "which installs the numba jit ('just in time') compiler, that can produce code speedups of a factor of several hundred if we stick to a basic subset of \n",
    "[python](http://numba.pydata.org/numba-doc/0.21.0/reference/pysupported.html) and \n",
    "[numpy](http://numba.pydata.org/numba-doc/0.21.0/reference/numpysupported.html) features.\n",
    "\n",
    "Numba is used [here](https://github.com/phaustin/atsc500/blob/master/a500_code/hist_numba.py#L6-L38) to speed up the loop that counts the number of datapoints in\n",
    "each 2-d bin\n"
   ]
  },
  {
   "cell_type": "code",
   "execution_count": null,
   "metadata": {
    "collapsed": false
   },
   "outputs": [],
   "source": [
    "from importlib import reload\n",
    "import a500_code.hist_numba\n",
    "out=reload(a500_code.hist_numba)\n",
    "from a500_code.hist_numba import hist2d\n",
    "print(help(hist2d))"
   ]
  },
  {
   "cell_type": "markdown",
   "metadata": {},
   "source": [
    "### Now redo the wvel, T scatterplot as a 2-d histogram, plotting log10(counts)"
   ]
  },
  {
   "cell_type": "code",
   "execution_count": null,
   "metadata": {
    "collapsed": false
   },
   "outputs": [],
   "source": [
    "\n",
    "#\n",
    "from matplotlib.colors import Normalize\n",
    "\n",
    "wedges=np.linspace(-2,5,100)\n",
    "Tedges=np.linspace(-1,1,50)\n",
    "counts,row_centers,col_centers=hist2d(w_perturb.ravel(), \n",
    "                                       temp_perturb.ravel(),wedges,Tedges)\n",
    "mask=np.isnan(counts)\n",
    "counts=np.ma.array(counts,mask=mask)\n",
    "fig,ax=plt.subplots(1,1,figsize=(8,6))\n",
    "#\n",
    "# we want to map 256 colors from the coolwarm palette  into the\n",
    "# data range log10(counts) = 1 to log10(counts) = 5  (i.e. 10 to 100,000)\n",
    "#\n",
    "#  we also want to color empty bins grey, and show all bins that aren't empty\n",
    "#  but fall outside of the range as either black (less than 10 counts) or magenta\n",
    "#  (more than 100,000) counts\n",
    "#\n",
    "cmap=plt.get_cmap('coolwarm')\n",
    "cmap.set_under('black')\n",
    "cmap.set_over('magenta')\n",
    "cmap.set_bad('0.65')\n",
    "the_norm=Normalize(vmin=1,vmax=5)\n",
    "cs=ax.pcolormesh(row_centers,col_centers,np.log10(counts),cmap=cmap,norm=the_norm)\n",
    "ax.set(xlabel='w perturbation (m/s)',ylabel='T perturbation (m/s)',\n",
    "       title='2-d histogram of w pertub vs. T perturb')\n",
    "cbar=fig.colorbar(cs,shrink=0.9,extend='both')\n",
    "cbar.ax.set(ylabel='log10(counts)')"
   ]
  },
  {
   "cell_type": "code",
   "execution_count": null,
   "metadata": {
    "collapsed": false
   },
   "outputs": [],
   "source": [
    "#\n",
    "#  Make a color imaged with a scaled colormap\n",
    "#\n",
    "from matplotlib.colors import Normalize\n",
    "#\n",
    "# also get the cloud liquid water field at the same level\n",
    "#\n",
    "ql_800=ql[zlev,:,:]*lv*rho_avg[zlev]  #g/kg\n",
    "# center the colorbar about 0\n",
    "#\n",
    "the_norm=Normalize(vmin=-100,vmax=100)\n",
    "\n",
    "cmap=plt.get_cmap('coolwarm')\n",
    "cmap.set_under('black')\n",
    "cmap.set_over('magenta')\n",
    "cmap.set_bad('0.75')\n",
    "fig,ax=plt.subplots(1,2,figsize=(16,8))\n",
    "cs=ax[0].pcolormesh(xvals*1.e-3,yvals*1.e-3,T_flux_800,cmap=cmap,norm=the_norm)\n",
    "ax[0].set(ylim=(40,51),xlabel='distance east (km)',ylabel='distance north (km)',\n",
    "          title='sensible heat flux at 800 m')\n",
    "cbar=fig.colorbar(cs,shrink=0.9,extend='both')\n",
    "out=cbar.ax.set(ylabel='T_flux ($W/m^2$)')\n",
    "out[0].set(rotation=-90,va='bottom')\n",
    "#\n",
    "#  hide pixels with no liquid water\n",
    "#\n",
    "hit=ql_800 < 1.e-2\n",
    "T_flux_masked=np.ma.array(T_flux_800,mask=hit)\n",
    "cs=ax[1].pcolormesh(xvals*1.e-3,yvals*1.e-3,T_flux_masked,cmap=cmap,norm=the_norm)\n",
    "ax[1].set(ylim=(40,51),title='sensible heat flux in cloud',xlabel='distance east (km)')"
   ]
  },
  {
   "cell_type": "code",
   "execution_count": null,
   "metadata": {
    "collapsed": true
   },
   "outputs": [],
   "source": []
  }
 ],
 "metadata": {
  "kernelspec": {
   "display_name": "Python 3",
   "language": "python",
   "name": "python3"
  },
  "language_info": {
   "codemirror_mode": {
    "name": "ipython",
    "version": 3
   },
   "file_extension": ".py",
   "mimetype": "text/x-python",
   "name": "python",
   "nbconvert_exporter": "python",
   "pygments_lexer": "ipython3",
   "version": "3.4.3"
  }
 },
 "nbformat": 4,
 "nbformat_minor": 0
}