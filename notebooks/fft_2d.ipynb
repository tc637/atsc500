{
 "cells": [
  {
   "cell_type": "markdown",
   "metadata": {
    "collapsed": true
   },
   "source": [
    "# 2D histogram of the optical depth $\\tau$\n",
    "\n",
    "Below I calculate the 2-d and averaged 1-d spectra for the optical depth, which gives the penetration\n",
    "depth of photons through a cloud, and is closely related to cloud thickness"
   ]
  },
  {
   "cell_type": "code",
   "execution_count": null,
   "metadata": {
    "collapsed": true
   },
   "outputs": [],
   "source": [
    "import warnings\n",
    "warnings.filterwarnings(\"ignore\",category=FutureWarning)"
   ]
  },
  {
   "cell_type": "code",
   "execution_count": null,
   "metadata": {
    "collapsed": false
   },
   "outputs": [],
   "source": [
    "from matplotlib import pyplot as plt\n",
    "import urllib\n",
    "import os\n",
    "filelist=['a17.nc']\n",
    "data_download=True\n",
    "if data_download:\n",
    "    for the_file in filelist:\n",
    "        url='http://clouds.eos.ubc.ca/~phil/docs/atsc500/data/{}'.format(the_file)\n",
    "        urllib.request.urlretrieve(url,the_file)\n",
    "print(\"download {}: size is {:6.2g} Mbytes\".format(the_file,os.path.getsize(the_file)*1.e-6))"
   ]
  },
  {
   "cell_type": "code",
   "execution_count": null,
   "metadata": {
    "collapsed": false
   },
   "outputs": [],
   "source": [
    "from netCDF4 import Dataset\n",
    "with Dataset(filelist[0]) as nc:\n",
    "    tau=nc.variables['tau'][...]"
   ]
  },
  {
   "cell_type": "markdown",
   "metadata": {},
   "source": [
    "## Character of the optical depth field\n",
    "\n",
    "The image below shows one of the marine boundary layer landsat scenes analyzed in \n",
    "[Lewis et al., 2004](http://onlinelibrary.wiley.com/doi/10.1029/2003JD003742/full)\n",
    "\n",
    "It is a 2048 x 2048 pixel image taken by Landsat 7, with the visible reflectivity converted to\n",
    "cloud optical depth.   The pixels are 25 m x 25 m, so the scene extends for about 50 km x 50 km"
   ]
  },
  {
   "cell_type": "code",
   "execution_count": null,
   "metadata": {
    "collapsed": false
   },
   "outputs": [],
   "source": [
    "%matplotlib inline\n",
    "from mpl_toolkits.axes_grid1 import make_axes_locatable\n",
    "plt.close('all')\n",
    "fig,ax=plt.subplots(1,2,figsize=(13,7))\n",
    "ax[0].set_title('landsat a17')\n",
    "im0=ax[0].imshow(tau)\n",
    "im1=ax[1].hist(tau.ravel())\n",
    "ax[1].set_title('histogram of tau values')\n",
    "divider = make_axes_locatable(ax[0])\n",
    "cax = divider.append_axes(\"bottom\", size=\"5%\", pad=0.35)\n",
    "out=fig.colorbar(im0,orientation='horizontal',cax=cax)"
   ]
  },
  {
   "cell_type": "markdown",
   "metadata": {},
   "source": [
    "## ubc_fft class"
   ]
  },
  {
   "cell_type": "markdown",
   "metadata": {},
   "source": [
    "In the next cell I define a class that calculates the 2-d fft for a square image\n",
    "\n",
    "in the method ```power_spectrum``` we calculate both the 2d fft and the power spectrum\n",
    "and save them as class attributes.  In the method ```annular_average``` I take the power spectrum,\n",
    "which is the two-dimensional field  $E(k_x, k_y)$ (in cartesian coordinates) or $E(k,\\theta)$ (in polar coordinates).\n",
    "In the method ```annular_avg``` I take the average\n",
    "\n",
    "$$\n",
    "\\overline{E}(k) = \\int_0^{2\\pi} E(k, \\theta) d\\theta\n",
    "$$\n",
    "\n",
    "and plot that average with the method ```graph_spectrum```"
   ]
  },
  {
   "cell_type": "code",
   "execution_count": null,
   "metadata": {
    "collapsed": true
   },
   "outputs": [],
   "source": [
    "from netCDF4 import Dataset\n",
    "import numpy as np\n",
    "import math\n",
    "from numpy import fft\n",
    "from matplotlib import pyplot as plt\n",
    "\n",
    "\n",
    "class ubc_fft:\n",
    "\n",
    "    def __init__(self, filename, var, scale):\n",
    "        \"\"\"\n",
    "           Input filename, var=variable name, \n",
    "           scale= the size of the pixel in km\n",
    "\n",
    "           Constructer opens the netcdf file, reads the data and\n",
    "           saves the twodimensional fft\n",
    "        \"\"\"\n",
    "        with Dataset(filename,'r') as fin:\n",
    "            data = fin.variables[var][...]\n",
    "        data = data - data.mean()\n",
    "        if data.shape[0] != data.shape[1]:\n",
    "            raise ValueError('expecting square matrix')\n",
    "        self.xdim = data.shape[0]     # size of each row of the array\n",
    "        self.midpoint = int(math.floor(self.xdim/2))\n",
    "        root,suffix = filename.split('.')\n",
    "        self.filename = root\n",
    "        self.var = var\n",
    "        self.scale = float(scale)\n",
    "        self.data = data\n",
    "        self.fft_data = fft.fft2(self.data)\n",
    "    \n",
    "    def power_spectrum(self):\n",
    "        \"\"\"\n",
    "           calculate the power spectrum for the 2-dimensional field\n",
    "        \"\"\"\n",
    "        #\n",
    "        # fft_shift moves the zero frequency point to the  middle\n",
    "        # of the array  \n",
    "        #\n",
    "        fft_shift = fft.fftshift(self.fft_data)\n",
    "        spectral_dens = fft_shift*np.conjugate(fft_shift)/(self.xdim*self.xdim)\n",
    "        spectral_dens = spectral_dens.real\n",
    "        #\n",
    "        # dimensional wavenumbers for 2dim spectrum  (need only the kx\n",
    "        # dimensional since image is square\n",
    "        #\n",
    "        k_vals = np.arange(0,(self.midpoint))+1\n",
    "        k_vals = (k_vals-self.midpoint)/(self.xdim*self.scale)\n",
    "        self.spectral_dens=spectral_dens\n",
    "        self.k_vals=k_vals\n",
    "\n",
    "    def annular_avg(self,avg_binwidth):\n",
    "        \"\"\" \n",
    "         integrate the 2-d power spectrum around a series of rings \n",
    "         of radius kradial and average into a set of 1-dimensional\n",
    "         radial bins\n",
    "        \"\"\"\n",
    "        #\n",
    "        #  define the k axis which is the radius in the 2-d polar version of E\n",
    "        #\n",
    "        numbins = int(round((math.sqrt(2)*self.xdim/avg_binwidth),0)+1)\n",
    "\n",
    "        avg_spec = np.zeros(numbins,np.float64)\n",
    "        bin_count = np.zeros(numbins,np.float64)\n",
    "\n",
    "        print(\"\\t- INTEGRATING... \")\n",
    "        for i in range(self.xdim):\n",
    "            if (i%100) == 0:\n",
    "                print(\"\\t\\trow: {} completed\".format(i))\n",
    "            for j in range(self.xdim):\n",
    "                kradial = math.sqrt(((i+1)-self.xdim/2)**2+((j+1)-self.xdim/2)**2)\n",
    "                bin_num = int(math.floor(kradial/avg_binwidth))\n",
    "                avg_spec[bin_num]=avg_spec[bin_num]+ kradial*self.spectral_dens[i,j]\n",
    "                bin_count[bin_num]+=1\n",
    "\n",
    "        for i in range(numbins):\n",
    "            if bin_count[i]>0:\n",
    "                avg_spec[i]=avg_spec[i]*avg_binwidth/bin_count[i]/(4*(math.pi**2))\n",
    "        self.avg_spec=avg_spec\n",
    "        #\n",
    "        # dimensional wavenumbers for 1-d average spectrum\n",
    "        #\n",
    "        self.k_bins=np.arange(numbins)+1\n",
    "        self.k_bins = self.k_bins[0:self.midpoint]\n",
    "        self.avg_spec = self.avg_spec[0:self.midpoint]\n",
    "\n",
    "        \n",
    "    \n",
    "    def graph_spectrum(self, kol_slope=-5./3., kol_offset=1., \\\n",
    "                      title=None):\n",
    "        \"\"\"\n",
    "           graph the annular average and compare it to Kolmogorov -5/3\n",
    "        \"\"\"\n",
    "        avg_spec=self.avg_spec\n",
    "        delta_k = 1./self.scale                # 1./km (1/0.025 for landsat 25 meter pixels)\n",
    "        nyquist = delta_k * 0.5\n",
    "        knum = self.k_bins * (nyquist/float(len(self.k_bins)))# k = w/(25m)\n",
    "        #\n",
    "        # draw the -5/3 line through a give spot\n",
    "        #\n",
    "        kol = kol_offset*(knum**kol_slope)\n",
    "        fig,ax=plt.subplots(1,1,figsize=(8,8))\n",
    "        ax.loglog(knum,avg_spec,'r-',label='power')\n",
    "        ax.loglog(knum,kol,'k-',label=\"$k^{-5/3}$\")\n",
    "        ax.set(title=title,xlabel='k (1/km)',ylabel='$E_k$')\n",
    "        ax.legend()\n",
    "        self.plotax=ax\n"
   ]
  },
  {
   "cell_type": "code",
   "execution_count": null,
   "metadata": {
    "collapsed": false
   },
   "outputs": [],
   "source": [
    "plt.close('all')\n",
    "plt.style.use('ggplot')\n",
    "output = ubc_fft('a17.nc','tau',0.025)\n",
    "output.power_spectrum()"
   ]
  },
  {
   "cell_type": "code",
   "execution_count": null,
   "metadata": {
    "collapsed": false
   },
   "outputs": [],
   "source": [
    "fig,ax=plt.subplots(1,1,figsize=(7,7))\n",
    "ax.set_title('landsat a17')\n",
    "im0=ax.imshow(np.log10(output.spectral_dens))\n",
    "ax.set_title('log10 of the 2-d power spectrum')\n",
    "divider = make_axes_locatable(ax)\n",
    "cax = divider.append_axes(\"bottom\", size=\"5%\", pad=0.35)\n",
    "out=fig.colorbar(im0,orientation='horizontal',cax=cax)"
   ]
  },
  {
   "cell_type": "code",
   "execution_count": null,
   "metadata": {
    "collapsed": false
   },
   "outputs": [],
   "source": [
    "avg_binwidth=5  #make the kradial bins 5 pixels wide\n",
    "output.annular_avg(avg_binwidth)"
   ]
  },
  {
   "cell_type": "code",
   "execution_count": null,
   "metadata": {
    "collapsed": false
   },
   "outputs": [],
   "source": [
    "output.graph_spectrum(kol_offset=2000.,title='Landsat {} power spectrum'.format(output.filename))"
   ]
  },
  {
   "cell_type": "code",
   "execution_count": null,
   "metadata": {
    "collapsed": true
   },
   "outputs": [],
   "source": []
  }
 ],
 "metadata": {
  "kernelspec": {
   "display_name": "Python 3",
   "language": "python",
   "name": "python3"
  },
  "language_info": {
   "codemirror_mode": {
    "name": "ipython",
    "version": 3
   },
   "file_extension": ".py",
   "mimetype": "text/x-python",
   "name": "python",
   "nbconvert_exporter": "python",
   "pygments_lexer": "ipython3",
   "version": "3.4.3"
  }
 },
 "nbformat": 4,
 "nbformat_minor": 0
}