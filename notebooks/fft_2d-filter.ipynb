{
 "cells": [
  {
   "cell_type": "markdown",
   "metadata": {
    "collapsed": true
   },
   "source": [
    "# 2D histogram of the optical depth $\\tau$\n",
    "\n",
    "Below I calculate the 2-d and averaged 1-d spectra for the optical depth, which gives the penetration\n",
    "depth of photons through a cloud, and is closely related to cloud thickness"
   ]
  },
  {
   "cell_type": "code",
   "execution_count": null,
   "metadata": {
    "collapsed": true
   },
   "outputs": [],
   "source": [
    "import warnings\n",
    "warnings.filterwarnings(\"ignore\",category=FutureWarning)"
   ]
  },
  {
   "cell_type": "code",
   "execution_count": null,
   "metadata": {
    "collapsed": false
   },
   "outputs": [],
   "source": [
    "from matplotlib import pyplot as plt\n",
    "import urllib\n",
    "import os\n",
    "filelist=['a17.nc']\n",
    "data_download=True\n",
    "if data_download:\n",
    "    for the_file in filelist:\n",
    "        url='http://clouds.eos.ubc.ca/~phil/docs/atsc500/data/{}'.format(the_file)\n",
    "        urllib.request.urlretrieve(url,the_file)\n",
    "print(\"download {}: size is {:6.2g} Mbytes\".format(the_file,os.path.getsize(the_file)*1.e-6))"
   ]
  },
  {
   "cell_type": "code",
   "execution_count": null,
   "metadata": {
    "collapsed": false
   },
   "outputs": [],
   "source": [
    "from netCDF4 import Dataset\n",
    "with Dataset(filelist[0]) as nc:\n",
    "    tau=nc.variables['tau'][...]"
   ]
  },
  {
   "cell_type": "markdown",
   "metadata": {},
   "source": [
    "## Character of the optical depth field\n",
    "\n",
    "The image below shows one of the marine boundary layer landsat scenes analyzed in \n",
    "[Lewis et al., 2004](http://onlinelibrary.wiley.com/doi/10.1029/2003JD003742/full)\n",
    "\n",
    "It is a 2048 x 2048 pixel image taken by Landsat 7, with the visible reflectivity converted to\n",
    "cloud optical depth.   The pixels are 25 m x 25 m, so the scene extends for about 50 km x 50 km"
   ]
  },
  {
   "cell_type": "code",
   "execution_count": null,
   "metadata": {
    "collapsed": false
   },
   "outputs": [],
   "source": [
    "%matplotlib inline\n",
    "from mpl_toolkits.axes_grid1 import make_axes_locatable\n",
    "plt.close('all')\n",
    "fig,ax=plt.subplots(1,2,figsize=(13,7))\n",
    "ax[0].set_title('landsat a17')\n",
    "im0=ax[0].imshow(tau)\n",
    "im1=ax[1].hist(tau.ravel())\n",
    "ax[1].set_title('histogram of tau values')\n",
    "divider = make_axes_locatable(ax[0])\n",
    "cax = divider.append_axes(\"bottom\", size=\"5%\", pad=0.35)\n",
    "out=fig.colorbar(im0,orientation='horizontal',cax=cax)"
   ]
  },
  {
   "cell_type": "markdown",
   "metadata": {},
   "source": [
    "## ubc_fft class"
   ]
  },
  {
   "cell_type": "markdown",
   "metadata": {},
   "source": [
    "In the next cell I define a class that calculates the 2-d fft for a square image\n",
    "\n",
    "in the method ```power_spectrum``` we calculate both the 2d fft and the power spectrum\n",
    "and save them as class attributes.  In the method ```annular_average``` I take the power spectrum,\n",
    "which is the two-dimensional field  $E(k_x, k_y)$ (in cartesian coordinates) or $E(k,\\theta)$ (in polar coordinates).\n",
    "In the method ```annular_avg``` I take the average\n",
    "\n",
    "$$\n",
    "\\overline{E}(k) = \\int_0^{2\\pi} E(k, \\theta) d\\theta\n",
    "$$\n",
    "\n",
    "and plot that average with the method ```graph_spectrum```"
   ]
  },
  {
   "cell_type": "code",
   "execution_count": null,
   "metadata": {
    "collapsed": true
   },
   "outputs": [],
   "source": [
    "from netCDF4 import Dataset\n",
    "import numpy as np\n",
    "import math\n",
    "from numpy import fft\n",
    "from matplotlib import pyplot as plt\n",
    "\n",
    "\n",
    "class ubc_fft:\n",
    "\n",
    "    def __init__(self, var, scale, filename=None, data=None):\n",
    "        \"\"\"\n",
    "           Input  var=variable name, \n",
    "           scale= the size of the pixel in km, either filename or data array\n",
    "\n",
    "           Constructer opens the netcdf file, reads the data and\n",
    "           saves the twodimensional fft (skips this step if already have array)\n",
    "        \"\"\"\n",
    "        if filename:\n",
    "            with Dataset(filename,'r') as fin:\n",
    "                data = fin.variables[var][...]\n",
    "                root,suffix = filename.split('.')\n",
    "                self.filename = root\n",
    "        data = data - data.mean()\n",
    "        if data.shape[0] != data.shape[1]:\n",
    "            raise ValueError('expecting square matrix')\n",
    "        self.xdim = data.shape[0]     # size of each row of the array\n",
    "        self.midpoint = int(math.floor(self.xdim/2))\n",
    "        self.var = var\n",
    "        self.scale = float(scale)\n",
    "        self.data = data\n",
    "        self.fft_data = fft.fft2(self.data)\n",
    "    \n",
    "    def power_spectrum(self):\n",
    "        \"\"\"\n",
    "           calculate the power spectrum for the 2-dimensional field\n",
    "        \"\"\"\n",
    "        #\n",
    "        # fft_shift moves the zero frequency point to the  middle\n",
    "        # of the array  \n",
    "        #\n",
    "        fft_shift = fft.fftshift(self.fft_data)\n",
    "        spectral_dens = fft_shift*np.conjugate(fft_shift)/(self.xdim*self.xdim)\n",
    "        spectral_dens = spectral_dens.real\n",
    "        #\n",
    "        # dimensional wavenumbers for 2dim spectrum  (need only the kx\n",
    "        # dimensional since image is square\n",
    "        #\n",
    "        k_vals = np.arange(0,(self.midpoint))+1\n",
    "        k_vals = (k_vals-self.midpoint)/(self.xdim*self.scale)\n",
    "        self.spectral_dens=spectral_dens\n",
    "        self.k_vals=k_vals\n",
    "\n",
    "    def annular_avg(self,avg_binwidth):\n",
    "        \"\"\" \n",
    "         integrate the 2-d power spectrum around a series of rings \n",
    "         of radius kradial and average into a set of 1-dimensional\n",
    "         radial bins\n",
    "        \"\"\"\n",
    "        #\n",
    "        #  define the k axis which is the radius in the 2-d polar version of E\n",
    "        #\n",
    "        numbins = int(round((math.sqrt(2)*self.xdim/avg_binwidth),0)+1)\n",
    "\n",
    "        avg_spec = np.zeros(numbins,np.float64)\n",
    "        bin_count = np.zeros(numbins,np.float64)\n",
    "\n",
    "        print(\"\\t- INTEGRATING... \")\n",
    "        for i in range(self.xdim):\n",
    "            if (i%100) == 0:\n",
    "                print(\"\\t\\trow: {} completed\".format(i))\n",
    "            for j in range(self.xdim):\n",
    "                kradial = math.sqrt(((i+1)-self.xdim/2)**2+((j+1)-self.xdim/2)**2)\n",
    "                bin_num = int(math.floor(kradial/avg_binwidth))\n",
    "                avg_spec[bin_num]=avg_spec[bin_num]+ kradial*self.spectral_dens[i,j]\n",
    "                bin_count[bin_num]+=1\n",
    "\n",
    "        for i in range(numbins):\n",
    "            if bin_count[i]>0:\n",
    "                avg_spec[i]=avg_spec[i]*avg_binwidth/bin_count[i]/(4*(math.pi**2))\n",
    "        self.avg_spec=avg_spec\n",
    "        #\n",
    "        # dimensional wavenumbers for 1-d average spectrum\n",
    "        #\n",
    "        self.k_bins=np.arange(numbins)+1\n",
    "        self.k_bins = self.k_bins[0:self.midpoint]\n",
    "        self.avg_spec = self.avg_spec[0:self.midpoint]\n",
    "\n",
    "        \n",
    "    \n",
    "    def graph_spectrum(self, kol_slope=-5./3., kol_offset=1., \\\n",
    "                      title=None):\n",
    "        \"\"\"\n",
    "           graph the annular average and compare it to Kolmogorov -5/3\n",
    "        \"\"\"\n",
    "        avg_spec=self.avg_spec\n",
    "        delta_k = 1./self.scale                # 1./km (1/0.025 for landsat 25 meter pixels)\n",
    "        nyquist = delta_k * 0.5\n",
    "        knum = self.k_bins * (nyquist/float(len(self.k_bins)))# k = w/(25m)\n",
    "        #\n",
    "        # draw the -5/3 line through a give spot\n",
    "        #\n",
    "        kol = kol_offset*(knum**kol_slope)\n",
    "        fig,ax=plt.subplots(1,1,figsize=(8,8))\n",
    "        ax.loglog(knum,avg_spec,'r-',label='power')\n",
    "        ax.loglog(knum,kol,'k-',label=\"$k^{-5/3}$\")\n",
    "        ax.set(title=title,xlabel='k (1/km)',ylabel='$E_k$')\n",
    "        ax.legend()\n",
    "        self.plotax=ax\n"
   ]
  },
  {
   "cell_type": "code",
   "execution_count": null,
   "metadata": {
    "collapsed": false
   },
   "outputs": [],
   "source": [
    "plt.style.use('ggplot')\n",
    "output = ubc_fft('tau',0.025, filename='a17.nc')\n",
    "output.power_spectrum()"
   ]
  },
  {
   "cell_type": "code",
   "execution_count": null,
   "metadata": {
    "collapsed": false
   },
   "outputs": [],
   "source": [
    "fig,ax=plt.subplots(1,1,figsize=(7,7))\n",
    "ax.set_title('landsat a17')\n",
    "im0=ax.imshow(np.log10(output.spectral_dens))\n",
    "ax.set_title('log10 of the 2-d power spectrum')\n",
    "divider = make_axes_locatable(ax)\n",
    "cax = divider.append_axes(\"bottom\", size=\"5%\", pad=0.35)\n",
    "out=fig.colorbar(im0,orientation='horizontal',cax=cax)"
   ]
  },
  {
   "cell_type": "markdown",
   "metadata": {},
   "source": [
    "## Step 1 -- find the total variance of the tau field"
   ]
  },
  {
   "cell_type": "code",
   "execution_count": null,
   "metadata": {
    "collapsed": false
   },
   "outputs": [],
   "source": [
    "tau_flat=output.data.ravel()\n",
    "variance = np.sum(tau_flat*tau_flat)/len(tau_flat)\n",
    "print('tau variance is: {:8.4f}'.format(variance))\n",
    "np.sum(output.spectral_dens)\n",
    "fft_data = fft.fft2(output.data)\n",
    "power=np.real(fft_data*np.conj(fft_data))\n",
    "fig,ax =plt.subplots(1,2,figsize=(12,8))\n",
    "out=ax[0].plot(np.log10(power[1000,:]))\n",
    "out=ax[1].plot(np.log10(power[:,1000]))"
   ]
  },
  {
   "cell_type": "code",
   "execution_count": null,
   "metadata": {
    "collapsed": false
   },
   "outputs": [],
   "source": [
    "fig,ax=plt.subplots(1,1,figsize=(7,7))\n",
    "ax.set_title('landsat a17')\n",
    "im0=ax.imshow(np.log10(np.real(power)))\n",
    "ax.set_title('log10 of unshifted power spectrum')\n",
    "divider = make_axes_locatable(ax)\n",
    "cax = divider.append_axes(\"bottom\", size=\"5%\", pad=0.35)\n",
    "out=fig.colorbar(im0,orientation='horizontal',cax=cax)"
   ]
  },
  {
   "cell_type": "code",
   "execution_count": null,
   "metadata": {
    "collapsed": false
   },
   "outputs": [],
   "source": [
    "test=np.real(power)\n",
    "test.sum()/2048**4."
   ]
  },
  {
   "cell_type": "code",
   "execution_count": null,
   "metadata": {
    "collapsed": false
   },
   "outputs": [],
   "source": [
    "fig,ax=plt.subplots(1,1,figsize=(7,7))\n",
    "ax.set_title('landsat a17')\n",
    "im0=ax.imshow(np.log10(np.real(fft_data)))\n",
    "ax.set_title('log10 of real part off fft2')\n",
    "divider = make_axes_locatable(ax)\n",
    "cax = divider.append_axes(\"bottom\", size=\"5%\", pad=0.35)\n",
    "out=fig.colorbar(im0,orientation='horizontal',cax=cax)"
   ]
  },
  {
   "cell_type": "markdown",
   "metadata": {},
   "source": [
    "### First show that the inverse transform works"
   ]
  },
  {
   "cell_type": "code",
   "execution_count": null,
   "metadata": {
    "collapsed": false,
    "scrolled": true
   },
   "outputs": [],
   "source": [
    "fig,ax=plt.subplots(1,1,figsize=(7,7))\n",
    "ax.set_title('landsat a17')\n",
    "im0=ax.imshow(np.real(fft.ifft2(fft_data)))\n",
    "ax.set_title('inverse transform')\n",
    "divider = make_axes_locatable(ax)\n",
    "cax = divider.append_axes(\"bottom\", size=\"5%\", pad=0.35)\n",
    "out=fig.colorbar(im0,orientation='horizontal',cax=cax)"
   ]
  },
  {
   "cell_type": "markdown",
   "metadata": {},
   "source": [
    "### Calculate the lowpass filter cutoffs\n",
    "\n",
    "We know that the 25 meter pixels correspond to k=1/0.025 = 40 $km^{-1}$.  That means that the Nyquist\n",
    "wavenumber is k=20 $km^{-1}$.  The range 0 to 20 is divided into 1024 bins, so that $\\Delta k$ = 20/1024 = 0.019 $km^{-1}$.  We want to cutoff all features with higher wavenumbers than 1 $km^{-1}$, which puts us at\n",
    "an index of 1/0.019 = 1024/20. = 51 in both x and y.\n",
    "\n",
    "To construct the filter, we'll fftshift the fft so that the low wavenumbers are in the middle, then\n",
    "leave non-zero fft values only in the region that is 51 pixels north, south, east and west of the center.\n",
    "We'll then unshift (using ifftshift) and invert the transform"
   ]
  },
  {
   "cell_type": "code",
   "execution_count": null,
   "metadata": {
    "collapsed": false
   },
   "outputs": [],
   "source": [
    "filt_fft = fft.fft2(output.data)\n",
    "fft_shifted = fft.fftshift(filt_fft)\n",
    "filter_mask=np.zeros_like(filt_fft)\n",
    "half_point=int(filt_fft.shape[0]/2.)\n",
    "\n",
    "filter_width=5.\n",
    "xyslice=slice(half_point - filter_width,half_point + filter_width)\n",
    "filter_mask[xyslice,xyslice]=1.\n",
    "fft_filtered=fft_shifted*filter_mask\n",
    "fft_filtered = fft.ifftshift(fft_filtered)\n",
    "filtered_image = np.real(fft.ifft2(fft_filtered))\n",
    " \n",
    "fig,ax=plt.subplots(1,2,figsize=(10,14))\n",
    "im0=ax[0].imshow(output.data)\n",
    "ax[0].set_title('original image')\n",
    "divider = make_axes_locatable(ax[0])\n",
    "cax = divider.append_axes(\"bottom\", size=\"5%\", pad=0.35)\n",
    "out=fig.colorbar(im0,orientation='horizontal',cax=cax)    \n",
    "\n",
    "im0=ax[1].imshow(filtered_image)\n",
    "ax[1].set_title('with low pass filter = {:6.2f} $km^{{-1}}$'.format(filter_width/1048.*20))\n",
    "divider = make_axes_locatable(ax[1])\n",
    "cax = divider.append_axes(\"bottom\", size=\"5%\", pad=0.35)\n",
    "out=fig.colorbar(im0,orientation='horizontal',cax=cax)\n"
   ]
  },
  {
   "cell_type": "code",
   "execution_count": null,
   "metadata": {
    "collapsed": false
   },
   "outputs": [],
   "source": [
    "filtered_output=ubc_fft('tau',0.025,data=filtered_image)\n",
    "filtered_output.power_spectrum()\n",
    "do_avg=True\n",
    "if do_avg:\n",
    "    avg_binwidth=5  #make the kradial bins 5 pixels wide\n",
    "    filtered_output.annular_avg(avg_binwidth)"
   ]
  },
  {
   "cell_type": "code",
   "execution_count": null,
   "metadata": {
    "collapsed": false
   },
   "outputs": [],
   "source": [
    "ax=filtered_output.graph_spectrum()\n",
    "out=filtered_output.plotax.set(title='filtered 1 D spectrum')"
   ]
  }
 ],
 "metadata": {
  "kernelspec": {
   "display_name": "Python 3",
   "language": "python",
   "name": "python3"
  },
  "language_info": {
   "codemirror_mode": {
    "name": "ipython",
    "version": 3
   },
   "file_extension": ".py",
   "mimetype": "text/x-python",
   "name": "python",
   "nbconvert_exporter": "python",
   "pygments_lexer": "ipython3",
   "version": "3.4.3"
  }
 },
 "nbformat": 4,
 "nbformat_minor": 0
}