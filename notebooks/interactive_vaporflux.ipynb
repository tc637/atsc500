{
 "cells": [
  {
   "cell_type": "markdown",
   "metadata": {},
   "source": [
    "### Add an equation for the vapor mixing ratio"
   ]
  },
  {
   "cell_type": "code",
   "execution_count": null,
   "metadata": {
    "collapsed": false
   },
   "outputs": [],
   "source": [
    "def theta_ft(h,ft_intercept,gamma):\n",
    "    \"\"\"\n",
    "       input h (meters) and the coefficients for the linear\n",
    "       profile for the free troposphere theta (ft_intercept (K)  and slope gamma (K/m))\n",
    "       return the free tropospher theta at height h\n",
    "    \"\"\"\n",
    "    theta_top = ft_intercept + h*gamma\n",
    "    return theta_top\n",
    "\n",
    "#\n",
    "# helper function to turn a dictionary into a named tuple\n",
    "#\n",
    "from collections import namedtuple\n",
    "def make_tuple(tupname,in_dict):\n",
    "    the_tup = namedtuple(tupname, in_dict.keys())\n",
    "    the_tup = the_tup(**in_dict)\n",
    "    return the_tup\n"
   ]
  },
  {
   "cell_type": "code",
   "execution_count": null,
   "metadata": {
    "collapsed": false
   },
   "outputs": [],
   "source": [
    "%matplotlib inline\n",
    "import numpy as np\n",
    "import scipy.integrate as integrate\n",
    "from matplotlib import pyplot as plt\n",
    "import pandas as pd\n",
    "import thermlib\n",
    "from importlib import reload\n",
    "reload(thermlib)\n",
    "from thermlib import thermfuncs as tf\n",
    "\n",
    "\n",
    "\n",
    "def dmixed_vars(the_vars,tstep,coeffs):\n",
    "    \"\"\"\n",
    "      the_vars[0]= thetabar\n",
    "      the_vars[1] = h\n",
    "      the_vars[2] = qv\n",
    "      \n",
    "      surface flux from drag law with subsidence and diagnosed deltheta\n",
    "    \"\"\"\n",
    "    #print('the_vars: ',the_vars,D,U)\n",
    "    deltheta = theta_ft(the_vars[1],coeffs.ft_intercept,coeffs.ft_gamma) - the_vars[0]\n",
    "    F0 = coeffs.U*coeffs.Cd*(coeffs.sst - the_vars[0])  #surface heat flux\n",
    "    Fqv0 = coeffs.U*coeffs.Cd*(coeffs.qsfc - the_vars[2])  #surface vapor flux\n",
    "    Fint = -coeffs.k*F0  #entrainment heat flux\n",
    "    went = -Fint/deltheta  #entrainment velocity (positive upward)\n",
    "    Fqvent = -went*( coeffs.ft_qv - the_vars[2])\n",
    "    wsubs = -coeffs.D*the_vars[1]\n",
    "    rho=1.\n",
    "    cp=1004.\n",
    "    derivs=np.empty_like(the_vars)\n",
    "    derivs[0]=(F0 - Fint)/(the_vars[1]*rho) - coeffs.radcool/1004./the_vars[1]\n",
    "    derivs[1] = went + wsubs\n",
    "    derivs[2] = (Fqv0 - Fqvent)/the_vars[1]\n",
    "    return derivs"
   ]
  },
  {
   "cell_type": "code",
   "execution_count": null,
   "metadata": {
    "collapsed": false
   },
   "outputs": [],
   "source": [
    "reload(thermlib)\n",
    "from thermlib import thermfuncs as tf\n",
    "dtout=10.  #minutes\n",
    "end_time=8*24.   #hours\n",
    "del_time=dtout*60. #seconds\n",
    "end_time=end_time*3600. #seconds\n",
    "sst=297\n",
    "D=5.e-6  #s-1\n",
    "U=7  #m/s\n",
    "psfc=100. #kPa\n",
    "qsfc=tf.qs_tp(sst,psfc)\n",
    "ft_intercept = 292 #K\n",
    "ft_gamma = 6.e-3  #K/m\n",
    "ft_qv = 2.e-3\n",
    "k=0.2  #entrainment efficiency\n",
    "Cd = 1.e-3  #drag coefficient\n",
    "tspan = np.arange(0.,end_time,del_time)\n",
    "vars_init=[285.,400.,8.e-3]  #theta (K), height (m) qv (kg/kg) to start\n",
    "the_tup=dict(D=D,U=U,sst=sst,ft_intercept=ft_intercept,ft_gamma=ft_gamma,\n",
    "             qsfc=qsfc,ft_qv=ft_qv,k=k,Cd=Cd,radcool=30.)\n",
    "the_tup=make_tuple('coeffs',the_tup)\n",
    "output=integrate.odeint(dmixed_vars, vars_init, tspan,(the_tup,))\n",
    "result=pd.DataFrame.from_records(output,columns=['theta','h','qv'])\n",
    "result['time']=tspan/3600./24.  #days\n",
    "result['deltheta'] = theta_ft(result['h'].values,ft_intercept,ft_gamma) - result['theta']"
   ]
  },
  {
   "cell_type": "code",
   "execution_count": null,
   "metadata": {
    "collapsed": false
   },
   "outputs": [],
   "source": [
    "%matplotlib inline\n",
    "plt.close('all')\n",
    "plt.style.use('ggplot')\n",
    "fig,ax = plt.subplots(1,5,figsize=(16,10))\n",
    "ax[0].plot(result['time'],result['h'],label='new')\n",
    "ax[0].set(ylabel='height (m)',xlabel='time (days)',title='height')\n",
    "ax[0].legend(loc='best')\n",
    "ax[1].plot(result['time'],result['theta'],label='new')\n",
    "out=ax[1].set(title=r'$\\theta$ (K)')\n",
    "out=ax[2].plot(result['time'],result['deltheta'],label='new')\n",
    "out=ax[2].set(title=r'$\\Delta \\theta$ (K)')\n",
    "out=ax[3].plot(result['time'],result['qv']*1.e3,label='new')\n",
    "out=ax[3].set(title='qvap (g/kg)')\n",
    "result['delqv'] = ft_qv - result['qv']\n",
    "out=ax[4].plot(result['time'],result['delqv']*1.e3)\n",
    "out=ax[4].set(title=r'$\\Delta q_v$ (g/kg)')"
   ]
  },
  {
   "cell_type": "markdown",
   "metadata": {},
   "source": [
    "### get the flux profiles and the cloud thickness\n",
    "\n",
    "the next cell applies the calc_lcl function to every row in the dataframe and\n",
    "adds it as a new column"
   ]
  },
  {
   "cell_type": "code",
   "execution_count": null,
   "metadata": {
    "collapsed": false
   },
   "outputs": [],
   "source": [
    "reload(thermlib)\n",
    "from thermlib import thermfuncs as tf\n",
    "def calc_lcl(row,psfc):\n",
    "    \"\"\"\n",
    "      find the lcl (in m) for a row in the dataframe\n",
    "    \"\"\"\n",
    "    Tdew = tf.tmr(row['qv'],psfc)\n",
    "    LCL = tf.LCL(Tdew,row['theta'],psfc)  #kPa\n",
    "    #\n",
    "    # rough approximation:  10 kPa = 1 km\n",
    "    #\n",
    "    delp=psfc - LCL\n",
    "    lcl_h = delp*100.\n",
    "    return lcl_h\n",
    "\n",
    "\n",
    "def calc_sfc_theta_flux(row,coeffs):\n",
    "    F0 = coeffs.U*coeffs.Cd*(coeffs.sst - row['theta'])  #surface heat flux\n",
    "    return F0\n",
    "\n",
    "def calc_sfc_qvap_flux(row,coeffs):\n",
    "    Fqv0 = coeffs.U*coeffs.Cd*(coeffs.qsfc - row['qv'])\n",
    "    return Fqv0\n",
    "\n",
    "def calc_entflux_theta(row,coeffs):\n",
    "    flux_ent = -coeffs.k*row['T_flux_0']\n",
    "    return flux_ent\n",
    "\n",
    "def calc_went(row,coeffs):\n",
    "    went = -row['entflux_theta']/row['deltheta']\n",
    "    return went\n",
    "    \n",
    "def calc_entflux_qv(row,coeffs):\n",
    "    flux_ent =  -row['went']*( coeffs.ft_qv - row['qv'])\n",
    "    return flux_ent\n",
    "\n",
    "\n",
    "result['LCL']=result.apply(calc_lcl,axis=1,args=(psfc,))\n",
    "result['q_flux_0']=result.apply(calc_sfc_qvap_flux,axis=1,args=(the_tup,))\n",
    "result['T_flux_0']=result.apply(calc_sfc_theta_flux,axis=1,args=(the_tup,))  \n",
    "result['thick'] = result['h'] - result['LCL']\n",
    "result['entflux_theta']=result.apply(calc_entflux_theta,axis=1,args=(the_tup,))\n",
    "result['went'] = result.apply(calc_went,axis=1,args=(the_tup,))\n",
    "result['entflux_qv']=result.apply(calc_entflux_qv,axis=1,args=(the_tup,))\n",
    "cooling = np.empty_like(result['time'].values)\n",
    "cooling[:] = the_tup.radcool\n",
    "result['radcool']  = cooling"
   ]
  },
  {
   "cell_type": "code",
   "execution_count": null,
   "metadata": {
    "collapsed": false,
    "scrolled": true
   },
   "outputs": [],
   "source": [
    "fig,ax=plt.subplots(4,1,figsize=(10,10))\n",
    "result.plot('time','T_flux_0',ax=ax[0])\n",
    "result.plot('time','q_flux_0',ax=ax[1])\n",
    "result.plot('time','entflux_theta',ax=ax[2])\n",
    "out=result.plot('time','entflux_qv',ax=ax[3])"
   ]
  },
  {
   "cell_type": "code",
   "execution_count": null,
   "metadata": {
    "collapsed": false,
    "scrolled": true
   },
   "outputs": [],
   "source": [
    "result"
   ]
  },
  {
   "cell_type": "markdown",
   "metadata": {
    "collapsed": true
   },
   "source": [
    "### Dump the result in an hdf file"
   ]
  },
  {
   "cell_type": "code",
   "execution_count": null,
   "metadata": {
    "collapsed": true
   },
   "outputs": [],
   "source": [
    "with pd.HDFStore('dumpvapor.h5','w') as f:\n",
    "    f.put('profile',result,format='table')"
   ]
  },
  {
   "cell_type": "code",
   "execution_count": null,
   "metadata": {
    "collapsed": true
   },
   "outputs": [],
   "source": []
  }
 ],
 "metadata": {
  "kernelspec": {
   "display_name": "Python 3",
   "language": "python",
   "name": "python3"
  },
  "language_info": {
   "codemirror_mode": {
    "name": "ipython",
    "version": 3
   },
   "file_extension": ".py",
   "mimetype": "text/x-python",
   "name": "python",
   "nbconvert_exporter": "python",
   "pygments_lexer": "ipython3",
   "version": "3.4.3"
  }
 },
 "nbformat": 4,
 "nbformat_minor": 0
}