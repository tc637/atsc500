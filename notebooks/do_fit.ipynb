{
 "cells": [
  {
   "cell_type": "code",
   "execution_count": null,
   "metadata": {
    "collapsed": false
   },
   "outputs": [],
   "source": [
    "import glob\n",
    "from netCDF4 import Dataset\n",
    "from dateutil.parser import parse\n",
    "import datetime\n",
    "import numpy as np\n",
    "import matplotlib.dates as mdates\n",
    "import pytz\n",
    "from datetime import datetime as dt"
   ]
  },
  {
   "cell_type": "code",
   "execution_count": null,
   "metadata": {
    "collapsed": false
   },
   "outputs": [],
   "source": [
    "the_file='cabauw_ubc.nc'\n",
    "group='m201412'\n",
    "with Dataset(the_file,'r') as nc_ubc:\n",
    "    july_nc=nc_ubc.groups[group]\n",
    "    z=nc_ubc.variables['z'][...]\n",
    "    july_speed=july_nc.variables['F'][...]\n",
    "    july_ta002 = july_nc.variables['TA002']\n"
   ]
  },
  {
   "cell_type": "code",
   "execution_count": null,
   "metadata": {
    "collapsed": true
   },
   "outputs": [],
   "source": [
    "hourly_wind_avg=july_speed.mean(axis=2)"
   ]
  },
  {
   "cell_type": "code",
   "execution_count": null,
   "metadata": {
    "collapsed": false
   },
   "outputs": [],
   "source": [
    "hourly_wind_avg.shape"
   ]
  },
  {
   "cell_type": "code",
   "execution_count": null,
   "metadata": {
    "collapsed": false
   },
   "outputs": [],
   "source": [
    "%matplotlib inline\n",
    "the_month='july, 2014'\n",
    "hour=2\n",
    "fig,ax=plt.subplots(1,2,figsize=(8,6))\n",
    "ax[0].plot(hourly_wind_avg[:,hour,:].T,z)\n",
    "ax[0].set(title='hour: {} UTC'.format(hour))\n",
    "hour=14\n",
    "ax[1].plot(hourly_wind_avg[:,hour,:].T,z)\n",
    "ax[1].set(title='hour: {} UTC'.format(hour))\n",
    "fig.suptitle('{} hourly avg winds'.format(the_month))"
   ]
  },
  {
   "cell_type": "markdown",
   "metadata": {},
   "source": [
    "```\n",
    "S=a0 + a1*z + a2*z**2 + a3*np.log(z)\n",
    "direc=b0 + b1*z + b2*z**2\n",
    "theta=c0 + c1*z + c2*z**2. + c3*np.log(z)\n",
    "```"
   ]
  },
  {
   "cell_type": "code",
   "execution_count": null,
   "metadata": {
    "collapsed": false
   },
   "outputs": [],
   "source": [
    "\n",
    "#http://kitchingroup.cheme.cmu.edu/blog/2013/02/12/Nonlinear-curve-fitting-with-parameter-confidence-intervals/\n",
    "import numpy as np\n",
    "from scipy.optimize import curve_fit\n",
    "import scipy\n",
    "from scipy.stats.distributions import  t\n",
    "import warnings\n",
    "warnings.filterwarnings(\"ignore\",category=scipy.optimize.OptimizeWarning)\n",
    "\n",
    "hour=5\n",
    "day=25\n",
    "fig,ax=plt.subplots(1,3,figsize=(10,6))\n",
    "sample=july_speed[day,hour,:,:]\n",
    "ax[0].plot(sample.T,z)\n",
    "ax[0].set(title='6 10 minute samples',xlabel='wind speed (m/s)',\n",
    "         ylabel='height (m)')\n",
    "ax[1].plot(hourly_wind_avg[day,hour,:],z)\n",
    "ax[1].set(title='hourly average')\n",
    "ax[2].plot(hourly_wind_avg[day,hour,:],z)\n",
    "ax[2].set(title='hourly average plus interpolated values')\n",
    "#\n",
    "# flip tower data so it goes from bottom to top\n",
    "# and get rid of the lowest level, which doesn't\n",
    "# have a measurement\n",
    "#\n",
    "rev_z=z[::-1]\n",
    "rev_z=rev_z[1:]\n",
    "test=hourly_wind_avg[day,hour,::-1]\n",
    "test=test[1:]\n",
    "\n",
    "def wind_func(z, *coeffs):\n",
    "    'nonlinear function in a and to fit to data'\n",
    "    fit = coeffs[0] + coeffs[1]*z + coeffs[2]*z**2. + coeffs[3]*np.log(z)\n",
    "    return fit\n",
    "\n",
    "initial_guess=[0,0,0,0]\n",
    "pars, pcov = curve_fit(wind_func, rev_z, test, p0=initial_guess)\n",
    "initial_guess\n",
    "pars\n",
    "zinterp=np.linspace(10.,200,50.)\n",
    "speed_interp=func(zinterp,*pars)\n",
    "ax[2].plot(speed_interp,zinterp,'ro',alpha=0.5)\n",
    "pars"
   ]
  },
  {
   "cell_type": "code",
   "execution_count": null,
   "metadata": {
    "collapsed": false
   },
   "outputs": [],
   "source": [
    "with Dataset(the_file,'r') as nc_ubc:\n",
    "    july_nc=nc_ubc.groups[group]\n",
    "    H=july_nc.variables['H'][...]\n",
    "    LE = july_nc.variables['LE'][...]\n",
    "    USTAR = july_nc.variables['UST'][...]\n",
    "    TA002 = july_nc.variables['TA002'][...]\n",
    "    Q002 = july_nc.variables['Q002'][...]\n",
    "    P0 = july_nc.variables['P0'][...]\n",
    "    timevec = july_nc.variables['time'][...]\n",
    "    timevec = [dt.fromtimestamp(item,pytz.utc) \\\n",
    "               for item in timevec.flat]\n",
    "    \n",
    "Rd=287.  #J/kg/K\n",
    "cp = 1004.  #J/kg/K\n",
    "k = 0.4\n",
    "g=9.8\n",
    "rho = P0*1.e2/(Rd*(TA002 + 273.15))"
   ]
  },
  {
   "cell_type": "code",
   "execution_count": null,
   "metadata": {
    "collapsed": false
   },
   "outputs": [],
   "source": [
    "#fleagle and bussinger eq. 6.31\n",
    "Eb = H + 0.02*LE\n",
    "#virtural temperature \n",
    "Tv = TA002 + 273.15  + 0.61*Q002*1.e-3\n",
    "#Fleagle and Businger 6.47\n",
    "L = - Tv*cp*rho*USTAR**3./(k*g*Eb)\n",
    "good = np.abs(Eb) > 1"
   ]
  },
  {
   "cell_type": "code",
   "execution_count": null,
   "metadata": {
    "collapsed": false
   },
   "outputs": [],
   "source": [
    "fig,ax=plt.subplots(1,1)\n",
    "out=plt.hist(L[good].flat,bins=np.linspace(-150,150,40))"
   ]
  },
  {
   "cell_type": "code",
   "execution_count": null,
   "metadata": {
    "collapsed": false
   },
   "outputs": [],
   "source": [
    "fig,ax=plt.subplots(1,1,figsize=(8,6))\n",
    "fig.autofmt_xdate()\n",
    "ax.plot(timevec,L.flat)\n",
    "title='Obukhov length L {}'.format(the_month)\n",
    "out=ax.set(title=title,ylabel='L $(m)$',ylim=[-150,150])"
   ]
  },
  {
   "cell_type": "code",
   "execution_count": null,
   "metadata": {
    "collapsed": false
   },
   "outputs": [],
   "source": [
    "!pwd"
   ]
  },
  {
   "cell_type": "code",
   "execution_count": null,
   "metadata": {
    "collapsed": true
   },
   "outputs": [],
   "source": []
  }
 ],
 "metadata": {
  "kernelspec": {
   "display_name": "Python 3",
   "language": "python",
   "name": "python3"
  },
  "language_info": {
   "codemirror_mode": {
    "name": "ipython",
    "version": 3
   },
   "file_extension": ".py",
   "mimetype": "text/x-python",
   "name": "python",
   "nbconvert_exporter": "python",
   "pygments_lexer": "ipython3",
   "version": "3.4.3"
  }
 },
 "nbformat": 4,
 "nbformat_minor": 0
}