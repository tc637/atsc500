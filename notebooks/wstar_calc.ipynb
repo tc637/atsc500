{
 "cells": [
  {
   "cell_type": "code",
   "execution_count": null,
   "metadata": {
    "collapsed": false
   },
   "outputs": [],
   "source": [
    "%matplotlib inline\n",
    "from matplotlib import pyplot as plt\n",
    "from a500_utils.helpersII import make_tuple\n",
    "from thermlib import thermfuncsII as tf\n",
    "import pandas as pd\n",
    "with pd.HDFStore('dumpvapor.h5') as f:\n",
    "    df_result=f['profile']\n",
    "out=df_result.plot('time','h')"
   ]
  },
  {
   "cell_type": "code",
   "execution_count": null,
   "metadata": {
    "collapsed": false
   },
   "outputs": [],
   "source": [
    "#\n",
    "# capture the last timestep and convert to a named tuple\n",
    "#\n",
    "\n",
    "out=df_result.iloc[-1]\n",
    "steady_state=make_tuple(out.to_dict())\n",
    "steady_state"
   ]
  },
  {
   "cell_type": "markdown",
   "metadata": {},
   "source": [
    "### make a buoyancy flux profile"
   ]
  },
  {
   "cell_type": "code",
   "execution_count": null,
   "metadata": {
    "collapsed": false
   },
   "outputs": [],
   "source": [
    "def flux_prof(z,coeffs):\n",
    "    Fout=coeffs.Fsfc + (coeffs.Finv - coeffs.Fsfc)*(z/coeffs.zinv)\n",
    "    return Fout\n",
    "\n",
    "zvals=np.linspace(0,steady_state.h,30)\n",
    "coeffs_thetal=make_tuple(dict(Fsfc=steady_state.T_flux_0,Finv=steady_state.entflux_theta,\n",
    "                       zinv=steady_state.h))\n",
    "coeffs_qt=make_tuple(dict(Fsfc=steady_state.q_flux_0,Finv=steady_state.entflux_qv,\n",
    "                       zinv=steady_state.h))\n",
    "flux_thetal=flux_prof(zvals,coeffs_thetal)\n",
    "flux_qt=flux_prof(zvals,coeffs_qt)\n",
    "df_flux=pd.DataFrame.from_records(zip(zvals,flux_thetal,flux_qt),columns=['z','flux_thetal','flux_qt'])\n",
    "fig,ax = plt.subplots(1,2,figsize=(12,10))\n",
    "df_flux.plot('flux_thetal','z',ax=ax[0])\n",
    "out=ax[1].plot(flux_qt*2.5e6,zvals)"
   ]
  },
  {
   "cell_type": "code",
   "execution_count": null,
   "metadata": {
    "collapsed": false
   },
   "outputs": [],
   "source": [
    "thetal = steady_state.theta\n",
    "qt = steady_state.qv\n",
    "buoyancy=[]\n",
    "for z,thetal_flux,qt_flux in zip(zvals,flux_thetal,flux_qt):\n",
    "    #assume 10 kPa = 1000 meters\n",
    "    press = 100. - (z/100.)  #kPa\n",
    "    A,B,issat = tf.calc_ABcoeffs(thetal,qt,press)\n",
    "    buoyancy.append(A*thetal_flux + B*qt_flux)\n",
    "g=9.8\n",
    "buoy_flux =np.array(buoyancy)\n",
    "out=plt.plot(buoy_flux,zvals)\n",
    "wstar3 = np.sum(buoy_flux[1:]*np.diff(zvals))*2.5*g/thetal\n",
    "print('wstar= {:5.3f} m/s'.format(wstar3**0.333))"
   ]
  },
  {
   "cell_type": "code",
   "execution_count": null,
   "metadata": {
    "collapsed": true
   },
   "outputs": [],
   "source": []
  }
 ],
 "metadata": {
  "kernelspec": {
   "display_name": "Python 3",
   "language": "python",
   "name": "python3"
  },
  "language_info": {
   "codemirror_mode": {
    "name": "ipython",
    "version": 3
   },
   "file_extension": ".py",
   "mimetype": "text/x-python",
   "name": "python",
   "nbconvert_exporter": "python",
   "pygments_lexer": "ipython3",
   "version": "3.4.3"
  }
 },
 "nbformat": 4,
 "nbformat_minor": 0
}