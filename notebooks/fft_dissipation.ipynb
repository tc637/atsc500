{
 "cells": [
  {
   "cell_type": "code",
   "execution_count": null,
   "metadata": {
    "collapsed": false
   },
   "outputs": [],
   "source": [
    "import numpy as np\n",
    "import matplotlib.pyplot as plt\n",
    "plt.style.use('ggplot')"
   ]
  },
  {
   "cell_type": "markdown",
   "metadata": {},
   "source": [
    "## Power spectrum of turbulent vertical velocity"
   ]
  },
  {
   "cell_type": "code",
   "execution_count": null,
   "metadata": {
    "collapsed": false
   },
   "outputs": [],
   "source": [
    "#load data sampled at 20.8333 Hz\n",
    "\n",
    "td=numpy.load('miami_tower.npz') #load temp, uvel, vvel, wvel, minutes\n",
    "print('keys: ',td.keys())\n",
    "print(td['description'])\n"
   ]
  },
  {
   "cell_type": "markdown",
   "metadata": {},
   "source": [
    "## Step 1: plot the raw spectrum and confirm the W-K theorem"
   ]
  },
  {
   "cell_type": "code",
   "execution_count": null,
   "metadata": {
    "collapsed": false,
    "scrolled": false
   },
   "outputs": [],
   "source": [
    "sampleRate=20.833\n",
    "nyquistfreq=sampleRate/2.\n",
    "\n",
    "\n",
    "totsize=36000\n",
    "wvel=td['wvel'][0:totsize].flatten()\n",
    "temp=td['temp'][0:totsize].flatten()\n",
    "wvel = wvel - np.mean(wvel)\n",
    "temp= temp - np.mean(temp)\n",
    "flux=wvel*temp\n",
    "\n",
    "\n",
    "halfpoint=np.int(np.floor(totsize/2.))\n",
    "frequencies=np.arange(0,halfpoint)\n",
    "frequencies=frequencies/halfpoint\n",
    "frequencies=frequencies*nyquistfreq\n",
    "\n",
    "# raw spectrum -- no windowing or averaging\n",
    "#First confirm Parseval's theorem\n",
    "# (Numerical Recipes 12.1.10, p. 498)\n",
    "\n",
    "thefft=np.fft.fft(wvel)\n",
    "power=np.real(thefft*np.conj(thefft))\n",
    "print('check Wiener-Khichine theorem for wvel')\n",
    "print('\\nraw fft sum, full time series: %10.4f\\n' % (np.sum(power)/totsize**2.))\n",
    "print('velocity variance: %10.4f\\n' % (np.sum(wvel*wvel)/totsize))\n",
    "\n",
    "\n",
    "fig,theAx=plt.subplots(1,1,figsize=(8,8))\n",
    "frequencies[0]=np.NaN\n",
    "power[0]=np.NaN\n",
    "power_half=2.*power[:halfpoint]/(totsize**2.)\n",
    "print('check: ',np.nansum(power_half))\n",
    "theAx.loglog(frequencies,power_half)\n",
    "theAx.set_title('raw wvel spectrum with $f^{-5/3}$')\n",
    "theAx.set(xlabel='frequency (HZ)',ylabel='power (m^2/s^2)')\n",
    "#\n",
    "# pick one point the line should pass through (by eye)\n",
    "# note that y intercept will be at log10(freq)=0\n",
    "# or freq=1 Hz\n",
    "#\n",
    "leftspec=np.log10(power_half[1]*1.e-3)\n",
    "logy=leftspec - 5./3.*np.log10(frequencies)\n",
    "yvals=10.**logy\n",
    "theAx.loglog(frequencies,yvals,'r-')\n",
    "thePoint=theAx.plot(1.,power_half[1]*1.e-3,'g+')\n",
    "thePoint[0].set_markersize(15)\n",
    "thePoint[0].set_marker('h')\n",
    "thePoint[0].set_markerfacecolor('g')\n",
    "\n"
   ]
  },
  {
   "cell_type": "markdown",
   "metadata": {},
   "source": [
    "## Step 2: check power spectrum layout"
   ]
  },
  {
   "cell_type": "markdown",
   "metadata": {},
   "source": [
    "Here is what the entire power spectrum looks like, showing positive and negative frequencies"
   ]
  },
  {
   "cell_type": "code",
   "execution_count": null,
   "metadata": {
    "collapsed": false,
    "scrolled": true
   },
   "outputs": [],
   "source": [
    "fig,theAx=plt.subplots(1,1,figsize=(8,8))\n",
    "out=theAx.semilogy(power)"
   ]
  },
  {
   "cell_type": "markdown",
   "metadata": {},
   "source": [
    "and here is what fftshift does:"
   ]
  },
  {
   "cell_type": "code",
   "execution_count": null,
   "metadata": {
    "collapsed": false
   },
   "outputs": [],
   "source": [
    "shift_power=np.fft.fftshift(power)\n",
    "fig,theAx=plt.subplots(1,1,figsize=(8,8))\n",
    "out=theAx.semilogy(shift_power)"
   ]
  },
  {
   "cell_type": "markdown",
   "metadata": {},
   "source": [
    "### Confirm that the fft at negative f is the complex conjugate of the fft at positive f"
   ]
  },
  {
   "cell_type": "code",
   "execution_count": null,
   "metadata": {
    "collapsed": false
   },
   "outputs": [],
   "source": [
    "test_fft=np.fft.fft(wvel)\n",
    "fig,theAx=plt.subplots(2,1,figsize=(8,10))\n",
    "theAx[0].semilogy(np.real(test_fft))\n",
    "theAx[1].semilogy(np.imag(test_fft))\n",
    "print(test_fft[100])\n",
    "print(test_fft[-100])"
   ]
  },
  {
   "cell_type": "markdown",
   "metadata": {},
   "source": [
    "## Step 3: Windowing and averaging subsamples\n",
    "\n",
    "The FFT above is noisy, and there are several ways to smooth it.  Numerical Recipes, p. 550 has a good discussion of \"windowing\" which helps remove the spurious power caused by the fact that the timeseries has a sudden stop and start.\n",
    "Below we split the timeseries into 25 segements of 1440 points each, fft each segment then average the 25.  We convolve each segment with a Bartlett window."
   ]
  },
  {
   "cell_type": "code",
   "execution_count": null,
   "metadata": {
    "collapsed": false
   },
   "outputs": [],
   "source": [
    "print('\\n\\n\\nTry a windowed spectrum (Bartlett window)\\n')\n",
    "## windowing -- see p. Numerical recipes 550 for notation\n",
    "\n",
    "def calc_window(numvals=1440):\n",
    "    \"\"\"\n",
    "      Calculate a Bartlett window following\n",
    "      Numerical Recipes 13.4.13\n",
    "    \"\"\"\n",
    "    \n",
    "    halfpoint=int(np.floor(numvals/2.))\n",
    "    facm=halfpoint\n",
    "    facp=1/facm\n",
    "\n",
    "    window=np.empty([numvals],np.float)\n",
    "    for j in np.arange(numvals):\n",
    "        window[j]=(1.-((j - facm)*facp)**2.)\n",
    "    return window\n",
    "\n",
    "#\n",
    "#  we need to normalize by the squared weights\n",
    "#  (see the fortran code on Numerical recipes p. 550)\n",
    "#\n",
    "numvals=1440\n",
    "window=calc_window(numvals=numvals)\n",
    "#window[:]=1.\n",
    "sumw=np.sum(window**2.)/numvals\n",
    "fig,theAx=plt.subplots(1,1,figsize=(8,8))\n",
    "theAx.plot(window)\n",
    "theAx.set_title('Bartlett window')\n",
    "print('sumw: %10.3f' % sumw)"
   ]
  },
  {
   "cell_type": "markdown",
   "metadata": {},
   "source": [
    "## Caveat -- subsamples no longer have zero mean, so power gets placed in bin 0"
   ]
  },
  {
   "cell_type": "markdown",
   "metadata": {},
   "source": [
    "### Solution -- change the amplitude of the averaged spectrum so it matches the total variance of the time series\n",
    "\n",
    "Look for ```normalized_power``` in the cell below"
   ]
  },
  {
   "cell_type": "code",
   "execution_count": null,
   "metadata": {
    "collapsed": false
   },
   "outputs": [],
   "source": [
    "def do_fft(the_series,window,ensemble=25,title='title',debug=False):\n",
    "    variance = np.sum(the_series*the_series)/len(the_series)\n",
    "    print('total variance: ',variance)\n",
    "    numvals=len(window)\n",
    "    sumw=np.sum(window**2.)/numvals\n",
    "    subset=the_series.copy()\n",
    "    subset=subset[:len(window)*ensemble]\n",
    "    subset=np.reshape(subset,(ensemble,numvals))\n",
    "    winspec=np.zeros([numvals],np.float)\n",
    "#\n",
    "#  note that for these indvidual ensemble members\n",
    "#  subset[therow,:] does not have mean = 0\n",
    "#  this means that the 0 frequency bin, power[0] will\n",
    "#  not be zero.\n",
    "#\n",
    "    for therow in np.arange(ensemble):\n",
    "        thedat=subset[therow,:] \n",
    "        #thedat = thedat - thedat.mean()\n",
    "        thefft =np.fft.fft(thedat*window)\n",
    "        power=thefft*np.conj(thefft)\n",
    "        if debug:\n",
    "            print('\\nensemble member: {}'.format(therow))\n",
    "            thesum=np.real(np.sum(power)/(sumw*numvals**2.))\n",
    "            print('thesum: {:10.4f}'.format(float(thesum)))\n",
    "            print('\\nwindowed fft sum (m^2/s^2): {0:10.4f}\\n'.format(float(thesum)))\n",
    "            thevar=np.sum(thedat*thedat)/numvals\n",
    "            print('velocity variance (m^2/s^2): {0:10.4f}\\n\\n'.format(thevar))\n",
    "        winspec=winspec + power\n",
    "\n",
    "    winspec=np.real(winspec/(numvals**2.*ensemble*sumw))\n",
    "    smoothed_variance=np.sum(winspec)\n",
    "    print('total zero frequency component is: ',winspec[0])\n",
    "    print('total smoothed power specturm is: ',np.sum(winspec))\n",
    "    print('total measured variance is: ',variance)\n",
    "    halfpoint=int(len(winspec)/2.)\n",
    "    print('halfpoint is: ',halfpoint)\n",
    "    print('left half: ',2.*np.sum(winspec[1:halfpoint]))\n",
    "    print('right half:',2.*np.sum(winspec[halfpoint:]))\n",
    "    #\n",
    "    # force the returned spectrum to have 0 power in bin 0\n",
    "    # and total variance = observed variance\n",
    "    #\n",
    "    normalized_power=np.empty_like(winspec)\n",
    "    normalized_power[1:]=winspec[1:]/np.sum(winspec[1:])*variance\n",
    "    normalized_power[0]=0.\n",
    "    print('normalized power spectrum has variance ',np.sum(normalized_power))\n",
    "    return normalized_power"
   ]
  },
  {
   "cell_type": "markdown",
   "metadata": {},
   "source": [
    "## Try running do_fft with and without debug printing"
   ]
  },
  {
   "cell_type": "code",
   "execution_count": null,
   "metadata": {
    "collapsed": false
   },
   "outputs": [],
   "source": [
    "winspec=do_fft(wvel,window,debug=True)"
   ]
  },
  {
   "cell_type": "code",
   "execution_count": null,
   "metadata": {
    "collapsed": false,
    "scrolled": true
   },
   "outputs": [],
   "source": [
    "%matplotlib inline\n",
    "fig,ax=plt.subplots(1,1)\n",
    "ax.semilogy(winspec)\n",
    "out=ax.set(title='smoothed power spectrum')"
   ]
  },
  {
   "cell_type": "markdown",
   "metadata": {},
   "source": [
    "### We want the integral over the positive frequencies to give the total variance, so increase spectral values by 2x"
   ]
  },
  {
   "cell_type": "markdown",
   "metadata": {},
   "source": [
    "In addition, we want $E(k)$ to have spectral densities units of $W\\,m^{-2}\\,Hz^{-1}$, so that this integral works:\n",
    "\n",
    "$$\\int_0^\\infty E(k) dk = \\sigma^2_w$$\n",
    "\n",
    "That means we need to divide by the frequency bin width $\\Delta f$"
   ]
  },
  {
   "cell_type": "code",
   "execution_count": null,
   "metadata": {
    "collapsed": false
   },
   "outputs": [],
   "source": [
    "sampleRate=20.833\n",
    "nyquistfreq=sampleRate/2.\n",
    "halfpoint=int(len(winspec)/2.)\n",
    "averaged_freq=np.linspace(0,1.,halfpoint)*nyquistfreq   \n",
    "winspec_half=2.*winspec[1:halfpoint]\n",
    "print('summed power spectrum: ',np.sum(winspec_half))\n",
    "delta_f=np.diff(averaged_freq)[0]\n",
    "power_dens=winspec_half/delta_f\n",
    "averaged_freq=averaged_freq[1:]"
   ]
  },
  {
   "cell_type": "markdown",
   "metadata": {},
   "source": [
    "## Step 4: fit the averaged spectrum to $E(f) = A_0 f^{-5/3}$ on a loglog plot"
   ]
  },
  {
   "cell_type": "code",
   "execution_count": null,
   "metadata": {
    "collapsed": false
   },
   "outputs": [],
   "source": [
    "from scipy.optimize import curve_fit\n",
    "\n",
    "def fit_func(log10_f, log10_A):\n",
    "    'fit A*f^{-5/3} for log/log plot'\n",
    "    fit = log10_A - 5./3.*log10_f\n",
    "    return fit\n",
    "\n",
    "initial_A=0.\n",
    "log10_A, pcov = curve_fit(fit_func,np.log10(averaged_freq),np.log10(power_dens), \n",
    "                       p0=initial_A)"
   ]
  },
  {
   "cell_type": "code",
   "execution_count": null,
   "metadata": {
    "collapsed": false
   },
   "outputs": [],
   "source": [
    "def do_plot(the_freq,the_spec,log10_A=1,slope= -5./3.,title=None,ylabel=None):\n",
    "    fig,theAx=plt.subplots(1,1,figsize=(8,6))\n",
    "    theAx.loglog(the_freq,the_spec,label='fft power')\n",
    "    if title:\n",
    "        theAx.set_title(title)\n",
    "    logy = log10_A + slope*np.log10(the_freq)\n",
    "    yvals=10.**logy\n",
    "    theAx.loglog(the_freq,yvals,'g-',label='$f^{-5/3}$')\n",
    "    theAx.set_xlabel('frequency (Hz)')\n",
    "    if ylabel:\n",
    "        out=theAx.set_ylabel(ylabel)\n",
    "    out=theAx.legend(loc='best')\n",
    "    return theAx\n",
    "\n",
    "params=dict(log10_A=log10_A[0],title='wvel power spectrum',\n",
    "            ylabel='$(m^2\\,s^{-2}\\,Hz^{-1})$')\n",
    "ax=do_plot(averaged_freq,power_dens,**params)\n",
    "fit=10**log10_A[0]*averaged_freq[100]**(-5./3.)\n",
    "check=power_dens[100]\n",
    "print('Value of constant Ai = {:8.5f}'.format(10**log10_A[0]))\n",
    "print('how good is the fit at point 100? spectrum: {:8.5f}  -5/3: {:8.5f}'.format(fit,check))"
   ]
  },
  {
   "cell_type": "markdown",
   "metadata": {},
   "source": [
    "## Step 5: Use Kolmogorov 1941 to find $\\epsilon$\n",
    "\n",
    "According to McBean and Elliot (1975) or Stull page 431, we want to solve this equation:\n",
    "\n",
    "$$E(k) = A_0 k^{-5/3} = 0.5 \\epsilon^{2/3} k^{-5/3}$$  for $\\epsilon$ at some value of k.\n",
    "\n",
    "$$\\epsilon = 0.5 E(k)^{3/2} k^{5/2}$$\n",
    "\n",
    "for all $k$ in the inertial subrange.\n",
    "\n",
    "If the turbulence is frozen, then we can convert from $f$ to $k$ with the mean windspeed $\\overline{U}$ (Stull eq. 1.4c)\n",
    "\n",
    "$$f = \\overline{U} k$$\n",
    "\n",
    "$$df = \\overline{U} dk$$\n",
    "\n",
    "So for the change of variables we need to make sure that:\n",
    "\n",
    "$$E(f)df  = E(k)dk$$  (i.e. the power in a bin stays the same).\n",
    "\n",
    "$$E(f) df = A_0 f^{-5/3} df = A_0 (\\overline{U} k)^{-5/3} \\overline{U} dk = A_0 \\overline{U}^{-2/3} k^{-5/3} dk$$\n",
    "\n",
    "From our fit:\n",
    "\n",
    "$$E(f) = 0.055 f^{-5/3} = 0.055 (\\overline{U} k)^{-5/3}$$\n",
    "\n",
    "and taking $\\overline{U} = 10\\ m/s$ as a typical value for Miami:\n",
    "\n",
    "$$E(k) = (0.055) 10^{-2/3} k^{-5/3}  = (0.055)(0.2) k^{-5./3.} = 0.01 k^{-5/3}$$\n",
    "\n",
    "Evaluate this at f= 1 Hz which corresponds to k = 1 Hz/(10 m/s) = 0.1 $m^{-1}$: \n",
    "\n",
    "$$E(0.1) = 0.01 \\times 0.1^{-5/3}  = 0.46\\ m^2\\,s^{-2}/m^{-1} = 0.46\\ m^3\\,s^{-2}$$\n",
    "\n",
    "So using the formula:\n",
    "\n",
    "$$\\epsilon = 0.5 E(k)^{3/2} k^{5/2} = 0.5(0.46)^{3/2}(0.1)^{5/2} = 5 \\times 10^{-4}\\ m^2 s^{-3}$$"
   ]
  },
  {
   "cell_type": "markdown",
   "metadata": {},
   "source": [
    "### Is $\\epsilon = 5 \\times 10^{-4}\\ m^2 s^{-3}$ a reasonable value for the vertical turbulent dissipation rate?"
   ]
  },
  {
   "cell_type": "markdown",
   "metadata": {},
   "source": [
    "1. Suppose the turbulence is isotropic, so the u and v components have the same $\\epsilon$.  Then the total     dissipation rate is $1.5 \\times 10^{-3}\\ m^2 s^{-3}$.  If the total variance in the windfiled was $3\\ m^2\\,s^{-2}$, then that would imply that the atmosphere would \"spin down\" in 3/1.5e-3 = 2000 seconds = 33 minutes.\n",
    "\n",
    "2. Also check out Figure 10 of [Campistron et al., 2002](http://dx.doi.org/10.1023/A%3A1014985111855)"
   ]
  },
  {
   "cell_type": "markdown",
   "metadata": {},
   "source": [
    "## Does the data support $f^{-5/3}$?\n",
    "\n",
    "Try fitting again, but this time let the slope be a free parameter.  Do we get -5/3?"
   ]
  },
  {
   "cell_type": "code",
   "execution_count": null,
   "metadata": {
    "collapsed": false
   },
   "outputs": [],
   "source": [
    "def fit_func(log10_f, log10_A, slope):\n",
    "    'fit A*f^{-5/3} for log/log plot'\n",
    "    fit = log10_A + slope*log10_f\n",
    "    return fit\n",
    "\n",
    "initial_A=0.\n",
    "coeffs, pcov = curve_fit(fit_func,np.log10(averaged_freq),np.log10(power_dens), \n",
    "                       p0=[initial_A,-2.])\n",
    "print('log10_A and slope: {:8.5f} {:8.5f} instead of -1.6666'.format(*coeffs))"
   ]
  },
  {
   "cell_type": "code",
   "execution_count": null,
   "metadata": {
    "collapsed": false
   },
   "outputs": [],
   "source": [
    "params['title']='fit with variable slope'\n",
    "params['log10_A']=coeffs[0]\n",
    "params['slope']=coeffs[1]\n",
    "ax=do_plot(averaged_freq,power_dens,**params)\n",
    "fit=10**coeffs[0]*averaged_freq[100]**coeffs[1]\n",
    "check=power_dens[100]\n",
    "print('Value of constant A0 = {:8.5f}'.format(10**log10_A[0]))\n",
    "print('how good is the fit at point 100? spectrum: {:8.5f}  -5/3: {:8.5f}'.format(fit,check))"
   ]
  },
  {
   "cell_type": "markdown",
   "metadata": {
    "collapsed": true
   },
   "source": [
    "### Smothing the power spectrum by simple binning"
   ]
  },
  {
   "cell_type": "markdown",
   "metadata": {},
   "source": [
    "Instead of the elaborate subsetting and windowing we did above, what if we just dropped the power spectrum values into a coarser set of frequency bins?  Would that change the results?"
   ]
  },
  {
   "cell_type": "code",
   "execution_count": null,
   "metadata": {
    "collapsed": false,
    "scrolled": true
   },
   "outputs": [],
   "source": [
    "new_spec=power_half.reshape((720,-1))\n",
    "new_dens=new_spec[1:].sum(axis=1)/delta_f\n",
    "\n",
    "\n",
    "coeffs, pcov = curve_fit(fit_func,np.log10(averaged_freq),np.log10(new_dens), \n",
    "                       p0=[initial_A,-2.])\n",
    "params['log10_A']=coeffs[0]\n",
    "params['slope']=coeffs[1]\n",
    "print('log10_A and slope: {:8.5f} {:8.5f} instead of -1.6666'.format(*coeffs))\n",
    "\n",
    "ax=do_plot(averaged_freq,new_dens,**params)\n",
    "out=ax.set_title('result with simple binning')\n"
   ]
  },
  {
   "cell_type": "code",
   "execution_count": null,
   "metadata": {
    "collapsed": true
   },
   "outputs": [],
   "source": []
  }
 ],
 "metadata": {
  "kernelspec": {
   "display_name": "Python 3",
   "language": "python",
   "name": "python3"
  },
  "language_info": {
   "codemirror_mode": {
    "name": "ipython",
    "version": 3
   },
   "file_extension": ".py",
   "mimetype": "text/x-python",
   "name": "python",
   "nbconvert_exporter": "python",
   "pygments_lexer": "ipython3",
   "version": "3.4.3"
  }
 },
 "nbformat": 4,
 "nbformat_minor": 0
}