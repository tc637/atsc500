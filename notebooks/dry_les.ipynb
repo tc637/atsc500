{
 "cells": [
  {
   "cell_type": "code",
   "execution_count": null,
   "metadata": {
    "collapsed": false
   },
   "outputs": [],
   "source": [
    "import urllib,os\n",
    "from matplotlib import pyplot as plt\n",
    "from netCDF4 import Dataset\n",
    "\n",
    "download=False\n",
    "the_file='case_60_10.nc'\n",
    "the_url=\"http://clouds.eos.ubc.ca/~phil/docs/atsc500/data/{}\".format(the_file)\n",
    "if download:\n",
    "    out=urllib.request.urlretrieve(the_url,the_file)\n",
    "    print(out)\n",
    "print(\"download {}: size is {:8.4g} Mbytes\".format(the_file,os.path.getsize(the_file)*1.e-6))"
   ]
  },
  {
   "cell_type": "markdown",
   "metadata": {},
   "source": [
    "Netcdf file layout:  10 groups corresponding to 10 different ensemble members.  Small slice of larger domain of LES run with surface heat flux of 60 W/m^2 and stable layer with dT/dz = 10 K/km.  Snapshots every 10 minutes for 8 hours."
   ]
  },
  {
   "cell_type": "code",
   "execution_count": null,
   "metadata": {
    "collapsed": false
   },
   "outputs": [],
   "source": [
    "!ncdump -h case_60_10.nc"
   ]
  },
  {
   "cell_type": "markdown",
   "metadata": {},
   "source": [
    "Plot $\\theta$ profile for every third timestep (i.e. every 30 minutes)"
   ]
  },
  {
   "cell_type": "code",
   "execution_count": null,
   "metadata": {
    "collapsed": false
   },
   "outputs": [],
   "source": [
    "%matplotlib inline\n",
    "\n",
    "def make_theta(temp,press):\n",
    "    \"\"\"\n",
    "      temp in K\n",
    "      press in Pa\n",
    "      returns theta in K\n",
    "    \"\"\"\n",
    "    p0=1.e5\n",
    "    Rd=287.  #J/kg/K\n",
    "    cpd=1004.  #J/kg/K\n",
    "    theta=temp*(p0/press)**(Rd/cpd)\n",
    "    return theta\n",
    "\n",
    "case_name='case_60_10.nc'\n",
    "#\n",
    "#  look at the first ensemble member\n",
    "#\n",
    "ensemble='c1'\n",
    "with Dataset(case_name,'r') as ncin:\n",
    "    group = ncin.groups['c1']\n",
    "    temp=group.variables['TABS'][...]\n",
    "    press=ncin.variables['press'][...]\n",
    "    z=ncin.variables['z'][...]\n",
    "temp=temp.mean(axis=3).mean(axis=2)\n",
    "\n",
    "plt.style.use('ggplot')\n",
    "fig,ax=plt.subplots(1,1,figsize=(10,8))\n",
    "for i in np.arange(0,temp.shape[0],3):\n",
    "    theta = make_theta(temp[i,:],press)\n",
    "    ax.plot(theta,z)\n",
    "out=ax.set(xlabel=r'$\\overline{\\theta}$ (K)',ylabel='height (m)',\n",
    "       title='LES dry run:  surface flux=60 $W\\,m^{-2}$, $\\Gamma$=10 K/km')\n",
    "\n"
   ]
  },
  {
   "cell_type": "code",
   "execution_count": null,
   "metadata": {
    "collapsed": true
   },
   "outputs": [],
   "source": []
  }
 ],
 "metadata": {
  "kernelspec": {
   "display_name": "Python 3",
   "language": "python",
   "name": "python3"
  },
  "language_info": {
   "codemirror_mode": {
    "name": "ipython",
    "version": 3
   },
   "file_extension": ".py",
   "mimetype": "text/x-python",
   "name": "python",
   "nbconvert_exporter": "python",
   "pygments_lexer": "ipython3",
   "version": "3.4.3"
  }
 },
 "nbformat": 4,
 "nbformat_minor": 0
}