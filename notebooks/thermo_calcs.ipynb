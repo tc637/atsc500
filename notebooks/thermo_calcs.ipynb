{
 "cells": [
  {
   "cell_type": "code",
   "execution_count": null,
   "metadata": {
    "collapsed": false
   },
   "outputs": [],
   "source": [
    "from thermlib import thermfuncs as tf\n",
    "import thermlib\n",
    "from importlib import reload\n",
    "reload(thermlib)\n",
    "import pandas as pd\n",
    "\n",
    "Temp=280. #K\n",
    "press=90. #kPa\n",
    "#\n",
    "# find the saturation mixing ratio and potential temp from the temperature and pressure\n",
    "#\n",
    "print(tf.qs_tp(Temp,press))\n",
    "print(tf.theta(Temp,press))\n",
    "#\n",
    "# find the dew point temperature and the lifting condensation level\n",
    "#\n",
    "psurf=100.  #kPa\n",
    "Tsurf=290.\n",
    "qvap=7.e-3  #kg/kg\n",
    "Tdew = tf.tmr(qvap,psurf)\n",
    "print('the surface dew point temp is: ',Tdew)\n",
    "LCL = tf.LCL(Tdew,Tsurf,psurf)\n",
    "print('the LCL is {:5.2f} kPa'.format(LCL))\n",
    "\n",
    "#\n",
    "# find thetal \n",
    "#\n",
    "thetal = tf.alt_thetal(psurf,Tsurf,qvap)\n",
    "#\n",
    "# invert thetal for temperature, vapor, liquid\n",
    "#\n",
    "print(tf.t_uos_thetal(thetal,qvap,80.))\n",
    "#\n",
    "# make a sounding\n",
    "#\n",
    "press_levs=np.linspace(80,100.,20.)\n",
    "press_levs=press_levs[::-1]\n",
    "sounding=[]\n",
    "for press in press_levs:\n",
    "    sounding.append(tf.t_uos_thetal(thetal,qvap,press))\n",
    "    \n",
    "df_sounding=pd.DataFrame.from_records(sounding)"
   ]
  },
  {
   "cell_type": "code",
   "execution_count": null,
   "metadata": {
    "collapsed": false
   },
   "outputs": [],
   "source": [
    "from matplotlib import pyplot as plt\n",
    "%matplotlib inline\n",
    "fig,ax = plt.subplots(1,2,figsize=(12,8))\n",
    "ax[0].plot(df_sounding['RV']*1.e3,press_levs)\n",
    "ax[0].invert_yaxis()\n",
    "ax[1].plot(df_sounding['RL']*1.e3,press_levs)\n",
    "ax[1].invert_yaxis()\n",
    "ax[0].set(title='vapor mixing ratio',xlabel='qv (g/kg)',ylabel='pressure (kPa)')\n",
    "out=ax[1].set(title='liquid mixing ratio',xlabel='ql (g/kg)',ylabel='pressure (kPa)')"
   ]
  },
  {
   "cell_type": "code",
   "execution_count": null,
   "metadata": {
    "collapsed": true
   },
   "outputs": [],
   "source": []
  }
 ],
 "metadata": {
  "kernelspec": {
   "display_name": "Python 3",
   "language": "python",
   "name": "python3"
  },
  "language_info": {
   "codemirror_mode": {
    "name": "ipython",
    "version": 3
   },
   "file_extension": ".py",
   "mimetype": "text/x-python",
   "name": "python",
   "nbconvert_exporter": "python",
   "pygments_lexer": "ipython3",
   "version": "3.4.3"
  }
 },
 "nbformat": 4,
 "nbformat_minor": 0
}