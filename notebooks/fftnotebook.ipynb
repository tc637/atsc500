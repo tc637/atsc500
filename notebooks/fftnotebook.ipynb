{
 "cells": [
  {
   "cell_type": "code",
   "execution_count": null,
   "metadata": {
    "collapsed": true
   },
   "outputs": [],
   "source": [
    "import numpy as np\n",
    "import matplotlib.pyplot as plt\n",
    "plt.style.use('ggplot')"
   ]
  },
  {
   "cell_type": "markdown",
   "metadata": {},
   "source": [
    "# Introduction \n",
    "\n",
    "This lab introduces the use of the fast Fourier transform for estimation\n",
    "of the power spectral density and for simple filtering.  If you need a refresher or\n",
    "are learning about fourier transforms for the first time,  we recommend reading\n",
    "[Newman Chapter 7](pdf_files/newman_chapter7.pdf).  For a description of the Fast Fourier transform,\n",
    "see [Stull Section 8.4](pdf_files/stull_chapter8_4.pdf) and [Jake VanderPlas's blog entry](https://jakevdp.github.io/blog/2013/08/28/understanding-the-fft/).  Another good resources is\n",
    "[Numerical Recipes Chapter 12](pdf_files/numerical_recipes_fft.pdf)\n",
    "\n",
    "\n",
    "\n",
    "## A simple transform\n",
    "\n",
    "To get started assume that there is a pure tone -- a cosine wave oscillating at a frequency of 1 Hz.  Next assume that we sample that 1 Hz wave at a sampling rate of 5 Hz i.e. 5 times a second"
   ]
  },
  {
   "cell_type": "code",
   "execution_count": null,
   "metadata": {
    "collapsed": false
   },
   "outputs": [],
   "source": [
    "%matplotlib inline\n",
    "#\n",
    "# create a cosine wave that oscilates 20 times in 20 seconds\n",
    "# sampled at  Hz, so there are 20*5 = 100 measurements in 20 seconds\n",
    "#\n",
    "deltaT=0.2\n",
    "ticks = np.arange(0,20,deltaT)\n",
    "#\n",
    "#20 cycles in 20 seconds, each cycle goes through 2*pi radians\n",
    "#\n",
    "onehz=np.cos(2.*np.pi*ticks)\n",
    "fig,ax = plt.subplots(1,1,figsize=(8,6))\n",
    "ax.plot(ticks,onehz)\n",
    "ax.set_title('one hz wave sampled at 5 Hz')\n",
    "out=ax.set_xlabel('time (seconds)')"
   ]
  },
  {
   "cell_type": "markdown",
   "metadata": {},
   "source": [
    "Repeat, but for a 2 Hz wave"
   ]
  },
  {
   "cell_type": "code",
   "execution_count": null,
   "metadata": {
    "collapsed": false
   },
   "outputs": [],
   "source": [
    "deltaT=0.2\n",
    "ticks = np.arange(0,20,deltaT)\n",
    "#\n",
    "#40 cycles in 20 seconds, each cycle goes through 2*pi radians\n",
    "#\n",
    "twohz=np.cos(2.*2.*np.pi*ticks)\n",
    "fig,ax = plt.subplots(1,1,figsize=(8,6))\n",
    "ax.plot(ticks,twohz)\n",
    "ax.set_title('two hz wave sampled at 5 Hz')\n",
    "out=ax.set_xlabel('time (seconds)')"
   ]
  },
  {
   "cell_type": "markdown",
   "metadata": {},
   "source": [
    "Note the problem at 2 Hz,  the 5 Hz sampling frequency is too coarse to hit the top of every other\n",
    "peak in the wave"
   ]
  },
  {
   "cell_type": "code",
   "execution_count": null,
   "metadata": {
    "collapsed": false
   },
   "outputs": [],
   "source": [
    "#now take the fft, we have 100 bins, so we alias at 50 bins, which is the nyquist frequency of 5 Hz/2. = 2.5 Hz\n",
    "# so the fft frequency resolution is 20 bins/Hz, or 1 bin = 0.05 Hz\n",
    "thefft=np.fft.fft(onehz)\n",
    "real_coeffs=np.real(thefft)\n",
    "\n",
    "fig,theAx=plt.subplots(1,1,figsize=(8,6))\n",
    "theAx.plot(real_coeffs)\n",
    "out=theAx.set_title('real fft of onehz')"
   ]
  },
  {
   "cell_type": "markdown",
   "metadata": {},
   "source": [
    "The layout of the fft return value is describe in [the scipy user manual](http://docs.scipy.org/doc/scipy/reference/tutorial/fftpack.html#id9).   For reference, here is the Fourier transform calculated by numpy.fft:\n",
    "\n",
    "$$y[k] = \\sum_{n=0}^{N-1} x[n]\\exp \\left (- i 2 \\pi k n /N \\right )$$\n",
    "\n",
    "which is the discrete version of the continuous transform (Numerical Recipes 12.0.4):\n",
    "\n",
    "$$y(k) = \\int_{-\\infty}^{\\infty} x(t) \\exp \\left ( -i k t \\right ) dt$$\n",
    "\n",
    "(Note the different minus sign convention in the exponent compared to Numerical Recipes p. 490.  It doesn't matter what you choose, as long\n",
    "as you're consistent).\n",
    "\n",
    "From the Scipy manual:\n",
    "\n",
    "> Inserting k=0 we see that np.sum(x)  corresponds to y[0]. This term will be non-zero if we haven't removed any large scale trend in the data. For N even, the elements y[1]...y[N/2−1] contain the positive-frequency terms, and the elements y[N/2]...y[N−1] contain the negative-frequency terms, in order of decreasingly negative frequency. For N odd, the elements y[1]...y[(N−1)/2] contain the positive- frequency terms, and the elements y[(N+1)/2]...y[N−1] contain the negative- frequency terms, in order of decreasingly negative frequency.\n",
    "> In case the sequence x is real-valued, the values of y[n] for positive frequencies is the conjugate of the values y[n] for negative frequencies (because the spectrum is symmetric). Typically, only the FFT corresponding to positive frequencies is plotted.\n",
    "\n",
    "So the first peak at index 20 is (20 bins) x (0.05 Hz/bin) = 1 Hz, as expected.  The nyquist frequency of 2.5 Hz is at an index of N/2 = 50 and the negative frequency peak is 20 bins to the left of the end bin.\n",
    "\n",
    "\n",
    "The inverse transform is:\n",
    "\n",
    "$$x[n] = \\frac{1}{N} \\sum_{k=0}^{N-1} y]k]\\exp \\left ( i 2 \\pi k n /N \\right )$$"
   ]
  },
  {
   "cell_type": "markdown",
   "metadata": {},
   "source": [
    "What about the imaginary part?  All imaginary coefficients are zero (neglecting roundoff errors)"
   ]
  },
  {
   "cell_type": "code",
   "execution_count": null,
   "metadata": {
    "collapsed": false
   },
   "outputs": [],
   "source": [
    "imag_coeffs=np.imag(thefft)\n",
    "fig,theAx=plt.subplots(1,1,figsize=(8,6))\n",
    "theAx.plot(imag_coeffs)\n",
    "out=theAx.set_title('imag fft of onehz')"
   ]
  },
  {
   "cell_type": "code",
   "execution_count": null,
   "metadata": {
    "collapsed": false
   },
   "outputs": [],
   "source": [
    "#now evaluate the power spectrum using Stull's 8.6.1a on p. 312\n",
    "\n",
    "Power=np.real(thefft*np.conj(thefft))\n",
    "totsize=len(thefft)\n",
    "halfpoint=int(np.floor(totsize/2.))\n",
    "firsthalf=Power[0:halfpoint] \n",
    "\n",
    "\n",
    "fig,ax=plt.subplots(1,1)\n",
    "freq=np.arange(0,5.,0.05)\n",
    "ax.plot(freq[0:halfpoint],firsthalf)\n",
    "ax.set_title('power spectrum')\n",
    "out=ax.set_xlabel('frequency (Hz)')"
   ]
  },
  {
   "cell_type": "markdown",
   "metadata": {},
   "source": [
    "Check Stull 8.6.1b (or Numerical Recipes 12.0.13) which says that squared power spectrum = variance\n"
   ]
  },
  {
   "cell_type": "code",
   "execution_count": null,
   "metadata": {
    "collapsed": false
   },
   "outputs": [],
   "source": [
    "print('\\nsimple cosine: velocity variance %10.3f' % (np.sum(onehz*onehz)/totsize))\n",
    "print('simple cosine: Power spectrum sum %10.3f\\n' % (np.sum(Power)/totsize**2.))"
   ]
  },
  {
   "cell_type": "markdown",
   "metadata": {},
   "source": [
    "## Power spectrum of turbulent vertical velocity"
   ]
  },
  {
   "cell_type": "code",
   "execution_count": null,
   "metadata": {
    "collapsed": false
   },
   "outputs": [],
   "source": [
    "#load data sampled at 20.8333 Hz\n",
    "\n",
    "td=numpy.load('miami_tower.npz') #load temp, uvel, vvel, wvel, minutes\n",
    "print('keys: ',td.keys())\n",
    "print(td['description'])\n"
   ]
  },
  {
   "cell_type": "code",
   "execution_count": null,
   "metadata": {
    "collapsed": false,
    "scrolled": false
   },
   "outputs": [],
   "source": [
    "sampleRate=20.833\n",
    "nyquistfreq=sampleRate/2.\n",
    "\n",
    "\n",
    "totsize=36000\n",
    "wvel=td['wvel'][0:totsize].flatten()\n",
    "temp=td['temp'][0:totsize].flatten()\n",
    "wvel = wvel - np.mean(wvel)\n",
    "temp= temp - np.mean(temp)\n",
    "\n",
    "\n",
    "halfpoint=np.int(np.floor(totsize/2.))\n",
    "frequencies=np.arange(0,halfpoint)\n",
    "frequencies=frequencies/halfpoint\n",
    "frequencies=frequencies*nyquistfreq\n",
    "\n",
    "# raw spectrum -- no windowing or averaging\n",
    "#First confirm Parseval's theorem\n",
    "# (Numerical Recipes 12.1.10, p. 498)\n",
    "\n",
    "thefft=np.fft.fft(wvel)\n",
    "Power=np.real(thefft*np.conj(thefft))\n",
    "print('\\nraw fft sum, full time series: %10.4f\\n' % (np.sum(Power)/totsize**2.))\n",
    "print('velocity variance: %10.4f\\n' % (np.sum(wvel*wvel)/totsize))\n",
    "\n",
    "\n",
    "fig,theAx=plt.subplots(1,1,figsize=(8,8))\n",
    "frequencies[0]=np.NaN\n",
    "Power[0]=np.NaN\n",
    "Power=Power[0:halfpoint]\n",
    "theAx.loglog(frequencies,Power)\n",
    "theAx.set_title('raw wvel spectrum with $f^{-5/3}$')\n",
    "theAx.set(xlabel='frequency (HZ)',ylabel='Power (m^2/s^2)')\n",
    "#\n",
    "# pick one point the line should pass through (by eye)\n",
    "# note that y intercept will be at log10(freq)=0\n",
    "# or freq=1 Hz\n",
    "#\n",
    "leftspec=np.log10(Power[1]*1.e-3)\n",
    "logy=leftspec - 5./3.*np.log10(frequencies)\n",
    "yvals=10.**logy\n",
    "theAx.loglog(frequencies,yvals,'r-')\n",
    "thePoint=theAx.plot(1.,Power[1]*1.e-3,'g+')\n",
    "thePoint[0].set_markersize(15)\n",
    "thePoint[0].set_marker('h')\n",
    "thePoint[0].set_markerfacecolor('g')"
   ]
  },
  {
   "cell_type": "markdown",
   "metadata": {},
   "source": [
    "## Windowing\n",
    "\n",
    "The FFT above is noisy, and there are several ways to smooth it.  Numerical Recipes, p. 550 has a good discussion of \"windowing\" which helps remove the spurious power caused by the fact that the timeseries has a sudden stop and start.\n",
    "Below we split the timeseries into 25 segements of 1440 points each, fft each segment then average the 25.  We convolve each segment with a Bartlett window."
   ]
  },
  {
   "cell_type": "code",
   "execution_count": null,
   "metadata": {
    "collapsed": false
   },
   "outputs": [],
   "source": [
    "## windowing -- see p. Numerical recipes 550\n",
    "\n",
    "print('\\n\\n\\nTry a windowed spectrum (Bartlett window)\\n')\n",
    "\n",
    "numvals=1440\n",
    "ensemble=25\n",
    "totsize=numvals*ensemble\n",
    "wvel=wvel[0:totsize]\n",
    "halfpoint=int(np.floor(numvals/2.))\n",
    "facm=halfpoint\n",
    "facp=1/facm\n",
    "\n",
    "# break the timeseries into columns and fft each column\n",
    "\n",
    "subset=np.reshape(wvel,(ensemble,numvals))\n",
    "winspec=np.zeros([numvals],np.float)\n",
    "\n",
    "frequencies=np.arange(halfpoint)\n",
    "frequencies=frequencies/halfpoint\n",
    "frequencies=frequencies*nyquistfreq\n",
    "\n",
    "window=np.empty([numvals],np.float)\n",
    "for j in np.arange(numvals):\n",
    "  window[j]=(1.-((j - facm)*facp)**2.)\n",
    "#we need to devide by the average weights to\n",
    "#make up for the fact that we're reducing the amplitude\n",
    "sumw=np.sum(window**2.)/numvals\n",
    "\n",
    "fig,theAx=plt.subplots(1,1,figsize=(8,8))\n",
    "theAx.plot(window)\n",
    "theAx.set_title('Bartlett window')\n",
    "print('sumw: %10.3f' % sumw)\n",
    "\n",
    "winspec=np.zeros([numvals],np.float)\n",
    "for therow in np.arange(ensemble):\n",
    "  thedat=subset[therow,:]\n",
    "  thefft =np.fft.fft(thedat*window)\n",
    "  Power=thefft*np.conj(thefft)\n",
    "  #print('\\nensemble member: %d' % therow)\n",
    "  #print('\\nwindowed fft sum (m^2/s^2): %10.4f\\n' % (np.sum(Power)/(sumw*numvals**2.),))\n",
    "  #print('velocity variance (m^2/s^2): %10.4f\\n\\n' % (np.sum(thedat*thedat)/numvals,))\n",
    "  winspec=winspec + Power\n",
    "\n",
    "winspec=np.real(winspec/(numvals**2.*ensemble*sumw))\n",
    "print('averaged winspec sum %10.3f\\n' % np.sum(winspec))\n",
    "\n",
    "frequencies[0]=np.NaN\n",
    "winspec[0]=np.NaN\n",
    "fig,theAx=plt.subplots(1,1,figsize=(8,6))\n",
    "theAx.loglog(frequencies,winspec[0:halfpoint],label='fft power')\n",
    "theAx.set_title('windowed wvel spectrum with $f^{-5/3}$ line')\n",
    "leftspec=np.log10(winspec[int(np.floor(halfpoint/10.))])\n",
    "logy=leftspec - 5./3.*np.log10(frequencies)\n",
    "yvals=10.**logy\n",
    "theAx.loglog(frequencies,yvals,'g-',label='$f^{-5/3}$')\n",
    "theAx.set_xlabel('frequency (Hz)')\n",
    "out=theAx.set_ylabel('power $(m^2\\,s^{-2}\\,Hz^{-1})$')\n",
    "out=theAx.legend(loc='best')"
   ]
  },
  {
   "cell_type": "markdown",
   "metadata": {},
   "source": [
    "## Filtering"
   ]
  },
  {
   "cell_type": "markdown",
   "metadata": {},
   "source": [
    "We can also filter our timeseries by removing frequencies we aren't interested in. Numerical Recipes discusses the approach on page 551.  For example, suppose we want to filter all frequencies higher than 2 Hz from the vertical velocity data."
   ]
  },
  {
   "cell_type": "code",
   "execution_count": null,
   "metadata": {
    "collapsed": false
   },
   "outputs": [],
   "source": [
    "wvel= wvel - np.mean(wvel)\n",
    "thefft=np.fft.fft(wvel)\n",
    "totsize=len(thefft)\n",
    "samprate=20.8333 #Hz\n",
    "the_time=np.arange(0,totsize,1/20.8333)\n",
    "freq_bin_width=samprate/(totsize*2)\n",
    "half_hz_index=int(np.floor(0.5/freq_bin_width))\n",
    "filter_func=np.zeros_like(thefft,dtype=np.float64)\n",
    "filter_func[0:half_hz_index]=1.\n",
    "filter_func[-half_hz_index:]=1.\n",
    "filtered_wvel=np.real(np.fft.ifft(filter_func*thefft))\n",
    "fig,ax=plt.subplots(1,1,figsize=(10,6))\n",
    "numpoints=500\n",
    "ax.plot(the_time[:numpoints],filtered_wvel[:numpoints],label='filtered')\n",
    "ax.plot(the_time[:numpoints],wvel[:numpoints],'g+',label='data')\n",
    "ax.set(xlabel='time (seconds)',ylabel='wvel (m/s)')\n",
    "out=ax.legend()"
   ]
  },
  {
   "cell_type": "code",
   "execution_count": null,
   "metadata": {
    "collapsed": true
   },
   "outputs": [],
   "source": []
  }
 ],
 "metadata": {
  "kernelspec": {
   "display_name": "Python 3",
   "language": "python",
   "name": "python3"
  },
  "language_info": {
   "codemirror_mode": {
    "name": "ipython",
    "version": 3
   },
   "file_extension": ".py",
   "mimetype": "text/x-python",
   "name": "python",
   "nbconvert_exporter": "python",
   "pygments_lexer": "ipython3",
   "version": "3.4.3"
  }
 },
 "nbformat": 4,
 "nbformat_minor": 0
}