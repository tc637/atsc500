{
 "cells": [
  {
   "cell_type": "markdown",
   "metadata": {},
   "source": [
    "## Solution for Day 4 assignment from Monday, Sept. 21"
   ]
  },
  {
   "cell_type": "code",
   "execution_count": null,
   "metadata": {
    "collapsed": false
   },
   "outputs": [],
   "source": [
    "#get 10 files, each is the same timestep for a member of a\n",
    "#10 member ensemble\n",
    "data_download=False\n",
    "if data_download:\n",
    "    root='http://clouds.eos.ubc.ca/~phil/docs/atsc500/dryles'\n",
    "    for i in np.arange(1,11,dtype=np.int):\n",
    "        the_name='mar12014_{:d}_15600.nc'.format(i)\n",
    "        print(the_name)\n",
    "        url='{}/{}'.format(root,the_name)\n",
    "        urllib.request.urlretrieve(url,the_name)\n",
    "           "
   ]
  },
  {
   "cell_type": "markdown",
   "metadata": {},
   "source": [
    "Hand in a notebook that:\n",
    "\n",
    "    * Plots the vertical profile of the ensemble-averaged sensible heat (enthalpy) flux \n",
    "      for the bottom 1km of the dryles simulation\n",
    "    \n",
    "    * plots the vertical profile of the total perturbation kinetic energy (Stull 2.5c)\n"
   ]
  },
  {
   "cell_type": "code",
   "execution_count": null,
   "metadata": {
    "collapsed": true
   },
   "outputs": [],
   "source": [
    "import numpy as np\n",
    "from matplotlib import pyplot as plt\n",
    "from netCDF4 import Dataset\n",
    "import glob\n",
    "\n",
    "#\n",
    "# use this function to sort filenames in numerical order\n",
    "#\n",
    "def sort_name(name):\n",
    "    #\n",
    "    # filename looks like mar12014_10_15600.nc\n",
    "    # so line below produces number='10'\n",
    "    #\n",
    "    front, number, back = name.split('_')\n",
    "    return int(number)"
   ]
  },
  {
   "cell_type": "markdown",
   "metadata": {},
   "source": [
    "1. Gather all 10 filenames and save them to a list, reading out z and p from\n",
    "   the first file, since these are the same in all 10 members"
   ]
  },
  {
   "cell_type": "code",
   "execution_count": null,
   "metadata": {
    "collapsed": false
   },
   "outputs": [],
   "source": [
    "the_files = glob.glob('mar*nc')\n",
    "print(the_files)\n",
    "the_files.sort(key=sort_name)\n",
    "save_nc = []\n",
    "for count, filename in enumerate(the_files):\n",
    "    save_nc.append(Dataset(filename, 'r'))\n",
    "z = save_nc[0].variables['z'][...]\n",
    "p = save_nc[0].variables['p'][...] * 100."
   ]
  },
  {
   "cell_type": "markdown",
   "metadata": {},
   "source": [
    "2\\. Find the index of z=1 km"
   ]
  },
  {
   "cell_type": "code",
   "execution_count": null,
   "metadata": {
    "collapsed": false
   },
   "outputs": [],
   "source": [
    "top_index=np.where(np.abs(z - 1000.) < 1.)[0][0]\n",
    "print(top_index,z[top_index])"
   ]
  },
  {
   "cell_type": "markdown",
   "metadata": {},
   "source": [
    "2\\. Make a pass through all the files and find the ensemble and horizontally averaged T, U, V, W profiles"
   ]
  },
  {
   "cell_type": "code",
   "execution_count": null,
   "metadata": {
    "collapsed": false
   },
   "outputs": [],
   "source": [
    "Utot=np.zeros([top_index])\n",
    "Vtot=np.zeros([top_index])\n",
    "Wtot=np.zeros([top_index])\n",
    "Ttot=np.zeros([top_index])\n",
    "for count,the_nc in enumerate(save_nc):\n",
    "    print('working with case {}'.format(count))\n",
    "    T = the_nc.variables['TABS'][0, :top_index, :, :].mean(axis=2).mean(axis=1)\n",
    "    U = the_nc.variables['U'][0, :top_index, :, :].mean(axis=2).mean(axis=1)\n",
    "    V = the_nc.variables['V'][0, :top_index, :, :].mean(axis=2).mean(axis=1)\n",
    "    W = the_nc.variables['W'][0, :top_index, :, :].mean(axis=2).mean(axis=1)\n",
    "    Utot+= U\n",
    "    Vtot += V\n",
    "    Wtot += W\n",
    "    Ttot += T\n",
    "Tbar=Ttot/len(save_nc)\n",
    "Ubar=Utot/len(save_nc)\n",
    "Vbar=Vtot/len(save_nc)\n",
    "Wbar=Wtot/len(save_nc)"
   ]
  },
  {
   "cell_type": "markdown",
   "metadata": {},
   "source": [
    "Now make another pass, adding the perturbations together for the ensemble average"
   ]
  },
  {
   "cell_type": "code",
   "execution_count": null,
   "metadata": {
    "collapsed": true
   },
   "outputs": [],
   "source": [
    "the_shape=save_nc[0]['U'].shape\n",
    "print(the_shape)\n",
    "zdim,ydim,xdim = the_shape[-3:]\n",
    "print(zdim,ydim,xdim)"
   ]
  },
  {
   "cell_type": "markdown",
   "metadata": {},
   "source": [
    "Set up the accumulators for the ensemble average"
   ]
  },
  {
   "cell_type": "code",
   "execution_count": null,
   "metadata": {
    "collapsed": false
   },
   "outputs": [],
   "source": [
    "Utot=np.zeros([top_index,ydim,xdim])\n",
    "Vtot=np.zeros([top_index,ydim,xdim])\n",
    "Wtot=np.zeros([top_index,ydim,xdim])\n",
    "Ttot=np.zeros([top_index,ydim,xdim])"
   ]
  },
  {
   "cell_type": "code",
   "execution_count": null,
   "metadata": {
    "collapsed": false
   },
   "outputs": [],
   "source": [
    "for count,the_nc in enumerate(save_nc):\n",
    "    print('working with case {}'.format(count))\n",
    "    Uvals=the_nc['U'][0,:top_index,:,:]\n",
    "    Uperturb=Uvals.T - Ubar\n",
    "    Uperturb=Uperturb.T\n",
    "    Utot+=Uperturb\n",
    "\n",
    "    Vvals=the_nc['V'][0,:top_index,:,:]\n",
    "    Vperturb=Vvals.T - Vbar\n",
    "    Vperturb=Vperturb.T\n",
    "    Vtot+=Vperturb\n",
    "\n",
    "    Wvals=the_nc['W'][0,:top_index,:,:]\n",
    "    Wperturb=Wvals.T - Wbar\n",
    "    Wperturb=Wperturb.T\n",
    "    Wtot+=Wperturb\n",
    "\n",
    "    Tvals=the_nc['TABS'][0,:top_index,:,:]\n",
    "    Tperturb=Tvals.T - Tbar\n",
    "    Tperturb=Tperturb.T\n",
    "    Ttot+=Tperturb\n",
    "\n",
    "    \n",
    "Tpertub=Tperturb/len(save_nc)\n",
    "Upertub=Uperturb/len(save_nc)\n",
    "Vpertub=Vperturb/len(save_nc)\n",
    "Wpertub=Wperturb/len(save_nc)\n"
   ]
  },
  {
   "cell_type": "markdown",
   "metadata": {},
   "source": [
    "3\\. now calculate the horizontal and ensemble-averaged vertical heat flux"
   ]
  },
  {
   "cell_type": "code",
   "execution_count": null,
   "metadata": {
    "collapsed": false
   },
   "outputs": [],
   "source": [
    "flux=(Wperturb*Tperturb).mean(axis=2).mean(axis=1)\n",
    "cpd=1004.  #J/kg/K\n",
    "Rd=297.    # J/kg/K\n",
    "rho= p[:top_index]/(Rd*Tbar)"
   ]
  },
  {
   "cell_type": "code",
   "execution_count": null,
   "metadata": {
    "collapsed": false
   },
   "outputs": [],
   "source": [
    "%matplotlib inline\n",
    "plt.style.use('ggplot')\n",
    "fig,ax = plt.subplots(1,1,figsize=(8,10))\n",
    "ax.plot(rho*flux*cpd,z[:top_index]*1.e-3)\n",
    "ax.set(xlabel='sensible heat flux (W/m^2)',ylabel='height (km)',\n",
    "       ylim=(0,0.6))"
   ]
  },
  {
   "cell_type": "markdown",
   "metadata": {},
   "source": [
    "4\\.  Now the average tke"
   ]
  },
  {
   "cell_type": "code",
   "execution_count": null,
   "metadata": {
    "collapsed": true
   },
   "outputs": [],
   "source": [
    "tke = 0.5*(Uperturb**2. + Vperturb**2. + Wperturb**2.)\n",
    "tke = tke.mean(axis=2).mean(axis=1)"
   ]
  },
  {
   "cell_type": "code",
   "execution_count": null,
   "metadata": {
    "collapsed": false
   },
   "outputs": [],
   "source": [
    "fig,ax = plt.subplots(1,1,figsize=(8,10))\n",
    "ax.plot(tke,z[:top_index]*1.e-3)\n",
    "ax.set(xlabel='tke (J/kg)',ylabel='height (km)',\n",
    "       ylim=(0,0.6),title='total kinetic energy')"
   ]
  },
  {
   "cell_type": "code",
   "execution_count": null,
   "metadata": {
    "collapsed": false
   },
   "outputs": [],
   "source": [
    "Ucomp=(Uperturb**2.).mean(axis=2).mean(axis=1)*0.5\n",
    "Vcomp=(Vperturb**2.).mean(axis=2).mean(axis=1)*0.5\n",
    "Wcomp=(Wperturb**2.).mean(axis=2).mean(axis=1)*0.5\n",
    "fig,ax = plt.subplots(1,1,figsize=(8,10))\n",
    "ax.plot(Ucomp,z[:top_index]*1.e-3,label='Ucomp')\n",
    "ax.plot(Vcomp,z[:top_index]*1.e-3,label='Vcomp')\n",
    "ax.plot(Wcomp,z[:top_index]*1.e-3,label='Wcomp')\n",
    "ax.set(xlabel='tke components (J/kg)',ylabel='height (km)',\n",
    "        ylim=[0,0.6],title='tke components')\n",
    "ax.legend(loc='best')\n",
    "\n",
    "\n"
   ]
  },
  {
   "cell_type": "code",
   "execution_count": null,
   "metadata": {
    "collapsed": true
   },
   "outputs": [],
   "source": []
  }
 ],
 "metadata": {
  "kernelspec": {
   "display_name": "Python 3",
   "language": "python",
   "name": "python3"
  },
  "language_info": {
   "codemirror_mode": {
    "name": "ipython",
    "version": 3
   },
   "file_extension": ".py",
   "mimetype": "text/x-python",
   "name": "python",
   "nbconvert_exporter": "python",
   "pygments_lexer": "ipython3",
   "version": "3.4.3"
  }
 },
 "nbformat": 4,
 "nbformat_minor": 0
}