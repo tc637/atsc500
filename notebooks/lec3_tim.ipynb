{
 "cells": [
  {
   "cell_type": "markdown",
   "metadata": {},
   "source": [
    "# Revised lec3 notebook Sept. 19"
   ]
  },
  {
   "cell_type": "markdown",
   "metadata": {},
   "source": [
    "*I changed indexing below for the mean theta and wvel calculations and removed\n",
    "the newaxis complication.   The dimensions of the velocity and temperature\n",
    "are (time,z,y,x)  or axis=(0,1,2,3).  Hopefully the sensible heat flux profile is correct\n",
    "(it's much smaller than for a dry boundary layer, because most of the energy is being\n",
    "transported by vapor in the tropical marine boundary layer*"
   ]
  },
  {
   "cell_type": "markdown",
   "metadata": {},
   "source": [
    "## Reading a netcdf file"
   ]
  },
  {
   "cell_type": "markdown",
   "metadata": {},
   "source": [
    "1.  Fetch the netcdf file tropical.nc from my webserver (50 Mbytes)"
   ]
  },
  {
   "cell_type": "code",
   "execution_count": 1,
   "metadata": {
    "collapsed": true
   },
   "outputs": [],
   "source": [
    "import urllib.request\n",
    "import numpy as np\n",
    "from netCDF4 import Dataset"
   ]
  },
  {
   "cell_type": "markdown",
   "metadata": {},
   "source": [
    "Only download the data once -- set this to True if you need\n",
    "this file, otherwise skip"
   ]
  },
  {
   "cell_type": "code",
   "execution_count": 2,
   "metadata": {
    "collapsed": true
   },
   "outputs": [],
   "source": [
    "data_download=False  ### set this to True if running for the first time\n",
    "if data_download:\n",
    "    urllib.request.urlretrieve(\"http://clouds.eos.ubc.ca/~phil/docs/atsc500/tropical_subset.nc\", \n",
    "                           \"tropical_subset.nc\")"
   ]
  },
  {
   "cell_type": "markdown",
   "metadata": {},
   "source": [
    "2\\.  Identify the file structure using ncdump"
   ]
  },
  {
   "cell_type": "code",
   "execution_count": 3,
   "metadata": {
    "collapsed": false
   },
   "outputs": [
    {
     "name": "stderr",
     "output_type": "stream",
     "text": [
      "'ncinfo' is not recognized as an internal or external command,\n",
      "operable program or batch file.\n"
     ]
    }
   ],
   "source": [
    "!ncinfo tropical_subset.nc"
   ]
  },
  {
   "cell_type": "markdown",
   "metadata": {},
   "source": [
    "3\\.  Read a variable using the netCDF4 module:  http://unidata.github.io/netcdf4-python/"
   ]
  },
  {
   "cell_type": "code",
   "execution_count": 4,
   "metadata": {
    "collapsed": false
   },
   "outputs": [
    {
     "name": "stdout",
     "output_type": "stream",
     "text": [
      "['x', 'y', 'z', 'time', 'p', 'U', 'V', 'W', 'PP', 'TABS', 'QV', 'QN', 'QP']\n",
      "temp shape (1, 112, 110, 100)\n",
      "height shape (112,)\n"
     ]
    }
   ],
   "source": [
    "with Dataset('tropical_subset.nc','r') as nc_in:\n",
    "    print(list(nc_in.variables.keys()))\n",
    "    the_temp=nc_in.variables['TABS'][...]  \n",
    "    #\n",
    "    # remove the time dimension since we only have one timestep\n",
    "    #   \n",
    "    print('temp shape',the_temp.shape)\n",
    "    the_height=nc_in.variables['z'][...]\n",
    "    print('height shape',the_height.shape)\n",
    "    the_press=nc_in.variables['p'][...]\n",
    "    the_press=the_press*100.  #convert to Pa\n",
    "    wvel=nc_in.variables['W'][...]"
   ]
  },
  {
   "cell_type": "markdown",
   "metadata": {},
   "source": [
    "# Plotting three temperature profiles"
   ]
  },
  {
   "cell_type": "code",
   "execution_count": 5,
   "metadata": {
    "collapsed": false
   },
   "outputs": [
    {
     "data": {
      "image/png": "[encoded data removed]",
      "text/plain": [
       "<matplotlib.figure.Figure at 0x5dae748>"
      ]
     },
     "metadata": {},
     "output_type": "display_data"
    }
   ],
   "source": [
    "%matplotlib inline\n",
    "#\n",
    "# plot 3 arbitrary columns\n",
    "#\n",
    "from matplotlib import pyplot as plt\n",
    "meter2km=1.e-3\n",
    "random_xy=[(10,20),(80,40),(25,75)]\n",
    "fig,ax=plt.subplots(1,1)\n",
    "for x,y in random_xy:\n",
    "    temp_profile=the_temp[0,:,x,y]\n",
    "    out=ax.plot(temp_profile,the_height*meter2km)  \n",
    "out=ax.set(xlabel='temperature (K)',ylabel='height (km)',title='3 profiles')"
   ]
  },
  {
   "cell_type": "markdown",
   "metadata": {},
   "source": [
    "# Calculate the horizontal average temperature"
   ]
  },
  {
   "cell_type": "code",
   "execution_count": 6,
   "metadata": {
    "collapsed": false,
    "scrolled": true
   },
   "outputs": [
    {
     "name": "stdout",
     "output_type": "stream",
     "text": [
      "(1, 112, 110)\n",
      "(112,)\n"
     ]
    }
   ],
   "source": [
    "xmean=the_temp.mean(axis=3)\n",
    "print(xmean.shape)\n",
    "xymean=xmean.mean(axis=2)\n",
    "xymean=xymean.squeeze()\n",
    "print(xymean.shape)"
   ]
  },
  {
   "cell_type": "markdown",
   "metadata": {},
   "source": [
    "# Calculate the temperature pertubation"
   ]
  },
  {
   "cell_type": "code",
   "execution_count": 7,
   "metadata": {
    "collapsed": false
   },
   "outputs": [
    {
     "data": {
      "text/plain": [
       "[<matplotlib.text.Text at 0x7c14160>,\n",
       " <matplotlib.text.Text at 0x7942128>,\n",
       " <matplotlib.text.Text at 0x7c38cf8>]"
      ]
     },
     "execution_count": 7,
     "metadata": {},
     "output_type": "execute_result"
    },
    {
     "data": {
      "image/png": "[encoded data removed]",
      "text/plain": [
       "<matplotlib.figure.Figure at 0x7958d30>"
      ]
     },
     "metadata": {},
     "output_type": "display_data"
    }
   ],
   "source": [
    "fig,ax=plt.subplots(1,1)\n",
    "for x,y in random_xy:\n",
    "    temp_profile=the_temp[0,:,x,y] - xymean\n",
    "    ax.plot(temp_profile,the_height*meter2km)  \n",
    "ax.set(xlabel='temperature (K)',ylabel='height (km)',title='3 perturbation profiles')"
   ]
  },
  {
   "cell_type": "markdown",
   "metadata": {},
   "source": [
    "# Assignment for Wednesday, Sept. 16: 11am"
   ]
  },
  {
   "cell_type": "markdown",
   "metadata": {},
   "source": [
    "1.  Write a function that takes TABS and p and returns $\\theta$, the potential temperature\n",
    "\n",
    "1.  Make a plot of the vertical profile of $\\overline{w^\\prime \\theta^\\prime}$ vs. z for\n",
    "    this model timestep\n",
    "\n",
    "1.  Upload your version of this notebook to the cloud (Dropbox, googledrive etc.) and\n",
    "    email me a link"
   ]
  },
  {
   "cell_type": "markdown",
   "metadata": {},
   "source": [
    "## My solution"
   ]
  },
  {
   "cell_type": "code",
   "execution_count": 8,
   "metadata": {
    "collapsed": true
   },
   "outputs": [],
   "source": [
    "def theta(p,T):\n",
    "    \"\"\"\n",
    "      input: p (Pa), scalar pressure\n",
    "             T (K),  scalar or array of temperatures\n",
    "      output: thetaval (K) potential temperature\n",
    "    \"\"\"\n",
    "    Rd=287  #dry air gas constant  J/kg/K\n",
    "    cp=1004.  #dry air heat capacity at constant pressure (J/kg/K)\n",
    "    p0=1.e5  #reference pressure (Pa)\n",
    "    the_exp=Rd/cp\n",
    "    thetaval=T*(p0/p)**the_exp\n",
    "    return thetaval\n"
   ]
  },
  {
   "cell_type": "markdown",
   "metadata": {},
   "source": [
    "### Calculate $\\theta$ at every level"
   ]
  },
  {
   "cell_type": "code",
   "execution_count": 9,
   "metadata": {
    "collapsed": false
   },
   "outputs": [],
   "source": [
    "thetavals=np.empty_like(the_temp)\n",
    "for lev,press_lev in enumerate(the_press):\n",
    "    thetavals[0,lev,:,:]=theta(press_lev,the_temp[0,lev,:,:])   "
   ]
  },
  {
   "cell_type": "markdown",
   "metadata": {},
   "source": [
    "### Plot some profiles"
   ]
  },
  {
   "cell_type": "code",
   "execution_count": 10,
   "metadata": {
    "collapsed": false
   },
   "outputs": [
    {
     "data": {
      "text/plain": [
       "[<matplotlib.text.Text at 0x7c89320>,\n",
       " <matplotlib.text.Text at 0x7c8df98>,\n",
       " <matplotlib.text.Text at 0x7cb9630>]"
      ]
     },
     "execution_count": 10,
     "metadata": {},
     "output_type": "execute_result"
    },
    {
     "data": {
      "image/png": "[encoded data removed]",
      "text/plain": [
       "<matplotlib.figure.Figure at 0x7c26940>"
      ]
     },
     "metadata": {},
     "output_type": "display_data"
    }
   ],
   "source": [
    "fig,ax=plt.subplots(1,1)\n",
    "for x,y in random_xy:\n",
    "    theta_profile=thetavals[0,:,x,y]\n",
    "    ax.plot(theta_profile,the_height*meter2km)  \n",
    "ax.set(xlabel='potential temperature (K)',ylabel='height (km)',title='3 profiles')"
   ]
  },
  {
   "cell_type": "markdown",
   "metadata": {},
   "source": [
    "### Subtract average using numpy broadcasting"
   ]
  },
  {
   "cell_type": "markdown",
   "metadata": {},
   "source": [
    "Find the perturbation wrt the mean theta at each height.  Because of Python's broadcasting\n",
    "rules ([broadcasting](http://docs.scipy.org/doc/numpy/user/basics.broadcasting.html)) we can't\n",
    "subtract a (1,112,110,100) and a (112,) array.  Numpy will let us subtract a\n",
    "(100,110,112) and a (112,) array  so we:\n",
    "\n",
    "1) squeeze wvel to (112,110,100)\n",
    "\n",
    "2) transpose to (100,110,112)\n",
    "\n",
    "3) subtract the mean theta \n",
    "\n",
    "4) transpose back"
   ]
  },
  {
   "cell_type": "code",
   "execution_count": 11,
   "metadata": {
    "collapsed": false
   },
   "outputs": [
    {
     "name": "stdout",
     "output_type": "stream",
     "text": [
      "(112, 110, 100)\n"
     ]
    }
   ],
   "source": [
    "w_bar=wvel[0,...].mean(axis=2).mean(axis=1)\n",
    "wvel_squeeze=wvel.squeeze()\n",
    "w_prime= wvel_squeeze.T - w_bar\n",
    "w_prime=w_prime.T\n",
    "print(w_prime.shape)"
   ]
  },
  {
   "cell_type": "code",
   "execution_count": 12,
   "metadata": {
    "collapsed": false
   },
   "outputs": [
    {
     "name": "stdout",
     "output_type": "stream",
     "text": [
      "(112, 110, 100)\n"
     ]
    }
   ],
   "source": [
    "theta_bar=thetavals[0,...].mean(axis=2).mean(axis=1)\n",
    "thetavals_squeeze=thetavals.squeeze()\n",
    "theta_prime= thetavals_squeeze.T - theta_bar\n",
    "theta_prime=theta_prime.T\n",
    "print(theta_prime.shape)"
   ]
  },
  {
   "cell_type": "code",
   "execution_count": 13,
   "metadata": {
    "collapsed": false
   },
   "outputs": [
    {
     "name": "stdout",
     "output_type": "stream",
     "text": [
      "(112, 110, 100)\n",
      "(112,)\n"
     ]
    }
   ],
   "source": [
    "flux=w_prime*theta_prime\n",
    "print(flux.shape)\n",
    "flux_profile=flux.mean(axis=2).mean(axis=1)\n",
    "print(flux_profile.shape)"
   ]
  },
  {
   "cell_type": "code",
   "execution_count": 14,
   "metadata": {
    "collapsed": false
   },
   "outputs": [
    {
     "data": {
      "image/png": "[encoded data removed]",
      "text/plain": [
       "<matplotlib.figure.Figure at 0x7d03ba8>"
      ]
     },
     "metadata": {},
     "output_type": "display_data"
    }
   ],
   "source": [
    "fig,ax=plt.subplots(1,1)\n",
    "out=ax.plot(flux_profile,the_height*meter2km)\n",
    "out=ax.set(xlabel='potential temperature flux (K m/s)',ylabel='height (km)',title='theta flux')"
   ]
  },
  {
   "cell_type": "markdown",
   "metadata": {},
   "source": [
    "### convert kinematic flux to W/m^2\n",
    "\n",
    "1.  Calculate the the density profile using the ideal gas law\n",
    "\n",
    "$$p = \\rho R_d T$$"
   ]
  },
  {
   "cell_type": "code",
   "execution_count": 15,
   "metadata": {
    "collapsed": false
   },
   "outputs": [
    {
     "data": {
      "image/png": "[encoded data removed]",
      "text/plain": [
       "<matplotlib.figure.Figure at 0x7d5cf28>"
      ]
     },
     "metadata": {},
     "output_type": "display_data"
    }
   ],
   "source": [
    "Rd=287 #J/kg/K\n",
    "rho=the_press/(Rd*xymean)\n",
    "fig,ax=plt.subplots(1,1,figsize=(6,6))\n",
    "out=ax.plot(rho,the_height*meter2km)\n",
    "out=ax.set(xlabel=r'$\\rho\\ (kg/m^3)$',ylabel='height (km)',title='density of dry air')"
   ]
  },
  {
   "cell_type": "markdown",
   "metadata": {},
   "source": [
    "2\\.  Calculate the enthalpy flux in $W m^2$ using\n",
    "\n",
    "$$\\rho \\overline{w^\\prime h^\\prime} = \\rho c_{pd} \\left( \\overline{w^\\prime T^\\prime} \\right ) \\approx \\rho c_{pd} \\left( \\overline{w^\\prime \\theta^\\prime} \\right ) $$\n",
    "\n",
    "\n",
    "\n"
   ]
  },
  {
   "cell_type": "code",
   "execution_count": 16,
   "metadata": {
    "collapsed": false
   },
   "outputs": [
    {
     "data": {
      "image/png": "[encoded data removed]",
      "text/plain": [
       "<matplotlib.figure.Figure at 0x7e02080>"
      ]
     },
     "metadata": {},
     "output_type": "display_data"
    }
   ],
   "source": [
    "cpd=1004.  #J/kg/K\n",
    "flux=cpd*rho*flux_profile\n",
    "fig,ax=plt.subplots(1,1)\n",
    "ax.plot(flux,the_height*meter2km)\n",
    "ax.set(xlabel='sensible heat flux (W/m^2)',ylabel='height (km)',title='heat flux')\n",
    "out=ax.set(ylim=(0,2))"
   ]
  },
  {
   "cell_type": "markdown",
   "metadata": {},
   "source": [
    "# Next: Getting started with vapor"
   ]
  },
  {
   "cell_type": "markdown",
   "metadata": {},
   "source": [
    "1. Install vapor per [these instructions](https://www.vapor.ucar.edu/docs/usage/getting-started-vapor)\n",
    "1. Download and unzip the following file:"
   ]
  },
  {
   "cell_type": "code",
   "execution_count": 17,
   "metadata": {
    "collapsed": false
   },
   "outputs": [
    {
     "data": {
      "text/plain": [
       "('tropical.zip', <http.client.HTTPMessage at 0x7ebd470>)"
      ]
     },
     "execution_count": 17,
     "metadata": {},
     "output_type": "execute_result"
    }
   ],
   "source": [
    "urllib.request.urlretrieve(\"http://clouds.eos.ubc.ca/~phil/docs/atsc500/tropical.zip\", \n",
    "                           \"tropical.zip\")"
   ]
  },
  {
   "cell_type": "markdown",
   "metadata": {},
   "source": [
    "Start vapor, go to \"Data -> Load dataset into current session\" and see if you get a\n",
    "3-d visualization of TABS"
   ]
  },
  {
   "cell_type": "markdown",
   "metadata": {},
   "source": [
    "###Getting a ten member ensemble for the dry boundary layer les"
   ]
  },
  {
   "cell_type": "markdown",
   "metadata": {},
   "source": [
    "# Assignment for Monday, Sept. 21"
   ]
  },
  {
   "cell_type": "code",
   "execution_count": 18,
   "metadata": {
    "collapsed": false
   },
   "outputs": [],
   "source": [
    "#get 10 files, each is the same timestep for a member of a\n",
    "#10 member ensemble\n",
    "if data_download:\n",
    "    root='http://clouds.eos.ubc.ca/~phil/docs/atsc500/dryles'\n",
    "    for i in np.arange(1,11,dtype=np.int):\n",
    "        the_name='mar12014_{:d}_15600.nc'.format(i)\n",
    "        print(the_name)\n",
    "        url='{}/{}'.format(root,the_name)\n",
    "        urllib.request.urlretrieve(url,the_name)\n",
    "           "
   ]
  },
  {
   "cell_type": "markdown",
   "metadata": {},
   "source": [
    "1. Hand in a notebook that\n",
    "\n",
    "   1. plots the ensemble average theta profile for 1 column, and the ensemble averaged vertical heat flux\n",
    "      in Watts/m^2 through the bottom model layer.\n",
    "      \n",
    "   1. histogram the normalized pressure perturbation $p^\\prime/p(z)$ for 1 ensemble member\n",
    "   \n",
    "2. Read the rest of Stull chapter 2 and do problem 8 if you haven't already"
   ]
  },
  {
   "cell_type": "code",
   "execution_count": 19,
   "metadata": {
    "collapsed": false,
    "scrolled": true
   },
   "outputs": [
    {
     "name": "stdout",
     "output_type": "stream",
     "text": [
      "mar12014_1_15600.nc\n",
      "mar12014_2_15600.nc\n",
      "mar12014_3_15600.nc\n",
      "mar12014_4_15600.nc\n",
      "mar12014_5_15600.nc\n",
      "mar12014_6_15600.nc\n",
      "mar12014_7_15600.nc\n",
      "mar12014_8_15600.nc\n",
      "mar12014_9_15600.nc\n",
      "mar12014_10_15600.nc\n"
     ]
    }
   ],
   "source": [
    "# grab data\n",
    "\n",
    "members = np.arange(1,11,dtype=np.int) # array of member indices\n",
    "for i in members:\n",
    "    member='mar12014_{:d}_15600.nc'.format(i)\n",
    "    print(member)\n",
    "    with Dataset(member,'r') as nc_in:\n",
    "        #print(list(nc_in.variables.keys()))\n",
    "        the_temp=nc_in.variables['TABS'][...]\n",
    "        #print(the_temp.shape)\n",
    "        #\n",
    "        # remove the time dimension since we only have one timestep\n",
    "        #\n",
    "        the_temp=the_temp.squeeze()\n",
    "        the_height=nc_in.variables['z'][...]\n",
    "        #print(the_height.shape)\n",
    "        the_press=nc_in.variables['p'][...]\n",
    "        the_press=the_press*100.  #convert to Pa\n",
    "        #print(the_press.shape)\n",
    "        wvel=nc_in.variables['W'][...]\n",
    "        \n",
    "        if (i==1): # initialize ensemble arrays\n",
    "            thetavals=np.empty([len(members),the_temp.shape[0],the_temp.shape[1],the_temp.shape[2]])\n",
    "            xymean = np.empty([len(members),the_temp.shape[0]])\n",
    "            the_presses = np.empty([len(members),the_press.shape[0]])\n",
    "            wvels = np.empty([len(members),wvel.shape[1],wvel.shape[2],wvel.shape[3]])\n",
    "    \n",
    "        the_presses[i-1,:] = the_press\n",
    "        wvels[i-1,:] = wvel\n",
    "        \n",
    "        xmean = the_temp.mean(axis=2)\n",
    "        xymean_dummy = xmean.mean(axis=1)\n",
    "        xymean[i-1,:] = xymean_dummy.squeeze()\n",
    "            \n",
    "        for lev,press_lev in enumerate(the_press): # evaluate thetas for each member\n",
    "            thetavals[i-1,lev,:,:]=theta(press_lev,the_temp[lev,:,:])   \n",
    " "
   ]
  },
  {
   "cell_type": "code",
   "execution_count": 20,
   "metadata": {
    "collapsed": false,
    "scrolled": true
   },
   "outputs": [
    {
     "data": {
      "text/plain": [
       "[<matplotlib.text.Text at 0x7dd4518>,\n",
       " <matplotlib.text.Text at 0x7ec5be0>,\n",
       " <matplotlib.text.Text at 0x7d7ee48>]"
      ]
     },
     "execution_count": 20,
     "metadata": {},
     "output_type": "execute_result"
    },
    {
     "data": {
      "image/png": "[encoded data removed]",
      "text/plain": [
       "<matplotlib.figure.Figure at 0x7e71b70>"
      ]
     },
     "metadata": {},
     "output_type": "display_data"
    }
   ],
   "source": [
    "# plot thetas\n",
    "\n",
    "fig,ax=plt.subplots(1,1)\n",
    "x = random_xy[0][0]\n",
    "y = random_xy[0][1]\n",
    "levels = thetavals.shape[1]\n",
    "ensemble_theta = np.empty(levels)\n",
    "\n",
    "for lev in range(0,levels):\n",
    "    ensemble_theta[lev] = (np.mean(thetavals[:,lev,x,y]))\n",
    "    \n",
    "ax.plot(ensemble_theta,the_height*meter2km)  \n",
    "ax.set(xlabel='potential temperature (K)',ylabel='height (km)',title='Ensemble Averaged Theta Profile')\n"
   ]
  },
  {
   "cell_type": "code",
   "execution_count": 21,
   "metadata": {
    "collapsed": false,
    "scrolled": true
   },
   "outputs": [
    {
     "name": "stdout",
     "output_type": "stream",
     "text": [
      "The ensemble-averaged vertical heat flux at 200 m is 0.19698739994175016 W/m^2\n"
     ]
    }
   ],
   "source": [
    "# initialize heat flux array\n",
    "heat_flux_profile = np.empty([len(members),levels])\n",
    "\n",
    "# constants\n",
    "Rd = 287. # J/kg/K\n",
    "cpd = 1004. # J/kg/K\n",
    "\n",
    "for i in members:\n",
    "    \n",
    "    # calculate theta perturbations\n",
    "    theta_bar = thetavals[i-1,...].mean(axis=2).mean(axis=1)\n",
    "    thetavals_squeeze=thetavals[i-1,...].squeeze()\n",
    "    theta_prime = thetavals_squeeze.T - theta_bar\n",
    "    theta_prime=theta_prime.T\n",
    "    \n",
    "    # calculate w perturbations\n",
    "    w_bar=wvels[i-1,...].mean(axis=2).mean(axis=1)\n",
    "    wvel_squeeze=wvels[i-1,...].squeeze()\n",
    "    w_prime= wvel_squeeze.T - w_bar\n",
    "    w_prime=w_prime.T\n",
    "    \n",
    "    # calculate heat fluxes\n",
    "    flux=w_prime*theta_prime\n",
    "    flux_profile=flux.mean(axis=2).mean(axis=1)\n",
    "    \n",
    "    rho = the_presses[i-1,:]/(Rd*xymean[i-1,:])\n",
    "    \n",
    "    heat_flux_profile[i-1,:] = cpd*rho*flux_profile/10\n",
    "\n",
    "# print out ensemble-averaged heat flux at level 7 \n",
    "print(\"The ensemble-averaged vertical heat flux at 200 m is {} W/m^2\".format(np.mean(heat_flux_profile[7])))\n"
   ]
  },
  {
   "cell_type": "code",
   "execution_count": 22,
   "metadata": {
    "collapsed": false,
    "scrolled": true
   },
   "outputs": [
    {
     "data": {
      "text/plain": [
       "[<matplotlib.text.Text at 0x7d78240>,\n",
       " <matplotlib.text.Text at 0x7dbf748>,\n",
       " <matplotlib.text.Text at 0x7cb2390>]"
      ]
     },
     "execution_count": 22,
     "metadata": {},
     "output_type": "execute_result"
    },
    {
     "data": {
      "image/png": "[encoded data removed]",
      "text/plain": [
       "<matplotlib.figure.Figure at 0x7e71898>"
      ]
     },
     "metadata": {},
     "output_type": "display_data"
    }
   ],
   "source": [
    "# get ensemble-averaged P\n",
    "p_bar = the_presses.mean(axis=0)\n",
    "\n",
    "# calculate P perturbations for member 1\n",
    "p_squeeze = the_presses[0,...].squeeze()\n",
    "p_prime = p_squeeze.T - p_bar\n",
    "p_prime = p_prime.T\n",
    "\n",
    "# normalize P\n",
    "norm_p = p_prime/the_presses[0,...]\n",
    "\n",
    "# plot pressure perturbation histogram for member 1\n",
    "fig,ax=plt.subplots(1,1)\n",
    "pres_hist = ax.hist(norm_p)\n",
    "ax.set(xlabel='Normalized Pressure (p\\'/p(z))',ylabel='Count',title='Pressure Perturbation Histogram for Member 1')\n"
   ]
  }
 ],
 "metadata": {
  "kernelspec": {
   "display_name": "Python 3",
   "language": "python",
   "name": "python3"
  },
  "language_info": {
   "codemirror_mode": {
    "name": "ipython",
    "version": 3
   },
   "file_extension": ".py",
   "mimetype": "text/x-python",
   "name": "python",
   "nbconvert_exporter": "python",
   "pygments_lexer": "ipython3",
   "version": "3.4.3"
  }
 },
 "nbformat": 4,
 "nbformat_minor": 0
}
