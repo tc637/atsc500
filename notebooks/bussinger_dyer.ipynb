{
 "cells": [
  {
   "cell_type": "code",
   "execution_count": null,
   "metadata": {
    "collapsed": true
   },
   "outputs": [],
   "source": [
    "import numpy as np\n",
    "from numpy import log,arctan,pi\n",
    "import matplotlib.pyplot as plt\n",
    "\n",
    "\n",
    "def surfaceScale(zeta,zz0):\n",
    "    \"\"\"\n",
    "       zeta= z/L\n",
    "       zz0 = z/roughness length\n",
    "       \n",
    "       stull equations 7.4.11\n",
    "       zeta can be either a number (scalar)\n",
    "       or a vector\n",
    "    \"\"\"\n",
    "    #\n",
    "    # the function monin always returns a numpy array\n",
    "    # if we pass zeta as a scalar, unpack that array\n",
    "    # and return the drag coefficients as scalars\n",
    "    #\n",
    "    is_scalar=False\n",
    "    if np.isscalar(zeta):\n",
    "        is_scalar = True   \n",
    "    (psim,psih)=monin(zeta)\n",
    "    k=0.4\n",
    "    CD=k**2/(log(zz0) - psim)**2.\n",
    "    CH=(k**2.)/(log(zz0) - psim)/(log(zz0) - psih)\n",
    "    CDN=(k**2.)/(log(zz0)**2.)\n",
    "    CHN=CDN\n",
    "    if is_scalar:\n",
    "        CD=CD[0]\n",
    "        CH=CH[0]\n",
    "    return (CD,CH,CDN,CHN)\n",
    "\n",
    "def monin(zeta):\n",
    "    #Bussinger-dyer relationships (Stull p. 383, eq. 9.7.5)\n",
    "    #or Fleagle and Bussinger page 180.\n",
    "    zeta=np.atleast_1d(zeta)\n",
    "    psim=np.empty_like(zeta)\n",
    "    psih=np.empty_like(zeta)\n",
    "    for i,the_zeta in enumerate(zeta):\n",
    "        if the_zeta < 0:\n",
    "           x=(1 - 16*the_zeta)**(0.25)\n",
    "           psim[i]=log(((1+x**2.)/2.)*((1+x)/2.)**2.) - 2.*arctan(x) + pi/2.\n",
    "           psih[i]=2.*log((1.+x**2.)/2.)\n",
    "        elif (the_zeta > 0):\n",
    "           psim[i]= -5.*the_zeta\n",
    "           psih[i]= -5.*the_zeta\n",
    "        else:\n",
    "          psim[i]=0.\n",
    "          psih[i]=0.\n",
    "    return (psim,psih)"
   ]
  },
  {
   "cell_type": "code",
   "execution_count": null,
   "metadata": {
    "collapsed": false
   },
   "outputs": [],
   "source": [
    "%matplotlib inline\n",
    "zeta=np.arange(-1.0,1.0,0.01)\n",
    "zz0=1.e5\n",
    "(CDa,CHa,CDNa,CHNa)=surfaceScale(zeta,zz0)\n",
    "zz0=1.e3\n",
    "(CDb,CHb,CDNb,CHNb)=surfaceScale(zeta,zz0)\n",
    "fig=plt.figure(1)\n",
    "fig.clf()\n",
    "ax1=fig.add_subplot(111)\n",
    "ax1.plot(zeta,CDa/CDNa,'b-',label=r'$z/z0=10^5$')\n",
    "ax1.plot(zeta,CDb/CDNb,'r-',label=r'$z/z0=10^3$')\n",
    "ax1.set_xlabel('z/L');\n",
    "ax1.set_ylabel(r'$C_D/C_{DN}$');\n",
    "ax1.set_title('normalized drag coefficient (momentum) vs. stability');\n",
    "ax1.legend()\n",
    "fig.canvas.draw()\n",
    "fig=plt.figure(2)\n",
    "fig.clf()\n",
    "ax1=fig.add_subplot(111)\n",
    "ax1.plot(zeta,CHa/CHNa,'b-',label=r'$z/z0=10^5$')\n",
    "ax1.plot(zeta,CHb/CHNb,'r-',label=r'$z/z0=10^3$')\n",
    "ax1.set_xlabel('z/L');\n",
    "ax1.set_ylabel(r'$C_H/C_{HN}$');\n",
    "ax1.set_title('normalized drag coefficient (heat) vs. stability');\n",
    "ax1.legend()"
   ]
  },
  {
   "cell_type": "code",
   "execution_count": null,
   "metadata": {
    "collapsed": true
   },
   "outputs": [],
   "source": []
  }
 ],
 "metadata": {
  "kernelspec": {
   "display_name": "Python 3",
   "language": "python",
   "name": "python3"
  },
  "language_info": {
   "codemirror_mode": {
    "name": "ipython",
    "version": 3
   },
   "file_extension": ".py",
   "mimetype": "text/x-python",
   "name": "python",
   "nbconvert_exporter": "python",
   "pygments_lexer": "ipython3",
   "version": "3.4.3"
  }
 },
 "nbformat": 4,
 "nbformat_minor": 0
}