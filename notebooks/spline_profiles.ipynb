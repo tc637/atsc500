{
 "cells": [
  {
   "cell_type": "code",
   "execution_count": null,
   "metadata": {
    "collapsed": false
   },
   "outputs": [],
   "source": [
    "import urllib,os\n",
    "from matplotlib import pyplot as plt\n",
    "from netCDF4 import Dataset\n",
    "import numpy as np\n",
    "\n",
    "the_vars=np.load('flux_profs.npz')\n",
    "avg_flux = the_vars['avg_flux']\n",
    "z= the_vars['z']\n",
    "the_time=the_vars['the_time']"
   ]
  },
  {
   "cell_type": "markdown",
   "metadata": {},
   "source": [
    "### use interp1d to find the zero crossing  for each of the 48 profiles"
   ]
  },
  {
   "cell_type": "code",
   "execution_count": null,
   "metadata": {
    "collapsed": false
   },
   "outputs": [],
   "source": [
    "%matplotlib inline\n",
    "from scipy.interpolate import interp1d\n",
    "plt.style.use('ggplot')\n",
    "fig,ax=plt.subplots(1,1,figsize=(10,8))\n",
    "zstore=[]\n",
    "for i in np.arange(0,avg_flux.shape[0],1):\n",
    "    negheight=np.argmin(avg_flux[i,:])\n",
    "    z_trun = z[2:negheight]\n",
    "    flux=avg_flux[i,2:negheight]\n",
    "    ax.plot(flux,z_trun)\n",
    "    the_spline= interp1d(flux,z_trun)\n",
    "    zero_cross=the_spline(0.)\n",
    "    zstore.append(zero_cross)\n",
    "    ax.text(0,zero_cross,'{:d}'.format(i))\n",
    "    ax.plot(0,zero_cross,'b+')\n",
    "   \n",
    "    \n",
    "out=ax.set(xlabel=r'$\\overline{\\theta}$ (K)',ylabel='height (m)',\n",
    "           title='LES dry run:  surface flux=60 $W\\,m^{-2}$, $\\Gamma$=10 K/km',\n",
    "           ylim=[0,800])\n"
   ]
  },
  {
   "cell_type": "markdown",
   "metadata": {},
   "source": [
    "### look at variablity among ensemble members at timestep 20"
   ]
  },
  {
   "cell_type": "markdown",
   "metadata": {
    "collapsed": true
   },
   "source": [
    "### Does the inversion height grow as sqrt(time)?"
   ]
  },
  {
   "cell_type": "markdown",
   "metadata": {},
   "source": [
    "Since the LES was run with a constant surface flux of $F_0$ = 60 $W\\,m^{-2}$ the inversion\n",
    "height should follow Stull 11.2.2f, p. 456:\n",
    "\n",
    "$$z_i^2 - z_{i0}^2 = \\frac{2}{\\gamma} \\left [ \\overline{w^\\prime \\theta^\\prime}_s \n",
    "- \\overline{w^\\prime \\theta^\\prime}_i \\right ] \\left ( t - t_0 \\right ) $$\n",
    "\n",
    "With $\\overline{w^\\prime \\theta^\\prime}_s = F_0/c_p$ = 60/1004. = 0.06 $K\\,m\\,s^{-1}$\n",
    "\n",
    "So plotting log(height) vs. log(time) should yield a slope of 1/2.  The actual result is a slope\n",
    "of 0.52 (see below)"
   ]
  },
  {
   "cell_type": "code",
   "execution_count": null,
   "metadata": {
    "collapsed": false
   },
   "outputs": [],
   "source": [
    "fig,ax=plt.subplots(1,1,figsize=(10,8))\n",
    "day_frac=the_time - 169\n",
    "ax.loglog(day_frac,zstore,'ro',label='les zero-cross')\n",
    "ax.set(ylim=[100,1000],xlim=[5.e-3,1])\n",
    "\n",
    "xdata=np.log10(day_frac)\n",
    "ydata=np.log10(zstore)\n",
    "slope, intercept=np.polyfit(xdata,ydata,1)\n",
    "tvals=np.linspace(-2,np.log10(0.3),20)\n",
    "yvals= intercept + slope*tvals\n",
    "ax.loglog(10**tvals,10**yvals,'b-',label='fit')\n",
    "out=ax.legend()\n",
    "print(\"depth growing as t**{:<4.2f}\".format(slope))"
   ]
  },
  {
   "cell_type": "markdown",
   "metadata": {},
   "source": [
    "### How much does entrainment accelerate boundary layer growth?"
   ]
  },
  {
   "cell_type": "markdown",
   "metadata": {},
   "source": [
    "The turbulent plumes are doing work on the inversion, causing warm air to be\n",
    "pulled into the mixed layer and accelerating the rate at which the boundary\n",
    "layer is growing.  \n",
    "\n",
    "According Garratt eq. 6.20 if $\\beta = \\frac{ \\overline{w^\\prime \\theta^\\prime}_i}{\\overline{w^\\prime \\theta^\\prime}_s}$, then \n",
    "\n",
    "$$\\frac{\\partial}{\\partial t} \\frac{h^2}{2} = \\gamma^{-1} \\left (1 + 2 \\beta \\right )\\overline{w^\\prime \\theta^\\prime}_s$$\n",
    "\n"
   ]
  },
  {
   "cell_type": "code",
   "execution_count": null,
   "metadata": {
    "collapsed": false
   },
   "outputs": [],
   "source": [
    "fig,ax=plt.subplots(1,1,figsize=(10,8))\n",
    "day_frac=the_time - 169\n",
    "day_frac_sec = day_frac*24.*3600.  #time in seconds\n",
    "h2 = np.array(zstore)**2.\n",
    "ax.plot(day_frac,h2*1.e-6,'ro',label='les zero-cross')\n",
    "slope, intercept=np.polyfit(day_frac_sec,h2,1)\n",
    "cp=1004.  #J/kg/K\n",
    "F0=60 # W/m^2\n",
    "F0=F0/1004.  #convert to kinematic units assuming density=1 kg/m^3\n",
    "gamma = 1.e-2  #K/m\n",
    "#\n",
    "# convert time from days to seconds\n",
    "#\n",
    "tvals=np.linspace(0,0.35,20)*24.*3600.\n",
    "yvals= intercept + slope*tvals\n",
    "ax.plot(tvals/24./3600.,yvals*1.e-6,'b-',label='fit')\n",
    "ax.set(ylabel=r\"squared inversion height $(m^{2} \\times 10^{-6})$\",xlabel=\"time (days)\")\n",
    "out=ax.legend(loc='best')"
   ]
  },
  {
   "cell_type": "markdown",
   "metadata": {},
   "source": [
    "Solve for $\\beta$:"
   ]
  },
  {
   "cell_type": "code",
   "execution_count": null,
   "metadata": {
    "collapsed": false
   },
   "outputs": [],
   "source": [
    "beta2=slope*gamma/(2.*F0) - 1.\n",
    "print('β = {:<5.2f}'.format(beta2/2.))"
   ]
  },
  {
   "cell_type": "markdown",
   "metadata": {},
   "source": [
    "So the LES is entraining more efficiently than predicted, probably due to the 25 meter resolution."
   ]
  }
 ],
 "metadata": {
  "kernelspec": {
   "display_name": "Python 3",
   "language": "python",
   "name": "python3"
  },
  "language_info": {
   "codemirror_mode": {
    "name": "ipython",
    "version": 3
   },
   "file_extension": ".py",
   "mimetype": "text/x-python",
   "name": "python",
   "nbconvert_exporter": "python",
   "pygments_lexer": "ipython3",
   "version": "3.4.3"
  }
 },
 "nbformat": 4,
 "nbformat_minor": 0
}