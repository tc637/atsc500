{
 "cells": [
  {
   "cell_type": "markdown",
   "metadata": {},
   "source": [
    "# Scale heights for typical atmospheric soundings"
   ]
  },
  {
   "cell_type": "markdown",
   "metadata": {},
   "source": [
    "## Plot McClatchey's US Standard Atmospheres"
   ]
  },
  {
   "cell_type": "markdown",
   "metadata": {},
   "source": [
    "In this section we're going to read soundings written as pandas dataframes.  A dataframe is a data structure adopted from R, which gives a spreadsheet-like view of the data, with columns referenced by name instead of index number.\n",
    "There are a lot of nice aspects to dataframes, the only one we'll be using here is the ability to pull a column of data referenced by name.  Here's a  [short pandas tutorial](http://clouds.eos.ubc.ca/~phil/courses/atsc500/html_files/intro_to_pandas.html)"
   ]
  },
  {
   "cell_type": "code",
   "execution_count": null,
   "metadata": {
    "collapsed": true
   },
   "outputs": [],
   "source": [
    "import pandas as pd\n",
    "from matplotlib import pyplot as plt\n",
    "import matplotlib.ticker as ticks\n",
    "import urllib"
   ]
  },
  {
   "cell_type": "markdown",
   "metadata": {},
   "source": [
    "I've written an hdf5 file with 5 standard atmospheric soundings called soundings.h5:"
   ]
  },
  {
   "cell_type": "code",
   "execution_count": null,
   "metadata": {
    "collapsed": true
   },
   "outputs": [],
   "source": [
    "data_download=True  ### set this to True if running for the first time\n",
    "if data_download:\n",
    "    urllib.request.urlretrieve(\"http://clouds.eos.ubc.ca/~phil/docs/atsc500/soundings.h5\", \n",
    "                           \"soundings.h5\")"
   ]
  },
  {
   "cell_type": "code",
   "execution_count": null,
   "metadata": {
    "collapsed": false
   },
   "outputs": [],
   "source": [
    "with pd.HDFStore('soundings.h5') as store:\n",
    "    print(store.keys())"
   ]
  },
  {
   "cell_type": "markdown",
   "metadata": {},
   "source": [
    "We use these keys to get a dataframe with 6 columns, and 33 levels"
   ]
  },
  {
   "cell_type": "code",
   "execution_count": null,
   "metadata": {
    "collapsed": false,
    "scrolled": true
   },
   "outputs": [],
   "source": [
    "with pd.HDFStore('soundings.h5') as store:\n",
    "    df=store['tropics']\n",
    "    print(len(df))\n",
    "    print(df.columns)\n",
    "    print(df['z'].values)"
   ]
  },
  {
   "cell_type": "markdown",
   "metadata": {},
   "source": [
    "Read all soundings into a dictionary"
   ]
  },
  {
   "cell_type": "code",
   "execution_count": null,
   "metadata": {
    "collapsed": true
   },
   "outputs": [],
   "source": [
    "sound_dict={}\n",
    "with pd.HDFStore('soundings.h5') as store:\n",
    "    the_names=store.keys()\n",
    "    #\n",
    "    # index from 1 to chop of the leading '/'\n",
    "    #\n",
    "    the_names=[a_name[1:] for a_name in the_names]\n",
    "    for a_name in the_names:\n",
    "        sound_dict[a_name]=store[a_name]"
   ]
  },
  {
   "cell_type": "code",
   "execution_count": null,
   "metadata": {
    "collapsed": false
   },
   "outputs": [],
   "source": [
    "%matplotlib inline\n",
    "plt.style.use('ggplot')\n",
    "meters2km=1.e-3\n",
    "plt.close('all')\n",
    "fig,ax=plt.subplots(1,2,figsize=(11,8))\n",
    "for a_name,df in sound_dict.items():\n",
    "    ax[0].plot(df['Temp'],df['z']*meters2km,label=a_name)\n",
    "    ax[0].set(ylim=(0,40),title='Temp soundings',ylabel='Height (km)',\n",
    "       xlabel='Temperature (K)')\n",
    "\n",
    "    ax[1].plot(df['rmix']*1.e3,df['z']*meters2km,label=a_name)\n",
    "    ax[1].set(ylim=(0,8),title='Vapor soundings',ylabel='Height (km)',\n",
    "       xlabel='vapor mixing ratio (g/kg)')\n",
    "ax[0].legend()\n",
    "ax[1].legend()"
   ]
  },
  {
   "cell_type": "markdown",
   "metadata": {},
   "source": [
    "## Calculating scale heights"
   ]
  },
  {
   "cell_type": "markdown",
   "metadata": {
    "collapsed": true
   },
   "source": [
    "Here is equation 5 of the [hydrostatic balance notes](http://clouds.eos.ubc.ca/~phil/courses/atsc500/docs/hydro.pdf)"
   ]
  },
  {
   "cell_type": "markdown",
   "metadata": {},
   "source": [
    "$$\\frac{ 1}{\\overline{H}} =  \\overline{ \\left ( \\frac{1 }{H} \\right )} = \\frac{\\int_{0 }^{z}\\!\\frac{1}{H} dz^\\prime  }{z-0} $$\n",
    "\n",
    "where\n",
    "\n",
    "$$H=R_d T/g$$"
   ]
  },
  {
   "cell_type": "markdown",
   "metadata": {},
   "source": [
    "and here is the Python code to do that integral:"
   ]
  },
  {
   "cell_type": "code",
   "execution_count": null,
   "metadata": {
    "collapsed": true
   },
   "outputs": [],
   "source": [
    "g=9.8\n",
    "Rd=287.\n",
    "def calcScaleHeight(T,p,z):\n",
    "    dz=np.diff(z)\n",
    "    TLayer=(T[1:] + T[0:-1])/2.\n",
    "    oneOverH=g/(Rd*TLayer)\n",
    "    Zthick=z[-1] - z[0]\n",
    "    oneOverHbar=np.sum(oneOverH*dz)/Zthick\n",
    "    return oneOverHbar"
   ]
  },
  {
   "cell_type": "markdown",
   "metadata": {},
   "source": [
    "Similarly, equation (10) of [hydrostatic balance notes](http://clouds.eos.ubc.ca/~phil/courses/atsc500/docs/hydro.pdf)\n",
    "is:\n",
    "\n",
    "$$\\frac{d\\rho }{\\rho} = - \\left ( \\frac{1 }{H} + \n",
    "                   \\frac{1 }{T} \\frac{dT }{dz} \\right ) dz \\equiv - \\frac{dz }{H_\\rho} $$\n",
    "                   \n",
    "Which leads to \n",
    "\n",
    "$$\\frac{ 1}{\\overline{H_\\rho}}  = \\frac{\\int_{0 }^{z}\\!\\left [ \\frac{1}{H} + \\frac{1 }{T} \\frac{dT }{dz} \\right ] dz^\\prime  }{z-0} $$\n",
    "\n",
    "and the following python function:\n"
   ]
  },
  {
   "cell_type": "code",
   "execution_count": null,
   "metadata": {
    "collapsed": true
   },
   "outputs": [],
   "source": [
    "def calcDensHeight(T,p,z):\n",
    "    \"\"\"\n",
    "       input:  T (K), p (pa), z(m)\n",
    "       output: \n",
    "    \"\"\"\n",
    "    dz=np.diff(z)\n",
    "    TLayer=(T[1:] + T[0:-1])/2.\n",
    "    dTdz=np.diff(T)/np.diff(z)\n",
    "    oneOverH=g/(Rd*TLayer) + (1/TLayer*dTdz)\n",
    "    Zthick=z[-1] - z[0]\n",
    "    oneOverHbar=np.sum(oneOverH*dz)/Zthick\n",
    "    return oneOverHbar"
   ]
  },
  {
   "cell_type": "markdown",
   "metadata": {},
   "source": [
    "### How do $\\overline{H}$ and $\\overline{H_\\rho}$ compare for the tropical sounding?"
   ]
  },
  {
   "cell_type": "code",
   "execution_count": null,
   "metadata": {
    "collapsed": true
   },
   "outputs": [],
   "source": [
    "sounding='tropics'\n",
    "df=sound_dict[sounding]\n",
    "z=df['z'].values\n",
    "Temp=df['Temp'].values\n",
    "press=df['press'].values"
   ]
  },
  {
   "cell_type": "code",
   "execution_count": null,
   "metadata": {
    "collapsed": false
   },
   "outputs": [],
   "source": [
    "#\n",
    "# limit calculation to bottom 10 km\n",
    "#\n",
    "hit=z<10000.\n",
    "zL,pressL,TempL=(z[hit],press[hit],Temp[hit])\n",
    "rhoL=pressL/(Rd*TempL)\n",
    "Hbar= 1./calcScaleHeight(TempL,pressL,zL)\n",
    "Hrho= 1./calcDensHeight(TempL,pressL,zL)\n",
    "print(\"pressure scale height for the {} sounding is {:5.2f} km\".format(sounding,Hbar*1.e-3))\n",
    "print(\"density scale height for the {} is {:5.2f} km\".format(sounding,Hrho*1.e-3))"
   ]
  },
  {
   "cell_type": "markdown",
   "metadata": {},
   "source": [
    "### How well do these average values represent the pressure and density profiles?"
   ]
  },
  {
   "cell_type": "code",
   "execution_count": null,
   "metadata": {
    "collapsed": false
   },
   "outputs": [],
   "source": [
    "theFig,theAx=plt.subplots(1,1)\n",
    "theAx.semilogy(Temp,press/100.)\n",
    "theAx.invert_yaxis()\n",
    "tickvals=[1000,800, 600, 400, 200, 100, 50,1]\n",
    "theAx.set_yticks(tickvals)\n",
    "majorFormatter = ticks.FormatStrFormatter('%d')\n",
    "theAx.yaxis.set_major_formatter(majorFormatter)\n",
    "theAx.set_yticklabels(tickvals)\n",
    "theAx.set_ylim([1000.,50.])\n",
    "theAx.set_title('{} profile'.format(sounding))\n",
    "theAx.set_xlabel('Temperature (K)')\n",
    "theAx.set_ylabel('pressure (hPa)')"
   ]
  },
  {
   "cell_type": "markdown",
   "metadata": {},
   "source": [
    "Plot \n",
    "\n",
    "$$p(z) = p_0 \\exp \\left (-z/\\overline{H} \\right )$$\n",
    "\n",
    "vs. the actual sounding p(T):"
   ]
  },
  {
   "cell_type": "code",
   "execution_count": null,
   "metadata": {
    "collapsed": false
   },
   "outputs": [],
   "source": [
    "fig,theAx=plt.subplots(1,1)\n",
    "hydroPress=pressL[0]*np.exp(-zL/Hbar1)\n",
    "theAx.plot(pressL/100.,zL/1000.,label='sounding')\n",
    "theAx.plot(hydroPress/100.,zL/1000.,label='hydrostat approx')\n",
    "theAx.set_title('height vs. pressure for US standard atmosphere')\n",
    "theAx.set_xlabel('pressure (hPa)')\n",
    "theAx.set_ylabel('height (km)')\n",
    "theAx.set_xlim([500,1000])\n",
    "theAx.set_ylim([0,5])\n",
    "tickVals=[500, 600, 700, 800, 900, 1000]\n",
    "theAx.set_xticks(tickVals)\n",
    "theAx.set_xticklabels(tickVals)\n",
    "theAx.legend(loc='best')b"
   ]
  },
  {
   "cell_type": "markdown",
   "metadata": {},
   "source": [
    "Plot \n",
    "\n",
    "$$\\rho(z) = \\rho_0 \\exp \\left (-z/\\overline{H_\\rho} \\right )$$\n",
    "\n",
    "vs. the actual sounding $\\rho(T)$:"
   ]
  },
  {
   "cell_type": "code",
   "execution_count": null,
   "metadata": {
    "collapsed": false
   },
   "outputs": [],
   "source": [
    "fig,theAx=plt.subplots(1,1)\n",
    "hydroDens=rhoL[0]*np.exp(-zL/Hrho1)\n",
    "theAx.plot(rhoL,zL/1000.,label='sounding')\n",
    "theAx.plot(hydroDens,zL/1000.,label='hydrostat approx')\n",
    "theAx.set_title('height vs. density for US standard atmosphere')\n",
    "theAx.set_xlabel('density ($kg\\,m^{-3}$)')\n",
    "theAx.set_ylabel('height (km)')\n",
    "theAx.set_ylim([0,5])\n",
    "theAx.legend(loc='best')"
   ]
  },
  {
   "cell_type": "code",
   "execution_count": null,
   "metadata": {
    "collapsed": true
   },
   "outputs": [],
   "source": []
  }
 ],
 "metadata": {
  "kernelspec": {
   "display_name": "Python 3",
   "language": "python",
   "name": "python3"
  },
  "language_info": {
   "codemirror_mode": {
    "name": "ipython",
    "version": 3
   },
   "file_extension": ".py",
   "mimetype": "text/x-python",
   "name": "python",
   "nbconvert_exporter": "python",
   "pygments_lexer": "ipython3",
   "version": "3.4.3"
  }
 },
 "nbformat": 4,
 "nbformat_minor": 0
}