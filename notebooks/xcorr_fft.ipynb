{
 "cells": [
  {
   "cell_type": "markdown",
   "metadata": {},
   "source": [
    "# Using the fft to compute correlation\n",
    "\n",
    "Below I use aircraft measurments of $\\theta$ and wvel taken at 25 Hz.  I compute the \n",
    "autocorrelation using numpy.correlate and numpy.fft and show they are identical, as we'd expect"
   ]
  },
  {
   "cell_type": "code",
   "execution_count": null,
   "metadata": {
    "collapsed": false
   },
   "outputs": [],
   "source": [
    "from matplotlib import pyplot as plt\n",
    "plt.style.use('ggplot')\n",
    "import urllib\n",
    "import os\n",
    "filelist=['aircraft.npz']\n",
    "data_download=True\n",
    "if data_download:\n",
    "    for the_file in filelist:\n",
    "        url='http://clouds.eos.ubc.ca/~phil/docs/atsc500/data/{}'.format(the_file)\n",
    "        urllib.request.urlretrieve(url,the_file)\n",
    "print(\"download {}: size is {:6.2g} Mbytes\".format(the_file,os.path.getsize(the_file)*1.e-6))"
   ]
  },
  {
   "cell_type": "code",
   "execution_count": null,
   "metadata": {
    "collapsed": false
   },
   "outputs": [],
   "source": [
    "#http://stackoverflow.com/questions/643699/how-can-i-use-numpy-correlate-to-do-autocorrelation\n",
    "import numpy as np\n",
    "%matplotlib inline\n",
    "data = np.load('aircraft.npz')\n",
    "wvel=data['wvel'] - data['wvel'].mean()\n",
    "theta=data['theta'] - data['theta'].mean()\n",
    "autocorr = np.correlate(wvel,wvel,mode='full')\n",
    "auto_data = autocorr[wvel.size:]\n",
    "ticks=np.arange(0,wvel.size)\n",
    "ticks=ticks/25.\n",
    "fig,ax = plt.subplots(1,1,figsize=(10,8))\n",
    "ax.set(xlabel='lag (seconds)',title='autocorrelation of wvel using numpy.correlate')\n",
    "out=ax.plot(ticks[:300],auto_data[:300])\n"
   ]
  },
  {
   "cell_type": "code",
   "execution_count": null,
   "metadata": {
    "collapsed": false
   },
   "outputs": [],
   "source": [
    "import numpy.fft as fft\n",
    "the_fft = fft.fft(wvel)\n",
    "auto_fft = the_fft*np.conj(the_fft)\n",
    "auto_fft = np.real(fft.ifft(auto_fft))\n",
    "\n",
    "fig,ax = plt.subplots(1,1,figsize=(10,8))\n",
    "ax.plot(ticks[:300],auto_fft[:300])\n",
    "out=ax.set(xlabel='lag (seconds)',title='autocorrelation using fft')"
   ]
  },
  {
   "cell_type": "code",
   "execution_count": null,
   "metadata": {
    "collapsed": true
   },
   "outputs": [],
   "source": []
  }
 ],
 "metadata": {
  "kernelspec": {
   "display_name": "Python 3",
   "language": "python",
   "name": "python3"
  },
  "language_info": {
   "codemirror_mode": {
    "name": "ipython",
    "version": 3
   },
   "file_extension": ".py",
   "mimetype": "text/x-python",
   "name": "python",
   "nbconvert_exporter": "python",
   "pygments_lexer": "ipython3",
   "version": "3.4.3"
  }
 },
 "nbformat": 4,
 "nbformat_minor": 0
}