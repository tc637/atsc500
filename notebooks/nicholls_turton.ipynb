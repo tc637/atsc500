{
 "cells": [
  {
   "cell_type": "markdown",
   "metadata": {},
   "source": [
    "### Move to the full Nicholls-Turton entrainment parameterization, following Gesso et al. 2014\n",
    "\n",
    "Read in the model result for the simple radiative entrainment closure of de Roode lecture 2 and use those\n",
    "values to calculate the NT entrainment rate"
   ]
  },
  {
   "cell_type": "code",
   "execution_count": null,
   "metadata": {
    "collapsed": false
   },
   "outputs": [],
   "source": [
    "%matplotlib inline\n",
    "from matplotlib import pyplot as plt\n",
    "from a500_utils.helpersII import make_tuple\n",
    "from thermlib import thermfuncsII as tf\n",
    "from thermlib import thermconst as tc\n",
    "from importlib import reload\n",
    "reload(tf)\n",
    "import pandas as pd\n",
    "import numpy as np\n",
    "\n",
    "with pd.HDFStore('dumpvapor.h5') as f:\n",
    "    df_result=f['profile']\n",
    "out=df_result.plot('time','h')\n",
    "\n"
   ]
  },
  {
   "cell_type": "markdown",
   "metadata": {},
   "source": [
    "### turn the last timestep values into a named tuple"
   ]
  },
  {
   "cell_type": "code",
   "execution_count": null,
   "metadata": {
    "collapsed": false
   },
   "outputs": [],
   "source": [
    "out=df_result.iloc[-1]\n",
    "print(out)\n",
    "steady_state=make_tuple(out.to_dict())\n",
    "steady_state\n",
    "\n"
   ]
  },
  {
   "cell_type": "markdown",
   "metadata": {},
   "source": [
    "### plot the buoyancy flux profile"
   ]
  },
  {
   "cell_type": "code",
   "execution_count": null,
   "metadata": {
    "collapsed": false
   },
   "outputs": [],
   "source": [
    "def flux_prof(z,coeffs):\n",
    "    Fout=coeffs.Fsfc + (coeffs.Finv - coeffs.Fsfc)*(z/coeffs.zinv)\n",
    "    return Fout\n",
    "\n",
    "zvals=np.linspace(0,steady_state.h,30)\n",
    "coeffs_thetal=make_tuple(dict(Fsfc=steady_state.T_flux_0,Finv=steady_state.entflux_theta,\n",
    "                       zinv=steady_state.h))\n",
    "coeffs_qt=make_tuple(dict(Fsfc=steady_state.q_flux_0,Finv=steady_state.entflux_qv,\n",
    "                       zinv=steady_state.h))\n",
    "flux_thetal=flux_prof(zvals,coeffs_thetal)\n",
    "flux_qt=flux_prof(zvals,coeffs_qt)\n",
    "df_flux=pd.DataFrame.from_records(zip(zvals,flux_thetal,flux_qt),columns=['z','flux_thetal','flux_qt'])\n",
    "\n",
    "plt.close('all')\n",
    "fig,ax = plt.subplots(1,2,figsize=(12,10))\n",
    "df_flux.plot('flux_thetal','z',ax=ax[0])\n",
    "out=ax[1].plot(flux_qt*2.5e6,zvals)\n",
    "ax[0].set(title=r'$q_t\\ flux\\ (W m^{-2})$',ylabel='height (m)')\n",
    "out=ax[1].set(title=r'$\\theta_l$ flux (K m/s)',ylabel='height (m)')\n",
    "\n"
   ]
  },
  {
   "cell_type": "markdown",
   "metadata": {},
   "source": [
    "### calculate the saturated and unsaturated thetav jumps at the inversion\n",
    "\n",
    "(unnumbered del Gesso equations below equation 14)"
   ]
  },
  {
   "cell_type": "code",
   "execution_count": null,
   "metadata": {
    "collapsed": false
   },
   "outputs": [],
   "source": [
    "dth=steady_state.deltheta\n",
    "dqt=steady_state.delqv\n",
    "thetal_m=steady_state.theta\n",
    "qt_m=steady_state.qv\n",
    "h=steady_state.h\n",
    "press=tf.find_press(steady_state.h)   #kPa\n",
    "thetal_ft = steady_state.theta + dth\n",
    "qt_ft = steady_state.qv + dqt\n",
    "\n",
    "Ad,Bd,issat = tf.calc_ABcoeffs(thetal_ft,qt_ft,press)\n",
    "Aw,Bw,issat = tf.calc_ABcoeffs(thetal_m,qt_m,press)\n",
    "invert= tf.t_uos_thetal(thetal_m,qt_m,press)\n",
    "T_0 = invert.temp\n",
    "lv=tf.L_t(invert.temp)\n",
    "Cl =  (Ad*lv/tc.CPD - T_0/tc.EPS)\n",
    "del_thv_dry = Ad * dth + Bd * dqt\n",
    "del_thv_sat = Aw * dth + Bw * dqt\n",
    "print('del_thv_dry',del_thv_dry)\n",
    "print('del_thv_sat',del_thv_sat)"
   ]
  },
  {
   "cell_type": "markdown",
   "metadata": {},
   "source": [
    "###  calculate the thetav inversion jump accounting for evaporative cooling\n",
    "\n",
    "(see Stevens 2002 equations 16-18)"
   ]
  },
  {
   "cell_type": "code",
   "execution_count": null,
   "metadata": {
    "collapsed": false
   },
   "outputs": [],
   "source": [
    "ql_max = invert.ql\n",
    "print('ql_max at cloud top (kg/kg)',ql_max)\n",
    "Cl =  (Ad*lv/tc.CPD - T_0/tc.EPS)\n",
    "Del_thv = del_thv_dry - Cl * ql_max\n",
    "print('Del_thv',Del_thv)"
   ]
  },
  {
   "cell_type": "markdown",
   "metadata": {},
   "source": [
    "### calculate the buoyancy integral terms\n",
    "\n",
    "Gesso equations 13-14"
   ]
  },
  {
   "cell_type": "code",
   "execution_count": null,
   "metadata": {
    "collapsed": false
   },
   "outputs": [],
   "source": [
    "zi = steady_state.h\n",
    "lcl_press=tf.LCL_thetal(thetal_m,qt_m)\n",
    "zb=tf.find_height(lcl_press)\n",
    "\n",
    "T1 = zb/zi\n",
    "T2 = 0.5 * zb**2 / zi**2\n",
    "T3 = (zi-zb)/zi\n",
    "T4 = 0.5 * (zi**2 - zb**2) / zi**2\n",
    "\n",
    "wtl_0=steady_state.T_flux_0\n",
    "wqt_0=steady_state.q_flux_0\n",
    "Del_F = steady_state.radcool/tc.CPD\n",
    "\n",
    "term1 = wtl_0 * (Ad * (T1-T2) + Aw * (T3-T4))\n",
    "term2 = wqt_0 * (Bd * (T1-T2) + Bw * (T3-T4))\n",
    "term3 = Del_F * (Ad * T2      + Aw * T4)\n",
    "\n",
    "Theta_NE = term1 + term2 + term3\n",
    "print('Gesso Θne',Theta_NE)"
   ]
  },
  {
   "cell_type": "markdown",
   "metadata": {},
   "source": [
    "Find wstar using Gesso equations 8 and 12"
   ]
  },
  {
   "cell_type": "code",
   "execution_count": null,
   "metadata": {
    "collapsed": false
   },
   "outputs": [],
   "source": [
    "wstar=(2.5*9.8/T_0*zi*Theta_NE)**(1/3.)\n",
    "print('wstar without entrainment: {:5.3f} (m/s)'.format(wstar))"
   ]
  },
  {
   "cell_type": "markdown",
   "metadata": {},
   "source": [
    "### Calculate the densest mixture for this inversion jump\n",
    "\n",
    "Stevens equation 20"
   ]
  },
  {
   "cell_type": "code",
   "execution_count": null,
   "metadata": {
    "collapsed": false
   },
   "outputs": [],
   "source": [
    "chi_star = Cl * ql_max / (del_thv_dry - del_thv_sat)\n",
    "print('just saturated at with {:5.2f}% environmental air'.format(chi_star*100.))"
   ]
  },
  {
   "cell_type": "markdown",
   "metadata": {},
   "source": [
    "### Calculate the Nicholls and Turton average evaporative cooling effect $\\Delta m / \\Delta \\theta_v$\n",
    "\n",
    "Stevens eq. 30 and de Roode lecture 2  slide 12 -- note that $\\Delta m/\\Delta \\theta_v = 1$ for no evaporation"
   ]
  },
  {
   "cell_type": "code",
   "execution_count": null,
   "metadata": {
    "collapsed": false
   },
   "outputs": [],
   "source": [
    "Del_m = del_thv_dry + chi_star * (2. - chi_star) * (del_thv_sat - del_thv_dry)\n",
    "print('Δm/Δθv = {:5.2f}'.format(Del_m/Del_thv))"
   ]
  },
  {
   "cell_type": "markdown",
   "metadata": {},
   "source": [
    "### Calculate the weakened Nicholls and Turton inversion buoyancy jump\n",
    "\n",
    "de Roode lecture 2 slide 15 and Stevens eqn 29 with a2=15 following Bretherton"
   ]
  },
  {
   "cell_type": "code",
   "execution_count": null,
   "metadata": {
    "collapsed": false
   },
   "outputs": [],
   "source": [
    "a2=15.\n",
    "Del_thv_NT = Del_thv / (1. + a2 * (1. - Del_m/Del_thv))\n",
    "print('original Del_thv={:5.2f} (K), Del_thv_NT = {:5.2f} (K)'.format(Del_thv,Del_thv_NT))"
   ]
  },
  {
   "cell_type": "markdown",
   "metadata": {},
   "source": [
    "### Calculate the final entrainment rate according to de Roode lecture 2 slide 15"
   ]
  },
  {
   "cell_type": "code",
   "execution_count": null,
   "metadata": {
    "collapsed": false
   },
   "outputs": [],
   "source": [
    "A_NT = 0.2\n",
    "fac_NT = 2.5\n",
    "\n",
    "term4 = Del_thv_NT\n",
    "term5 = A_NT * fac_NT * (T2 * del_thv_dry + T4 * del_thv_sat)\n",
    "denominator = term4 + term5\n",
    "\n",
    "we = A_NT * fac_NT * Theta_NE / denominator\n",
    "print('radiative we is {:5.3f} cm/s and NT we is {:5.3f} cm/s'.format(steady_state.went*100.,we*100.))"
   ]
  },
  {
   "cell_type": "code",
   "execution_count": null,
   "metadata": {
    "collapsed": true
   },
   "outputs": [],
   "source": []
  }
 ],
 "metadata": {
  "kernelspec": {
   "display_name": "Python 3",
   "language": "python",
   "name": "python3"
  },
  "language_info": {
   "codemirror_mode": {
    "name": "ipython",
    "version": 3
   },
   "file_extension": ".py",
   "mimetype": "text/x-python",
   "name": "python",
   "nbconvert_exporter": "python",
   "pygments_lexer": "ipython3",
   "version": "3.4.3"
  }
 },
 "nbformat": 4,
 "nbformat_minor": 0
}