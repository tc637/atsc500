{
 "cells": [
  {
   "cell_type": "markdown",
   "metadata": {},
   "source": [
    "### Make the surface flux interactive and add subsidence"
   ]
  },
  {
   "cell_type": "code",
   "execution_count": null,
   "metadata": {
    "collapsed": false
   },
   "outputs": [],
   "source": [
    "def theta_ft(h,intercept,gamma):\n",
    "    theta_top = intercept + h*gamma\n",
    "    return theta_top\n",
    "\n",
    "from collections import namedtuple\n",
    "def make_tuple(tupname,in_dict):\n",
    "    the_tup = namedtuple(tupname, in_dict.keys())\n",
    "    the_tup = the_tup(**in_dict)\n",
    "    return the_tup\n"
   ]
  },
  {
   "cell_type": "code",
   "execution_count": null,
   "metadata": {
    "collapsed": true
   },
   "outputs": [],
   "source": [
    "%matplotlib inline\n",
    "import numpy as np\n",
    "import scipy.integrate as integrate\n",
    "from matplotlib import pyplot as plt\n",
    "import pandas as pd\n",
    "\n",
    "\n",
    "\n",
    "def dmixed_vars(the_vars,tstep,coeffs):\n",
    "    \"\"\"\n",
    "      the_vars[0]= thetabar\n",
    "      the_vars[1] = h\n",
    "      \n",
    "      surface flux from drag law with subsidense and diagnosed deltheta\n",
    "    \"\"\"\n",
    "    #print('the_vars: ',the_vars,D,U)\n",
    "    k=0.2\n",
    "    deltheta = theta_ft(the_vars[1],coeffs.intercept,coeffs.gamma) - the_vars[0]\n",
    "    Cd = 1.e-3\n",
    "    F0 = coeffs.U*Cd*(coeffs.sst - the_vars[0])\n",
    "    Fint = -k*F0\n",
    "    went = -Fint/deltheta\n",
    "    wsubs = -coeffs.D*the_vars[1]\n",
    "    rho=1.\n",
    "    cp=1004.\n",
    "    derivs=np.empty_like(the_vars)\n",
    "    derivs[0]=(F0 - Fint)/(the_vars[1]*rho) - 0./1004./the_vars[1]\n",
    "    derivs[1] = went + wsubs\n",
    "    return derivs"
   ]
  },
  {
   "cell_type": "code",
   "execution_count": null,
   "metadata": {
    "collapsed": false
   },
   "outputs": [],
   "source": [
    "dtout=15.  #minutes\n",
    "tf=15*24.   #hours\n",
    "dtout=dtout*60. #seconds\n",
    "tf=tf*3600. #seconds\n",
    "sst=310.\n",
    "D=5.e-6  #s-1\n",
    "U=7  #m/s\n",
    "intercept = 292 #K\n",
    "gamma = 6.e-3  #K/m\n",
    "tspan = np.arange(0.,tf,dtout)\n",
    "vars_init=[288.,400.]  #theta (K), height (m) to start\n",
    "the_tup=dict(D=D,U=U,sst=sst,intercept=intercept,gamma=gamma)\n",
    "the_tup=make_tuple('coeffs',the_tup)\n",
    "output=integrate.odeint(dmixed_vars, vars_init, tspan,(the_tup,))\n",
    "result=pd.DataFrame.from_records(output,columns=['theta','h'])\n",
    "result['time']=tspan/3600./24.  #days\n",
    "result['deltheta'] = theta_ft(result['h'].values,intercept,gamma) - result['theta']"
   ]
  },
  {
   "cell_type": "code",
   "execution_count": null,
   "metadata": {
    "collapsed": false
   },
   "outputs": [],
   "source": [
    "%matplotlib inline\n",
    "plt.close('all')\n",
    "plt.style.use('ggplot')\n",
    "fig,ax = plt.subplots(1,3,figsize=(12,10))\n",
    "ax[0].plot(result['time'],result['h'],label='new')\n",
    "ax[0].set(ylabel='height (m)',xlabel='time (days)',title='height')\n",
    "ax[0].legend(loc='best')\n",
    "ax[1].plot(result['time'],result['theta'],label='new')\n",
    "out=ax[1].set(title=r'$\\theta$ (K)')\n",
    "out=ax[2].plot(result['time'],result['deltheta'],label='new')\n",
    "out=ax[2].set(title=r'$\\Delta \\theta$ (K)')"
   ]
  },
  {
   "cell_type": "code",
   "execution_count": null,
   "metadata": {
    "collapsed": true
   },
   "outputs": [],
   "source": []
  }
 ],
 "metadata": {
  "kernelspec": {
   "display_name": "Python 3",
   "language": "python",
   "name": "python3"
  },
  "language_info": {
   "codemirror_mode": {
    "name": "ipython",
    "version": 3
   },
   "file_extension": ".py",
   "mimetype": "text/x-python",
   "name": "python",
   "nbconvert_exporter": "python",
   "pygments_lexer": "ipython3",
   "version": "3.4.3"
  }
 },
 "nbformat": 4,
 "nbformat_minor": 0
}