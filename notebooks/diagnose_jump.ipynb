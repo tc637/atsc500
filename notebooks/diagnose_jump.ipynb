{
 "cells": [
  {
   "cell_type": "markdown",
   "metadata": {},
   "source": [
    "### Compare the old (prognose $\\Delta \\theta$) and new (diagnose $\\Delta \\theta$) with constant surface flux"
   ]
  },
  {
   "cell_type": "code",
   "execution_count": null,
   "metadata": {
    "collapsed": true
   },
   "outputs": [],
   "source": [
    "%matplotlib inline\n",
    "import numpy as np\n",
    "import scipy.integrate as integrate\n",
    "from matplotlib import pyplot as plt\n",
    "import pandas as pd\n",
    "\n",
    "#\n",
    "# old code: predict inversion jump as third variable\n",
    "#\n",
    "def dmixed_vars_old(the_vars,tstep,F0,wh,gamma):\n",
    "    \"\"\"\n",
    "      derivatives for simple mixed layer (see mixed layer notes eqn. 11-13)\n",
    "    \"\"\"\n",
    "    k=0.2\n",
    "    rho=1.\n",
    "    cp=1004.\n",
    "    derivs=np.empty_like(the_vars)\n",
    "    derivs[0]=(1 + k)*F0/(the_vars[1]*cp*rho)\n",
    "    derivs[1] = k*F0/(rho*cp*the_vars[2]) + wh\n",
    "    derivs[2] = (derivs[1] - wh)*gamma - derivs[0]\n",
    "    return derivs"
   ]
  },
  {
   "cell_type": "markdown",
   "metadata": {},
   "source": [
    "### Turn off subsidence and save prognostic $\\Delta \\theta$ in old_result dataframe\n",
    "\n",
    "Compare side by side with diagnostic value"
   ]
  },
  {
   "cell_type": "code",
   "execution_count": null,
   "metadata": {
    "collapsed": false
   },
   "outputs": [],
   "source": [
    "gamma=6.e-3  #K/m\n",
    "theta_sst = 290.\n",
    "intercept = 292.\n",
    "h=400.\n",
    "theta=294.\n",
    "theta_ft = intercept + gamma*h\n",
    "del_theta=theta_ft - theta\n",
    "dtout=10.  #minutes\n",
    "tf=8   #hours\n",
    "dtout=dtout*60.\n",
    "tf=tf*3600.\n",
    "tspan = np.arange(0.,tf,dtout)\n",
    "vars_init=[theta,h,del_theta]  #theta (K), height (m), del theta (K) to start\n",
    "\n",
    "F0 = 60 #W/m^2\n",
    "wh= 0.  #m/s\n",
    "output=integrate.odeint(dmixed_vars_old, vars_init, tspan,(F0,wh,gamma))\n",
    "old_result=pd.DataFrame.from_records(output,columns=['theta','h','deltheta'])\n",
    "old_result['time']=tspan/3600./24.  #days\n",
    "old_result['diag_jump'] = (intercept + gamma*old_result['h']) - old_result['theta']\n",
    "\n",
    "plt.close('all')\n",
    "plt.style.use('ggplot')\n",
    "fig,ax = plt.subplots(1,3,figsize=(14,10))\n",
    "out=ax[0].plot(old_result['time'],old_result['h'],label='model')\n",
    "ax[0].set(ylabel='height (m)',xlabel='time (days)',title='height')\n",
    "#\n",
    "# overlay sqrt(time) line for last half of timeseries\n",
    "# passing through the midpoint\n",
    "#\n",
    "\n",
    "full_time=old_result['time'].values\n",
    "midpoint=np.int(len(full_time)/2.)\n",
    "#\n",
    "# start time at zero\n",
    "#\n",
    "the_time_zeroed=full_time[midpoint:] - full_time[midpoint]\n",
    "the_height=old_result['h'].values[midpoint:]\n",
    "h0=the_height[0]\n",
    "hend=the_height[-1]\n",
    "slope=(hend**2. - h0**2.)/the_time_zeroed[-1]\n",
    "hsquared= h0**2. + slope*the_time_zeroed\n",
    "#\n",
    "# move time back to last half of timeseries\n",
    "#\n",
    "the_time_analytic = full_time[midpoint] + the_time_zeroed\n",
    "the_h=np.sqrt(hsquared)\n",
    "ax[0].plot(the_time_analytic,the_h,'b+',label='$\\sqrt{time}$')\n",
    "ax[0].legend(loc='best')\n",
    "\n",
    "out=ax[1].plot(old_result['time'],old_result['theta'])\n",
    "ax[1].set(title=r'$\\theta$')\n",
    "out=ax[2].plot(old_result['time'],old_result['deltheta'],label='prognose')\n",
    "ax[2].set(title=r'$\\Delta \\theta$')\n",
    "out=ax[2].plot(old_result['time'],old_result['diag_jump'],'b+',label='diagnose')\n",
    "out=ax[2].legend(loc='best')\n"
   ]
  },
  {
   "cell_type": "markdown",
   "metadata": {},
   "source": [
    "### Now go to diagnostic jump and compare with old_result"
   ]
  },
  {
   "cell_type": "code",
   "execution_count": null,
   "metadata": {
    "collapsed": true
   },
   "outputs": [],
   "source": [
    "%matplotlib inline\n",
    "import numpy as np\n",
    "import scipy.integrate as integrate\n",
    "from matplotlib import pyplot as plt\n",
    "import pandas as pd\n",
    "\n",
    "\n",
    "\n",
    "def dmixed_vars(the_vars,tstep):\n",
    "    \"\"\"\n",
    "      the_vars[0]= thetabar\n",
    "      the_vars[1] = h\n",
    "      \n",
    "      constant flux F0. no subsidence, diagnosed deltheta\n",
    "    \"\"\"\n",
    "    gamma = 6.e-3\n",
    "    k=0.2\n",
    "    theta_sst = 290.\n",
    "    intercept = 292.\n",
    "    theta_ft = intercept + the_vars[1]*gamma\n",
    "    deltheta = theta_ft - the_vars[0]\n",
    "    F0 = 60./1004.\n",
    "    Fint = -k*F0\n",
    "    went = -Fint/deltheta\n",
    "    rho=1.\n",
    "    cp=1004.\n",
    "    derivs=np.empty_like(the_vars)\n",
    "    derivs[0]=(F0 - Fint)/(the_vars[1]*rho)\n",
    "    derivs[1] = went\n",
    "    return derivs"
   ]
  },
  {
   "cell_type": "code",
   "execution_count": null,
   "metadata": {
    "collapsed": false
   },
   "outputs": [],
   "source": [
    "dtout=10.  #minutes\n",
    "tf=24   #hours\n",
    "dtout=dtout*60.\n",
    "tf=tf*3600.\n",
    "tspan = np.arange(0.,tf,dtout)\n",
    "vars_init=[294.,400.]  #theta (K), height (m) to start\n",
    "output=integrate.odeint(dmixed_vars, vars_init, tspan)\n",
    "result=pd.DataFrame.from_records(output,columns=['theta','h'])\n",
    "result['time']=tspan/3600./24.  #hours"
   ]
  },
  {
   "cell_type": "code",
   "execution_count": null,
   "metadata": {
    "collapsed": false
   },
   "outputs": [],
   "source": [
    "%matplotlib inline\n",
    "plt.close('all')\n",
    "plt.style.use('ggplot')\n",
    "fig,ax = plt.subplots(1,2,figsize=(12,10))\n",
    "ax[0].plot(result['time'],result['h'],label='new')\n",
    "ax[0].plot(old_result['time'],old_result['h'],'b+',label='old')\n",
    "ax[0].set(ylabel='height (m)',xlabel='time (days)',title='height')\n",
    "ax[0].legend(loc='best')\n",
    "ax[1].plot(result['time'],result['theta'],label='new')\n",
    "ax[1].plot(old_result['time'],old_result['theta'],'b+',label='old')\n",
    "ax[1].set(title=r'$\\theta$')\n",
    "out=ax[1].legend(loc='best')\n",
    "\n"
   ]
  },
  {
   "cell_type": "code",
   "execution_count": null,
   "metadata": {
    "collapsed": true
   },
   "outputs": [],
   "source": []
  }
 ],
 "metadata": {
  "kernelspec": {
   "display_name": "Python 3",
   "language": "python",
   "name": "python3"
  },
  "language_info": {
   "codemirror_mode": {
    "name": "ipython",
    "version": 3
   },
   "file_extension": ".py",
   "mimetype": "text/x-python",
   "name": "python",
   "nbconvert_exporter": "python",
   "pygments_lexer": "ipython3",
   "version": "3.4.3"
  }
 },
 "nbformat": 4,
 "nbformat_minor": 0
}