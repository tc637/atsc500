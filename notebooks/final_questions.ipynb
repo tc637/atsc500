{
 "cells": [
  {
   "cell_type": "markdown",
   "metadata": {},
   "source": [
    "## Final questions \n",
    "\n",
    "(weights give an indication of the relative length of my own answers to the queopen book, open notes -- the more detail the better, but don't go nuts, I'm expecting  that you can write  quality  answers to both questions in less than three hours).  Hand in scans/paper or notebook by noon tomorrow."
   ]
  },
  {
   "cell_type": "markdown",
   "metadata": {},
   "source": [
    "### 1. Surface layer similarity\n",
    "\n",
    "In chapter 18 of Stull's \"Practical Meteorology\" he presents the following surface layer similarity relationship for the mean wind speed in the stable boundary layer (18.15):\n",
    "\n",
    "$$M(z) = \\frac{u_*}{k} \\left [ \\ln \\left (\\frac{z}{z_0} \\right ) + 6 \\frac{z}{L} \\right ]$$\n",
    "\n",
    "where \n",
    "\n",
    "$$L = \\frac{-u_*^3}{k \\left (g/T_v \\right ) F_{Hsfc}}$$"
   ]
  },
  {
   "cell_type": "markdown",
   "metadata": {},
   "source": [
    "a. (5)  Define surface layer similarity.  What is the surface layer?  Similar to what?\n",
    "\n",
    "b. (15)  Define the Monin-Obukhov length L.  Why does the ratio z/L appear in the equation?   What is the rationale/evidience  for multipling z/L by the constant 6?  Explain in general physical terms why this dependence\n",
    "of windspeed on  z/L  is expected. \n",
    "\n",
    "c. (5)  When L is large, we recover the relationship for the wind speed in the neutral surface layer.  This relationship is rooted in a statement about the size of turbulent eddies near the ground.  Explain how this assumption about eddy size leads to the log surface layer in 18.15\n",
    "\n",
    "d. (20)  Suppose you have a  model which predicts surface temperature, the temperature at 10 meters, and the wind speed at 10 meters.   To advance your model to the next timestep you need the fluxes of heat and momentum at the surface and at 10 meters.  Explain using a flowchart how you could use surface layer similarity to get those fluxes, assuming you know the surface roughness length $z_0$.  Over what range of conditions would you expect this to function?  (Hint:  I needed to iterate).  How do you use the fluxes to predict the next timestep?   What else would you need to know?\n",
    "\n",
    "e) (10) What changes would you need to make to the above to handle an unstable boundary layer?\n"
   ]
  },
  {
   "cell_type": "markdown",
   "metadata": {},
   "source": [
    "### 2.  Mixed layer modeling"
   ]
  },
  {
   "cell_type": "markdown",
   "metadata": {},
   "source": [
    "Figure 18.17 of Stull: Pracitical Meteorology shows real and idealized profiles for heat flux and potential temperature\n",
    "for a convective mixed layer.\n",
    "\n",
    "a. (15) The potential temperature $\\theta$ (and in a cloudy mixed layer, the liquid water potential temperature\n",
    "$\\theta_l$)  are approximately constant with height below the capping inversion.  Explain why \n",
    "the second of thermodynamics (conservation of entropy) guarantees this.  What assumptions do you need\n",
    "to make about physical processes in the boundary layer?   (Go ahead and use moist and dry static energy and conservation of energy\n",
    "for this discussion if you'd prefer).\n",
    "\n"
   ]
  },
  {
   "cell_type": "markdown",
   "metadata": {},
   "source": [
    "b. (15) A distinctive feature of Figure 18.17 is the capping inversion, which is the sharp boundary between the boundary\n",
    "layer and the free atmosphere.  Explain with the help of equations derived in the course why this boundary exists and\n",
    "what properties of the atmosphere and surface determine the jump between the mixed layer and the air above.\n",
    "\n"
   ]
  },
  {
   "cell_type": "markdown",
   "metadata": {},
   "source": [
    "c. (15) Given a sufficient moisture flux, the top part of the mixed layer will saturate.  How does the presence of a cloud layer affect the fluxes of energy, moisture and buoyancy within and through the top of the mixed layer?"
   ]
  },
  {
   "cell_type": "code",
   "execution_count": null,
   "metadata": {
    "collapsed": true
   },
   "outputs": [],
   "source": []
  }
 ],
 "metadata": {
  "kernelspec": {
   "display_name": "Python 3",
   "language": "python",
   "name": "python3"
  },
  "language_info": {
   "codemirror_mode": {
    "name": "ipython",
    "version": 3
   },
   "file_extension": ".py",
   "mimetype": "text/x-python",
   "name": "python",
   "nbconvert_exporter": "python",
   "pygments_lexer": "ipython3",
   "version": "3.4.3"
  }
 },
 "nbformat": 4,
 "nbformat_minor": 0
}